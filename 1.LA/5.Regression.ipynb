{
 "cells": [
  {
   "cell_type": "markdown",
   "metadata": {},
   "source": [
    "**Лекция 5**\n",
    "\n",
    "# Линейная регрессия"
   ]
  },
  {
   "cell_type": "markdown",
   "metadata": {
    "toc": true
   },
   "source": [
    "<h1>Содержание<span class=\"tocSkip\"></span></h1>\n",
    "<div class=\"toc\"><ul class=\"toc-item\"><li><span><a href=\"#Обозначения\" data-toc-modified-id=\"Обозначения-1\"><span class=\"toc-item-num\">1&nbsp;&nbsp;</span>Обозначения</a></span></li><li><span><a href=\"#Генерация-данных\" data-toc-modified-id=\"Генерация-данных-2\"><span class=\"toc-item-num\">2&nbsp;&nbsp;</span>Генерация данных</a></span></li><li><span><a href=\"#Метод-наименьших-квадратов\" data-toc-modified-id=\"Метод-наименьших-квадратов-3\"><span class=\"toc-item-num\">3&nbsp;&nbsp;</span>Метод наименьших квадратов</a></span></li><li><span><a href=\"#Линейная-регрессия\" data-toc-modified-id=\"Линейная-регрессия-4\"><span class=\"toc-item-num\">4&nbsp;&nbsp;</span>Линейная регрессия</a></span><ul class=\"toc-item\"><li><span><a href=\"#Формулировка-задачи\" data-toc-modified-id=\"Формулировка-задачи-4.1\"><span class=\"toc-item-num\">4.1&nbsp;&nbsp;</span>Формулировка задачи</a></span></li><li><span><a href=\"#Решение\" data-toc-modified-id=\"Решение-4.2\"><span class=\"toc-item-num\">4.2&nbsp;&nbsp;</span>Решение</a></span></li><li><span><a href=\"#Пример.-Полиномиальная-регрессия\" data-toc-modified-id=\"Пример.-Полиномиальная-регрессия-4.3\"><span class=\"toc-item-num\">4.3&nbsp;&nbsp;</span>Пример. Полиномиальная регрессия</a></span></li></ul></li><li><span><a href=\"#Алгоритмы-решения-задачи-МНК\" data-toc-modified-id=\"Алгоритмы-решения-задачи-МНК-5\"><span class=\"toc-item-num\">5&nbsp;&nbsp;</span>Алгоритмы решения задачи МНК</a></span><ul class=\"toc-item\"><li><span><a href=\"#Разложение-Холецкого\" data-toc-modified-id=\"Разложение-Холецкого-5.1\"><span class=\"toc-item-num\">5.1&nbsp;&nbsp;</span>Разложение Холецкого</a></span></li><li><span><a href=\"#QR-разложение\" data-toc-modified-id=\"QR-разложение-5.2\"><span class=\"toc-item-num\">5.2&nbsp;&nbsp;</span>QR-разложение</a></span></li></ul></li><li><span><a href=\"#Источники\" data-toc-modified-id=\"Источники-6\"><span class=\"toc-item-num\">6&nbsp;&nbsp;</span>Источники</a></span></li></ul></div>"
   ]
  },
  {
   "cell_type": "code",
   "execution_count": 1,
   "metadata": {},
   "outputs": [],
   "source": [
    "# Imports\n",
    "import sys\n",
    "import numpy as np\n",
    "from numpy import linalg as LA\n",
    "import matplotlib.pyplot as plt"
   ]
  },
  {
   "cell_type": "code",
   "execution_count": 2,
   "metadata": {},
   "outputs": [],
   "source": [
    "# Styles\n",
    "import warnings\n",
    "# warnings.simplefilter(action='ignore', category=FutureWarning)\n",
    "warnings.filterwarnings('ignore')\n",
    "\n",
    "import matplotlib\n",
    "matplotlib.rcParams['font.size'] = 14\n",
    "matplotlib.rcParams['lines.linewidth'] = 1.5\n",
    "matplotlib.rcParams['lines.markersize'] = 4\n",
    "cm = plt.cm.tab10  # Colormap\n",
    "figsize = (8, 5)\n",
    "\n",
    "import seaborn\n",
    "seaborn.set_style('whitegrid')"
   ]
  },
  {
   "cell_type": "markdown",
   "metadata": {},
   "source": [
    "---"
   ]
  },
  {
   "cell_type": "markdown",
   "metadata": {},
   "source": [
    "## Обозначения\n",
    "\n",
    "Задачу обучения по прецедентам при $Y = \\mathbb{R}$ принято называть задачей *восстановления регрессии*. Введём основные обозначения.\n",
    "\n",
    "Задано пространство объектов $X$ и множество ответов $Y$. Мы предполагаем существование зависимости $y^*:X \\rightarrow Y$, значения которой известны только на объектах обучающей выборки $X^m = (x_i, y_i)_{i=1}^m$.\n",
    "\n",
    "Требуется построить алгоритм (&laquo;*функцию регрессии*&raquo;) $a: X \\rightarrow Y$, аппроксимирующий целевую зависимость $y^*$.\n",
    "\n",
    "- $X$ &mdash; объекты; $Y$ &mdash; ответы;\n",
    "- $X^m = (x_i, y_i)_{i=1}^m$ &mdash; обучающая выборка;\n",
    "- $y_i = y^*(x_i), y^*:X \\rightarrow Y$ &mdash; неизвестная зависимость.\n",
    "\n",
    "Общее количество *объектов* $m$, для их индексации используется буква $i$. \\\n",
    "Общее количество *признаков* $n$, для их индексации используется буква $j$. \\\n",
    "Матрица объекты&ndash;признаки имеет размерность $m \\times n$:\n",
    "$$\n",
    "  \\mathbf{F} = \n",
    "  \\begin{pmatrix}\n",
    "    f_1(x_1) & \\ldots & f_n(x_1) \\\\\n",
    "    \\vdots   & \\ddots & \\vdots   \\\\\n",
    "    f_1(x_m) & \\ldots & f_n(x_m) \\\\\n",
    "  \\end{pmatrix}\n",
    "$$."
   ]
  },
  {
   "cell_type": "markdown",
   "metadata": {},
   "source": [
    "---"
   ]
  },
  {
   "cell_type": "markdown",
   "metadata": {},
   "source": [
    "## Генерация данных\n",
    "\n",
    "В качестве обучающих данных будем использовать зашумлённую линейную зависимость между $y$ и $x$.\n",
    "Для выборки данных размером $m$ предполагаемая зависимость может быть смоделирована следующим образом:\n",
    "\n",
    "$$ y_i = \\theta_0 + \\theta_1 x_i + \\epsilon_i  \\quad (i = 1, \\ldots, m). $$\n",
    "\n",
    "Здесь:\n",
    "- $x_i$ &mdash; независимая (входная) переменная выборки $i$, с $x = \\{x_i \\ldots x_m \\}$;\n",
    "- $y_i$ &mdash; зависимая (выходная) переменная выборки $i$, с $y = \\{y_i \\ldots y_m \\}$;\n",
    "- $\\epsilon_i \\sim \\mathcal{N}(0, \\sigma^2)$ &mdash; нормальный шум, влияющий на выходной сигнал $y_i$;\n",
    "- $\\theta = \\{\\theta_0, \\theta_1 \\}$ &mdash; набор параметров: смещение $\\theta_0$ и наклон $\\theta_1$."
   ]
  },
  {
   "cell_type": "code",
   "execution_count": 3,
   "metadata": {},
   "outputs": [],
   "source": [
    "# Define the data\n",
    "np.random.seed(42)\n",
    "# Generate random data\n",
    "n = 20 # Number of samples\n",
    "# Underlying linear relation\n",
    "m = 3  # slope\n",
    "b = 2  # bias\n",
    "# Noise\n",
    "e_std = 0.5  # Standard deviation of the noise\n",
    "err = e_std * np.random.randn(n)  # Noise\n",
    "# Features and output\n",
    "X_train = np.random.uniform(0, 1, n)  # Independent variable x\n",
    "Y_train = X_train * m + b + err  # Dependent variable"
   ]
  },
  {
   "cell_type": "code",
   "execution_count": 4,
   "metadata": {},
   "outputs": [
    {
     "data": {
      "image/png": "[encoded data removed]",
      "text/plain": [
       "<Figure size 576x360 with 1 Axes>"
      ]
     },
     "metadata": {},
     "output_type": "display_data"
    }
   ],
   "source": [
    "# Show the data\n",
    "plt.figure(figsize=figsize)\n",
    "plt.plot(X_train, Y_train, 'o', ms=4, label='data: $(x,y)$')\n",
    "plt.plot([0, 1], [b, m+b], 'k-', label=f'$y = {b:.0f} + {m:.0f}x$')\n",
    "plt.xlim((0, 1))\n",
    "plt.xlabel('$x$')\n",
    "plt.ylabel('$y$')\n",
    "plt.title('Noisy data samples from linear line')\n",
    "plt.legend()\n",
    "plt.show()"
   ]
  },
  {
   "cell_type": "markdown",
   "metadata": {},
   "source": [
    "---"
   ]
  },
  {
   "cell_type": "markdown",
   "metadata": {},
   "source": [
    "## Метод наименьших квадратов\n",
    "\n",
    "Пусть задана *модель регрессии* &mdash; параметрическое семейство функций $g(x,\\alpha)$, где $\\alpha \\in \\mathbb{R}^p$ &mdash; вектор параметров модели. \n",
    "\n",
    "Определим функционал качества аппроксимации целевой зависимости на выборке $X^m$ как сумму квадратов ошибок:\n",
    "$$ Q(\\alpha, X^m) = \\sum_{i=1}^m \\left( g(x_i, \\alpha) - y_i \\right)^2. $$\n",
    "\n",
    "Обучение по *методу наименьших квадратов* (МНК) состоит в том, чтобы найти вектор параметров $\\alpha^*$, при котором достигается минимум среднего квадрата ошибки на заданной обучающей выборке $X^m$:\n",
    "\n",
    "$$ \\alpha^* = \\underset{\\alpha \\in \\mathbb{R}^p}{\\mathrm{argmin}} \\, {Q(\\alpha, X^m)}. $$\n",
    "\n",
    "Стандартный способ решения этой оптимизационной задачи &mdash; воспользоваться необходимым условием минимума.\n",
    "Если функция $g(x, \\alpha)$ достаточное число раз дифференцируема по $\\alpha$, то в точке минимума выполняется система $p$ уравнений относительно $p$ неизвестных:\n",
    "\n",
    "$$ \\frac{\\delta}{\\delta \\alpha} Q(\\alpha, X^m) = 2 \\sum_{i=1}^{m} \\left( g(x_i, \\alpha) -y_i \\right) \\frac{\\delta}{\\delta \\alpha} g(x_i, \\alpha) = 0. $$"
   ]
  },
  {
   "cell_type": "markdown",
   "metadata": {},
   "source": [
    "---"
   ]
  },
  {
   "cell_type": "markdown",
   "metadata": {},
   "source": [
    "## Линейная регрессия\n",
    "\n",
    "### Формулировка задачи\n",
    "\n",
    ">Линейная регрессия является одной из самых простых моделей машинного обучения. Есть мнение, что её даже не следует классифицировать как &laquo;машинное обучение&raquo;, потому что она слишком простая.\n",
    ">Тем не менее, простота делает её прекрасной отправной точкой для понимания более сложных методов.\n",
    "\n",
    "Пусть каждому объекту соответствует его признаковое описание $\\left( f_1(x), \\ldots, f_n(x)\\right)$, где $f_j: X \\rightarrow \\mathbb{R}$ &mdash; числовые признаки, $j = 1, \\ldots , n$.\n",
    "Линейной моделью регрессии называется линейная комбинация признаков с коэффициентами $\\alpha \\in \\mathbb{R}^n$:\n",
    "$$ g(x, \\alpha) = \\sum_{j=1}^n \\alpha_j f_j(x). $$\n",
    "\n",
    "Введём матричные обозначения: $F = \\left( f_j(x_i) \\right)_{m \\times n}$ &mdash; матрица объекты–признаки;\n",
    "$y = \\left( y_i \\right)_{m \\times 1}$ &mdash; целевой вектор;\n",
    "$\\alpha = \\left( \\alpha_i \\right)_{n \\times 1}$ &mdash; вектор параметров.\n",
    "\n",
    "Применим метод наименьших квадратов к нашей линейной модели.\n",
    "\n",
    "В матричных обозначениях функционал качества $Q$ принимает вид\n",
    "$$ Q(\\alpha) = \\left\\Vert F\\alpha - y \\right\\Vert^2. $$\n",
    "\n",
    "Тогда задача поиска параметров регрессии может быть сформулирована так: \n",
    "$$ \\alpha^* = \\underset{\\alpha \\in \\mathbb{R}^n}{\\text{argmin}} \\, {\\left\\Vert F\\alpha - y \\right\\Vert^2}. $$"
   ]
  },
  {
   "cell_type": "markdown",
   "metadata": {},
   "source": [
    "### Решение ###\n",
    "\n",
    "Запишем функционал качества в матричном виде:\n",
    "$$ Q(\\alpha) = (F\\alpha - y)^\\top (F\\alpha - y) $$\n",
    "\n",
    "и выпишем необходимое условие минимума:\n",
    "$$ \\frac{\\delta Q(\\alpha)}{\\delta \\alpha} = 2F^\\top (F\\alpha - y) = 0. $$\n",
    "\n",
    "Отсюда следует $F^{\\top} F \\alpha = F^{\\top}y$.\n",
    "Эта система линейных уравнений относительно $\\alpha$ называется *нормальной системой* для задачи наименьших квадратов.\n",
    "\n",
    "Если матрица $F^{\\top} F$ невырождена (для этого столбцы матрицы $F$ должны быть линейно независимы), то решением нормальной системы является вектор\n",
    "\n",
    "$$ \\alpha^* = (F^{\\top} F)^{-1} F^{\\top} y = F^{+} y. $$\n",
    "\n",
    "Матрица $F^{+} = (F^{\\top} F)^{-1} F^{\\top}$ является *псевдообратной* для прямоугольной матрицы $F$.\n",
    "\n",
    "Подставляя найденное решение в исходный функционал, получаем\n",
    "\n",
    "$$ Q(\\alpha^*) = \\left\\Vert P_Fy - y \\right\\Vert^2, $$\n",
    "\n",
    "где $P_F = FF^{+} = F(F^{\\top}F)^{-1}F^{\\top}$ &mdash; проекционная матрица.\n",
    "\n",
    "Решение имеет простую геометрическую интерпретацию.\n",
    "Произведение $P_Fy$ есть проекция целевого вектора $y$ на линейную оболочку столбцов матрицы $F$.\n",
    "Разность $(P_Fy-y)$ есть проекция целевого вектора $y$ на ортогональное дополнение этой\n",
    "линейной оболочки.\n",
    "Значение функционала $Q(\\alpha^*) = \\left\\Vert P_Fy - y \\right\\Vert^2$ есть квадрат длины перпендикуляра, опущенного из $y$ на линейную оболочку.\n",
    "Таким образом, МНК находит кратчайшее расстояние от $y$ до линейной оболочки столбцов F."
   ]
  },
  {
   "cell_type": "markdown",
   "metadata": {},
   "source": [
    "### Пример. Полиномиальная регрессия\n",
    "\n",
    "Рассмотрим частный случай линейной регрессии &mdash; полиномиальную регрессию.\n",
    "\n",
    "Тогда линейная модель\n",
    "$$ g(x, \\alpha) = \\sum_{j=0}^{n-1} \\alpha_j p_j(x).$$\n",
    "\n",
    "Здесь $p(x) = \\{1, x, \\ldots, x^{n-1}\\}$ &mdash; набор базисных полиномов, $\\alpha = \\{\\alpha_0, \\ldots, \\alpha_{n-1}\\}$ &mdash; набор искомых параметров.\n",
    "\n",
    "Матрица объекты&ndash;признаки в этом случае выглядит так:\n",
    "$$\n",
    "  \\mathbf{F} = \n",
    "  \\begin{pmatrix}\n",
    "    1      & x_1    & \\ldots & x_1^{n-1} \\\\\n",
    "    \\vdots & \\vdots & \\ddots & \\vdots    \\\\\n",
    "    1      & x_m    & \\ldots & x_m^{n-1} \\\\\n",
    "  \\end{pmatrix}.\n",
    "$$\n",
    "\n",
    "Пример построения полиномиальной регрессии для наших данных приведён ниже."
   ]
  },
  {
   "cell_type": "code",
   "execution_count": 5,
   "metadata": {},
   "outputs": [
    {
     "data": {
      "text/plain": [
       "array([1.86789431, 3.10047182])"
      ]
     },
     "metadata": {},
     "output_type": "display_data"
    }
   ],
   "source": [
    "# The number of features\n",
    "Nf = 2\n",
    "\n",
    "# Make objects-features matrix: stack ones and X\n",
    "F = np.ones_like(X_train)\n",
    "for i in range(1, Nf):\n",
    "    F = np.vstack((F, X_train**i))\n",
    "F = F.T\n",
    "\n",
    "# Find optimal hyperparameters\n",
    "Alpha = LA.inv(F.T @ F) @ F.T @ Y_train\n",
    "display(Alpha)\n",
    "\n",
    "# Function representing fitted line\n",
    "f = lambda x: sum([Alpha[i]*x**i for i in range(Nf)])"
   ]
  },
  {
   "cell_type": "code",
   "execution_count": 6,
   "metadata": {},
   "outputs": [
    {
     "data": {
      "image/png": "[encoded data removed]",
      "text/plain": [
       "<Figure size 576x360 with 1 Axes>"
      ]
     },
     "metadata": {},
     "output_type": "display_data"
    }
   ],
   "source": [
    "# Show fitted line\n",
    "X_disp = np.linspace(0, 1, 100)\n",
    "OLS_label = f'$y = {Alpha[0]:.2f} + {Alpha[1]:.2f} x$' \\\n",
    "if (Nf==2) else 'OLS'\n",
    "\n",
    "plt.figure(figsize=figsize)\n",
    "plt.plot(X_train, Y_train, 'o', ms=4, label='data $(x,y)$')\n",
    "plt.plot([0, 1], [b, m+b], 'k-', label=f'$y = {b:.0f} + {m:.0f}x$')\n",
    "plt.plot(X_disp, f(X_disp), '-', c=cm(3),\n",
    "         label=OLS_label)\n",
    "plt.legend()\n",
    "plt.title('Least squares regression fit')\n",
    "plt.xlabel('$x$')\n",
    "plt.ylabel('$y$')\n",
    "plt.xlim((0, 1))\n",
    "plt.show()"
   ]
  },
  {
   "cell_type": "markdown",
   "metadata": {},
   "source": [
    "## Алгоритмы решения задачи МНК\n",
    "\n",
    "Рассмотрим задачу МНК с точки зрения вычислительной математики.\n",
    "\n",
    "### Разложение Холецкого\n",
    "\n",
    "Матрица $F$ должна быть полного ранга. \\\n",
    "Так как матрица $F^\\top F$ симметрическая и положительно определённая, её можно разложить по Холецкому.\n",
    "Дальше нужно последовательно решить две системы линейных уравнений с треугольными матрицами."
   ]
  },
  {
   "cell_type": "code",
   "execution_count": 7,
   "metadata": {},
   "outputs": [
    {
     "name": "stdout",
     "output_type": "stream",
     "text": [
      "[1.86789431 3.10047182]\n"
     ]
    }
   ],
   "source": [
    "# 0. Set up the problem\n",
    "FtF = F.T @ F\n",
    "Fty = F.T @ Y_train\n",
    "\n",
    "# 1. Compute Cholesky factorization of FtF\n",
    "L = LA.cholesky(FtF)\n",
    "\n",
    "# 2. Solve the lower triangular system Lt*w = Ft*y for w\n",
    "L_inv = LA.inv(L)\n",
    "w = L_inv @ Fty\n",
    "\n",
    "# 3. Solve the upper triangular system L*x = w for x\n",
    "x_chol = L_inv.T @ w\n",
    "np.disp(x_chol)"
   ]
  },
  {
   "cell_type": "markdown",
   "metadata": {},
   "source": [
    "Алгоритм требует $O(mn^2 + \\frac{1}{3}n^3)$ операций. \\\n",
    "Решение нормальной системы уравнений, возможно, будет неустойчивым, поэтому метод рекомендуется только для небольших задач. \\\n",
    "В целом метод *не рекомендуется*."
   ]
  },
  {
   "cell_type": "markdown",
   "metadata": {},
   "source": [
    "### QR-разложение\n",
    "\n",
    "Матрица $F$ должна быть полного ранга. \\\n",
    "Здесь применяется обобщение $QR$-разложения (reduced QR factorization), в котором матрица $Q$ размеров $m \\times n$ составлена из $n$ ортонормированных столбцов, а $R$ &mdash; квадратная верхняя треугольная матрица порядка $n$ ($qR$-разложение)."
   ]
  },
  {
   "cell_type": "code",
   "execution_count": 8,
   "metadata": {},
   "outputs": [
    {
     "name": "stdout",
     "output_type": "stream",
     "text": [
      "[1.86789431 3.10047182]\n"
     ]
    }
   ],
   "source": [
    "# 0. Set up the problem\n",
    "# Already done\n",
    "\n",
    "# 1. Compute reduced QR factorization of F\n",
    "q, R = LA.qr(F)\n",
    "\n",
    "# 2. Solve the upper triangular system R*x = Qt*y for x\n",
    "x_qr = LA.inv(R) @ q.T @ Y_train\n",
    "np.disp(x_qr)"
   ]
  },
  {
   "cell_type": "markdown",
   "metadata": {},
   "source": [
    "Алгоритм требует $O(2mn^2 - \\frac{2}{3}n^3)$ операций. \\\n",
    "По сравнению с алгоритмом Холецкого $QR$-алгоритм более устойчив и может рассматриваться как *стандартный метод* решения задачи МНК."
   ]
  },
  {
   "cell_type": "markdown",
   "metadata": {},
   "source": [
    "---"
   ]
  },
  {
   "cell_type": "markdown",
   "metadata": {},
   "source": [
    "## Источники ##\n",
    "\n",
    "1. *Воронцов К.В.* [Математические методы обучения по прецедентам (теория обучения машин)](http://www.machinelearning.ru/wiki/images/6/6d/Voron-ML-1.pdf). &mdash; 141 c.\n",
    "1. [Материалы](http://www.math.iit.edu/~fass/477577_Chapter_5.pdf) автора [G. Fasshauer](http://www.math.iit.edu/~fass/)."
   ]
  },
  {
   "cell_type": "code",
   "execution_count": 11,
   "metadata": {},
   "outputs": [
    {
     "name": "stdout",
     "output_type": "stream",
     "text": [
      "Python: 3.7.11\n",
      "numpy: 1.21.2\n",
      "matplotlib: 3.4.2\n",
      "seaborn: 0.11.2\n"
     ]
    }
   ],
   "source": [
    "# Versions used\n",
    "print('Python: {}.{}.{}'.format(*sys.version_info[:3]))\n",
    "print('numpy: {}'.format(np.__version__))\n",
    "print('matplotlib: {}'.format(matplotlib.__version__))\n",
    "print('seaborn: {}'.format(seaborn.__version__))"
   ]
  },
  {
   "cell_type": "code",
   "execution_count": null,
   "metadata": {},
   "outputs": [],
   "source": []
  }
 ],
 "metadata": {
  "jupytext": {
   "encoding": "# -*- coding: utf-8 -*-",
   "formats": "ipynb,py:light"
  },
  "kernelspec": {
   "display_name": "Python 3",
   "language": "python",
   "name": "python3"
  },
  "language_info": {
   "codemirror_mode": {
    "name": "ipython",
    "version": 3
   },
   "file_extension": ".py",
   "mimetype": "text/x-python",
   "name": "python",
   "nbconvert_exporter": "python",
   "pygments_lexer": "ipython3",
   "version": "3.7.4"
  },
  "toc": {
   "base_numbering": 1,
   "nav_menu": {},
   "number_sections": true,
   "sideBar": true,
   "skip_h1_title": true,
   "title_cell": "Содержание",
   "title_sidebar": "Contents",
   "toc_cell": true,
   "toc_position": {},
   "toc_section_display": true,
   "toc_window_display": false
  }
 },
 "nbformat": 4,
 "nbformat_minor": 4
}
