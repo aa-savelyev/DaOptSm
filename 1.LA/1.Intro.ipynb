{
 "cells": [
  {
   "cell_type": "markdown",
   "metadata": {
    "slideshow": {
     "slide_type": "slide"
    }
   },
   "source": [
    "# Анализ данных, суррогатное моделирование и оптимизция в прикладных задачах #"
   ]
  },
  {
   "cell_type": "markdown",
   "metadata": {},
   "source": [
    "---"
   ]
  },
  {
   "cell_type": "markdown",
   "metadata": {},
   "source": [
    "**Лекция 1**\n",
    "\n",
    "# Информация о курсе. Постановка задачи #"
   ]
  },
  {
   "cell_type": "markdown",
   "metadata": {
    "toc": true
   },
   "source": [
    "<h1>Содержание<span class=\"tocSkip\"></span></h1>\n",
    "<div class=\"toc\"><ul class=\"toc-item\"><li><span><a href=\"#Введение\" data-toc-modified-id=\"Введение-1\"><span class=\"toc-item-num\">1&nbsp;&nbsp;</span>Введение</a></span><ul class=\"toc-item\"><li><span><a href=\"#Аннотация\" data-toc-modified-id=\"Аннотация-1.1\"><span class=\"toc-item-num\">1.1&nbsp;&nbsp;</span>Аннотация</a></span></li><li><span><a href=\"#Содержание-курса\" data-toc-modified-id=\"Содержание-курса-1.2\"><span class=\"toc-item-num\">1.2&nbsp;&nbsp;</span>Содержание курса</a></span></li><li><span><a href=\"#Литература-и-курсы-лекций\" data-toc-modified-id=\"Литература-и-курсы-лекций-1.3\"><span class=\"toc-item-num\">1.3&nbsp;&nbsp;</span>Литература и курсы лекций</a></span></li></ul></li><li><span><a href=\"#Три-типа-машинного-обучения\" data-toc-modified-id=\"Три-типа-машинного-обучения-2\"><span class=\"toc-item-num\">2&nbsp;&nbsp;</span>Три типа машинного обучения</a></span></li><li><span><a href=\"#Постановка-задачи-(пример)\" data-toc-modified-id=\"Постановка-задачи-(пример)-3\"><span class=\"toc-item-num\">3&nbsp;&nbsp;</span>Постановка задачи (пример)</a></span><ul class=\"toc-item\"><li><span><a href=\"#Данные\" data-toc-modified-id=\"Данные-3.1\"><span class=\"toc-item-num\">3.1&nbsp;&nbsp;</span>Данные</a></span></li><li><span><a href=\"#Линейная-регрессия\" data-toc-modified-id=\"Линейная-регрессия-3.2\"><span class=\"toc-item-num\">3.2&nbsp;&nbsp;</span>Линейная регрессия</a></span></li><li><span><a href=\"#Регрессия-на-основе-гауссовских-процессов\" data-toc-modified-id=\"Регрессия-на-основе-гауссовских-процессов-3.3\"><span class=\"toc-item-num\">3.3&nbsp;&nbsp;</span>Регрессия на основе гауссовских процессов</a></span></li></ul></li><li><span><a href=\"#Постановка-задачи\" data-toc-modified-id=\"Постановка-задачи-4\"><span class=\"toc-item-num\">4&nbsp;&nbsp;</span>Постановка задачи</a></span></li><li><span><a href=\"#Источники\" data-toc-modified-id=\"Источники-5\"><span class=\"toc-item-num\">5&nbsp;&nbsp;</span>Источники</a></span></li></ul></div>"
   ]
  },
  {
   "cell_type": "code",
   "execution_count": 1,
   "metadata": {
    "slideshow": {
     "slide_type": "skip"
    }
   },
   "outputs": [],
   "source": [
    "# Imports\n",
    "import sys\n",
    "import numpy as np\n",
    "import matplotlib.pyplot as plt"
   ]
  },
  {
   "cell_type": "code",
   "execution_count": 2,
   "metadata": {
    "slideshow": {
     "slide_type": "skip"
    }
   },
   "outputs": [],
   "source": [
    "# Styles\n",
    "import warnings\n",
    "# warnings.simplefilter(action='ignore', category=FutureWarning)\n",
    "warnings.filterwarnings('ignore')\n",
    "\n",
    "import matplotlib\n",
    "matplotlib.rcParams['font.size'] = 14\n",
    "matplotlib.rcParams['lines.linewidth'] = 1.5\n",
    "matplotlib.rcParams['lines.markersize'] = 4\n",
    "cm = plt.cm.tab10  # Colormap\n",
    "figsize = (7, 4)\n",
    "\n",
    "import seaborn\n",
    "seaborn.set_style('whitegrid')"
   ]
  },
  {
   "cell_type": "markdown",
   "metadata": {},
   "source": [
    "---"
   ]
  },
  {
   "cell_type": "markdown",
   "metadata": {
    "slideshow": {
     "slide_type": "notes"
    }
   },
   "source": [
    "## Введение ##\n",
    "\n",
    "### Аннотация ###\n",
    "\n",
    "Прогресс в сфере компьютерной техники и численных методов изменил задачи, с которыми сталкиваются современные учёные и инженеры, занимающиеся проектированием сложных технических систем.\n",
    "Например, расчёт аэродинамики самолёта с требуемой для практики точностью в настоящее время может быть проведён менее чем за один час.\n",
    "В результате, всё больше усилий исследователей направлено не на получение данных о характеристиках проектируемой системы, а на их анализ, интерпретацию и использование.\n",
    "\n",
    "Предлагаемый курс посвящён методам интеллектуального анализа данных и машинного обучения, применяемым при проектировании технических систем, а также лежащим в основе этих методов разделам математики: линейной алгебре и математической статистики.\n",
    "В программе содержится краткое изложение классических курсов по этим разделам, а также дополнительные главы, такие как сингулярное разложение матриц или случайные процессы.\n",
    "Среди методов машинного обучения рассматриваются метод главных компонент, метод наименьших квадратов, линейная регрессия, гребневая регрессия и др.\n",
    "Отдельный большой блок посвящён гауссовским процессам, а также основанным на них методам суррогатного моделирования и оптимизации.\n",
    "Все рассматриваемые методы реализованы на языке Питон, а их применение проиллюстрировано на примере решения задач, взятых из реальной практики аэродинамического проектирования.\n",
    "\n",
    "Курс ориентирован на студентов 4-го и 5-го курсов, обучающихся по специальностям &laquo;Прикладные математика и физика&raquo; и &laquo;Прикладная математика и информатика&raquo;."
   ]
  },
  {
   "cell_type": "markdown",
   "metadata": {
    "slideshow": {
     "slide_type": "subslide"
    }
   },
   "source": [
    "### Содержание курса ###\n",
    "\n",
    "Цель настоящего курса &mdash; дать краткий обзор методов анализа данных, суррогатного моделирования и оптимизации, которые мы (Отдел вычислительной аэродинамики Отделения аэродинамики силовых установок ЦАГИ) применяем в задачах аэродинамического проектирования, и привести несколько примеров таких задач.\n",
    "\n",
    "Математическим базисом применяемых методов являются линейная алгебра, теория вероятностей и методы оптимизации.\n",
    "Мы начнём с краткого введения в каждую из этих дисциплин и посвятим этому половину нашего курса.\n",
    "\n",
    "1. Введение\n",
    "2. Основные сведения из линейной алгебры\n",
    "   - Умножение матриц (4 способа), ранг матрицы\n",
    "   - Системы линейных уравнений, теорема Фредгольма\n",
    "   - Псевдорешения и псевдообратные матрицы\n",
    "   - Разложения матриц: $A=CR$, $A=LU$, $A=QR$\n",
    "   - Собственные числа и вектора, разложение $A = X \\Lambda X^{-1}$\n",
    "   - Ортогональные, симметричные и положительно определённые матрицы \n",
    "   - Сингулярное разложение матрицы\n",
    "3. Основные сведения из теории вероятностей\n",
    "   - Элементарная теория вероятностей. Вероятностная модель, условная вероятность, формула Байеса\n",
    "   - Случайные величины и их распределения. Числовые характеристики случайных величин\n",
    "   - Многомерное нормальное распределение. Ковариационная матрица, маргинальные и условные распределения\n",
    "4. Машинное обучение и оптимизация\n",
    "   - Линейная регрессия, гребневая регрессия, лассо Тибширани\n",
    "   - Метод главных компонент\n",
    "   - Методы оптимизации\n",
    "5. Гауссовские случайные процессы\n",
    "   - Случайные процессы: базовые понятие и примеры\n",
    "   - Гауссовские случайные процессы\n",
    "   - Регрессия на основе гауссовских процессов\n",
    "   - Влияние параметров ядра и амплитуды шума\n",
    "   - Алгоритм эффективной глобальной оптимизации"
   ]
  },
  {
   "cell_type": "markdown",
   "metadata": {
    "slideshow": {
     "slide_type": "slide"
    }
   },
   "source": [
    "### Литература и курсы лекций ###\n",
    "\n",
    "В основе этого курса лежит достаточно много литературы (несколько десятков источников). Многие части текста взяты из этой литературы напрямую или переведены с английского. Фактически, в настоящий момент данный курс является компиляцией материалов из различных источников с добавлением кода на Питоне и примеров из практики.\n",
    "\n",
    "**Основные источники:**\n",
    "\n",
    "1. *Воронцов К.В.* [Математические методы обучения по прецедентам (теория обучения машин)](http://www.machinelearning.ru/wiki/images/6/6d/Voron-ML-1.pdf). &mdash; 141 c.\n",
    "1. *Strang G.* Linear algebra and learning from data. &mdash; Wellesley-Cambridge Press, 2019. &mdash; 432 p.\n",
    "1. *Ширяев А.Н.* Вероятность &mdash; 1. &mdash; М.: МЦНМО, 2007. &mdash; 517 с.\n",
    "1. Материалы авторов [P. Roelants](https://peterroelants.github.io/) и [M. Krasser ](http://krasserm.github.io/).\n",
    "\n",
    "**Рекомендованные курсы лекций:**\n",
    "\n",
    "1. [Линейная алгебра](https://www.youtube.com/watch?v=WNl10xl1QT8&list=PLthfp5exSWEqSRXkZgMMzTSXL_WwMV9wK), к.ф.-м.н. Павел Александрович Кожевников, МФТИ\n",
    "2. [Теория вероятностей](https://www.youtube.com/watch?v=Q3h9P7lhpNc&list=PLyBWNG-pZKx7kLBRcNW3HXG05BDUrTQVr&index=1), д.ф.-м.н. Максим Евгеньевич Широков, МФТИ\n",
    "3. [Машинное обучение](https://www.youtube.com/watch?v=SZkrxWhI5qM&list=PLJOzdkh8T5krxc4HsHbB8g8f0hu7973fK&index=1), д.ф.-м.н. Константин Вячеславович Воронцов, ШАД (Яндекс)\n",
    "4. [Matrix Methods in Data Analysis, Signal Processing, and Machine Learning](https://www.youtube.com/watch?v=Cx5Z-OslNWE&list=PLUl4u3cNGP63oMNUHXqIUcrkS2PivhN3k), prof. Gilbert Strang, MIT"
   ]
  },
  {
   "cell_type": "markdown",
   "metadata": {},
   "source": [
    "---"
   ]
  },
  {
   "cell_type": "markdown",
   "metadata": {
    "slideshow": {
     "slide_type": "notes"
    }
   },
   "source": [
    "## Три типа машинного обучения ##\n",
    "\n",
    "**Машинное обучение** &mdash; класс методов искусственного интеллекта, характерной чертой которых является не прямое решение задачи, а обучение в процессе применения решений множества сходных задач. Для построения таких методов используются средства математической статистики, численных методов, методов оптимизации, теории вероятностей, теории графов, различные техники работы с данными в цифровой форме.\n",
    "\n",
    "Различают три типа машинного обучения: *обучение с учителем*, *обучение без учителя* и *обучение с подкреплением*.\n",
    "\n",
    "1. **Обучение с учителем** \\\n",
    "Основная задача обучения с учителем состоит в том, чтобы на маркированных *тренировочных данных* построить модель, которая позволит делать прогнозы для ранее не встречавшихся данных. Выделяют две основные задачи: классификация (ответ &mdash; метка принадлежности к классу) и регрессия (ответ &mdash; непрерывная величина).\n",
    "\n",
    "1. **Обучение без учителя** \\\n",
    "В обучении без учителя мы имеем дело с немаркированными данными или данными с неизвестной структурой.\n",
    "Используя методы обучения без учителя, мы можем разведать структуру данных с целью выделения содержательной информации без контроля со стороны известной результирующей переменной или функции вознаграждения.\n",
    "Задачи: кластеризация, снижение размерности.\n",
    "\n",
    "1. **Обучение с подкреплением** \\\n",
    "В отличии от обучения с учителем, когда мы тренируем нашу модель, зная *правильный ответ* заранее, в обучении с подкреплением мы определяем меру *вознаграждения* за выполненные агентом отдельно взятые действия."
   ]
  },
  {
   "cell_type": "markdown",
   "metadata": {
    "slideshow": {
     "slide_type": "subslide"
    }
   },
   "source": [
    "В рамках данного курса мы будем заниматься, в основном, регрессией и оптимизацией на основе регрессии.\n",
    "Но в самом начале будет полезно рассмотреть типичную постановку задачи восстановления регрессии."
   ]
  },
  {
   "cell_type": "markdown",
   "metadata": {},
   "source": [
    "---"
   ]
  },
  {
   "cell_type": "markdown",
   "metadata": {
    "slideshow": {
     "slide_type": "subslide"
    }
   },
   "source": [
    "## Постановка задачи (пример) ##\n",
    "\n",
    "> Регрессия &mdash; это наука о том, как провести линию через точки."
   ]
  },
  {
   "cell_type": "markdown",
   "metadata": {},
   "source": [
    "### Данные ###"
   ]
  },
  {
   "cell_type": "code",
   "execution_count": 3,
   "metadata": {
    "slideshow": {
     "slide_type": "skip"
    }
   },
   "outputs": [],
   "source": [
    "# Define the data\n",
    "n = 20\n",
    "# Underlying relation\n",
    "X_train = np.linspace(0, 1, n)  # Independent variable x\n",
    "Y_true = np.sin(10*X_train)     # Dependent variable y\n",
    "# Noise\n",
    "np.random.seed(42)\n",
    "e_std = 0.5  # Standard deviation of the noise\n",
    "err = e_std * np.random.randn(n)  # Noise\n",
    "# Output\n",
    "Y_train = Y_true + err  # Dependent variable with noise"
   ]
  },
  {
   "cell_type": "code",
   "execution_count": 4,
   "metadata": {
    "cell_style": "center",
    "slideshow": {
     "slide_type": "subslide"
    }
   },
   "outputs": [
    {
     "data": {
      "image/png": "[encoded data removed]",
      "text/plain": [
       "<Figure size 504x288 with 1 Axes>"
      ]
     },
     "metadata": {},
     "output_type": "display_data"
    }
   ],
   "source": [
    "# Show data\n",
    "fig, ax = plt.subplots(figsize=figsize)\n",
    "ax.plot(X_train, Y_train, 'o', label='data: $(x,y)$')\n",
    "plt.xlim((-0.05, 1.05))\n",
    "plt.ylim((-2.5, 2.5))\n",
    "plt.xlabel('$x$')\n",
    "plt.ylabel('$y$')\n",
    "plt.legend()\n",
    "plt.show()"
   ]
  },
  {
   "cell_type": "markdown",
   "metadata": {},
   "source": [
    "### Линейная регрессия ###"
   ]
  },
  {
   "cell_type": "code",
   "execution_count": 5,
   "metadata": {
    "cell_style": "center",
    "slideshow": {
     "slide_type": "fragment"
    }
   },
   "outputs": [
    {
     "data": {
      "image/png": "[encoded data removed]",
      "text/plain": [
       "<Figure size 504x288 with 1 Axes>"
      ]
     },
     "metadata": {},
     "output_type": "display_data"
    }
   ],
   "source": [
    "p1 = np.polyfit(X_train, Y_train, 1)\n",
    "X_disp = np.linspace(0, 1, 1001)\n",
    "\n",
    "fig, ax = plt.subplots(figsize=figsize)\n",
    "ax.plot(X_train, Y_train, 'o', c=cm(0), label='data: $(x,y)$')\n",
    "ax.plot(X_disp, np.polyval(p1, X_disp), '-', c=cm(1), label='model 1')\n",
    "plt.xlim((-0.05, 1.05))\n",
    "plt.ylim((-2.5, 2.5))\n",
    "plt.show()"
   ]
  },
  {
   "cell_type": "code",
   "execution_count": 6,
   "metadata": {
    "cell_style": "center",
    "slideshow": {
     "slide_type": "subslide"
    }
   },
   "outputs": [
    {
     "data": {
      "image/png": "[encoded data removed]",
      "text/plain": [
       "<Figure size 504x288 with 1 Axes>"
      ]
     },
     "metadata": {},
     "output_type": "display_data"
    }
   ],
   "source": [
    "p2 = np.polyfit(X_train, Y_train, 4)\n",
    "\n",
    "fig, ax = plt.subplots(figsize=figsize)\n",
    "ax.plot(X_train, Y_train, 'o', c=cm(0), label='data: $(x,y)$')\n",
    "ax.plot(X_disp, np.polyval(p2, X_disp), '-', c=cm(2), label='model 2')\n",
    "plt.xlim((-0.05, 1.05))\n",
    "plt.ylim((-2.5, 2.5))\n",
    "plt.show()"
   ]
  },
  {
   "cell_type": "code",
   "execution_count": 7,
   "metadata": {
    "cell_style": "center",
    "slideshow": {
     "slide_type": "fragment"
    }
   },
   "outputs": [
    {
     "data": {
      "image/png": "[encoded data removed]",
      "text/plain": [
       "<Figure size 504x288 with 1 Axes>"
      ]
     },
     "metadata": {},
     "output_type": "display_data"
    }
   ],
   "source": [
    "p3 = np.polyfit(X_train, Y_train, n-1)\n",
    "\n",
    "fig, ax = plt.subplots(figsize=figsize)\n",
    "ax.plot(X_train, Y_train, 'o', c=cm(0), label='data: $(x,y)$')\n",
    "ax.plot(X_disp, np.polyval(p3, X_disp), '-', c=cm(3), label='model 3')\n",
    "plt.xlim((-0.05, 1.05))\n",
    "plt.ylim((-2.5, 2.5))\n",
    "plt.show()"
   ]
  },
  {
   "cell_type": "markdown",
   "metadata": {},
   "source": [
    "### Регрессия на основе гауссовских процессов ###"
   ]
  },
  {
   "cell_type": "code",
   "execution_count": 8,
   "metadata": {
    "slideshow": {
     "slide_type": "skip"
    }
   },
   "outputs": [],
   "source": [
    "from sklearn.gaussian_process import GaussianProcessRegressor\n",
    "from sklearn.gaussian_process.kernels import ConstantKernel, RBF"
   ]
  },
  {
   "cell_type": "code",
   "execution_count": 9,
   "metadata": {},
   "outputs": [],
   "source": [
    "# graph_support.hide_code_in_slideshow()\n",
    "rbf = ConstantKernel(1.0) * RBF(length_scale=1.0)\n",
    "gpr = GaussianProcessRegressor(kernel=rbf, n_restarts_optimizer=20)\n",
    "\n",
    "# Train GP model\n",
    "gpr.fit(X_train.reshape(-1, 1), Y_train.reshape(-1, 1))\n",
    "\n",
    "# Compute posterior predictive mean and covariance\n",
    "mu_s, cov_s = gpr.predict(X_disp.reshape(-1, 1), return_cov=True)"
   ]
  },
  {
   "cell_type": "code",
   "execution_count": 10,
   "metadata": {
    "slideshow": {
     "slide_type": "subslide"
    }
   },
   "outputs": [
    {
     "data": {
      "image/png": "[encoded data removed]",
      "text/plain": [
       "<Figure size 504x288 with 1 Axes>"
      ]
     },
     "metadata": {},
     "output_type": "display_data"
    }
   ],
   "source": [
    "# Show data\n",
    "fig, ax = plt.subplots(figsize=figsize)\n",
    "ax.plot(X_train, Y_train, 'o', c=cm(0), label='data: $(x,y)$')\n",
    "ax.plot(X_disp, mu_s, '-', c=cm(4), label='GP')\n",
    "plt.xlim((-0.05, 1.05))\n",
    "plt.ylim((-1.5, 2.0))\n",
    "plt.show()"
   ]
  },
  {
   "cell_type": "code",
   "execution_count": 11,
   "metadata": {},
   "outputs": [],
   "source": [
    "# graph_support.hide_code_in_slideshow(  )\n",
    "gpr = GaussianProcessRegressor(kernel=rbf, alpha=1e-1, n_restarts_optimizer=20)\n",
    "\n",
    "# Train GP model\n",
    "gpr.fit(X_train.reshape(-1, 1), Y_train.reshape(-1, 1))\n",
    "\n",
    "# Compute posterior predictive mean and covariance\n",
    "mu_s, cov_s = gpr.predict(X_disp.reshape(-1, 1), return_cov=True)"
   ]
  },
  {
   "cell_type": "code",
   "execution_count": 12,
   "metadata": {
    "scrolled": true,
    "slideshow": {
     "slide_type": "fragment"
    }
   },
   "outputs": [
    {
     "data": {
      "image/png": "[encoded data removed]",
      "text/plain": [
       "<Figure size 504x288 with 1 Axes>"
      ]
     },
     "metadata": {},
     "output_type": "display_data"
    }
   ],
   "source": [
    "# Show data\n",
    "fig, ax = plt.subplots(figsize=figsize)\n",
    "ax.plot(X_train, Y_train, 'o', c=cm(0), label='data: $(x,y)$')\n",
    "ax.plot(X_disp, mu_s, '-', c=cm(5), label='GP with err')\n",
    "plt.xlim((-0.05, 1.05))\n",
    "plt.ylim((-1.5, 2.0))\n",
    "plt.show()"
   ]
  },
  {
   "cell_type": "markdown",
   "metadata": {},
   "source": [
    "**Задача (упрощённо)**: построить функцию корректно описывающую обучающие данные и обобщающую их на неизвестные (тестовые) данные."
   ]
  },
  {
   "cell_type": "markdown",
   "metadata": {},
   "source": [
    "---"
   ]
  },
  {
   "cell_type": "markdown",
   "metadata": {
    "slideshow": {
     "slide_type": "slide"
    }
   },
   "source": [
    "## Постановка задачи ##\n",
    "\n",
    "Теперь подробнее (взято у К.В. Воронцова).\n",
    "\n",
    "Пусть задано множество объектов $X$ и множество допустимы ответов $Y$. Мы предполагаем существование зависимости $y:X \\rightarrow Y$. При этом значения функции $y_i = y(x_i)$ известны только на конечном подмножестве объектов $\\{x_1, \\ldots, x_l\\} \\subset X$.\n",
    "Пары &laquo;объект &mdash; ответ&raquo; $(x_i, y_i)$ называются *прецедентами*, а совокупность пар $X^l = (x_i, y_i)_{i=1}^l$ &mdash; *обучающей выборкой*.\n",
    "\n",
    "*Признак* $f$ объекта $x$ &mdash; это результат измерения некоторой характеристики объекта.\n",
    "\n",
    "Пусть имеется набор признаков $f_1, \\ldots, f_n$.\n",
    "Вектор $(f_1, \\ldots, f_n)$ называют признаковым описанием объекта $x \\in X$. В дальнейшем мы не будем различать объекты из $X$ и их признаковые описания.\n",
    "Совокупность признаковых описаний всех объектов выборки $X_l$, записанную в виде таблицы размера $l \\times n$, называют матрицей объектов &mdash; признаков:\n",
    "$$\n",
    "  \\mathbf{F} = \n",
    "  \\begin{pmatrix}\n",
    "    f_1(x_1) & \\ldots & f_n(x_1) \\\\\n",
    "    \\vdots   & \\ddots & \\vdots   \\\\\n",
    "    f_1(x_l) & \\ldots & f_n(x_l) \\\\\n",
    "  \\end{pmatrix}.\n",
    "$$\n",
    "\n",
    "Матрица объектов &mdash; признаков является стандартным и наиболее распространённым способом представления исходных данных в прикладных задачах.\n",
    "\n",
    "**Задача**: построить функцию $a: X \\rightarrow Y$, аппроксимирующую неизвестную целевую зависимость $y$. Функция должна корректно описывать обучающие данные и должна быть успешно применима для неизвестных тестовых данных."
   ]
  },
  {
   "cell_type": "markdown",
   "metadata": {
    "slideshow": {
     "slide_type": "skip"
    }
   },
   "source": [
    "---"
   ]
  },
  {
   "cell_type": "markdown",
   "metadata": {
    "slideshow": {
     "slide_type": "slide"
    }
   },
   "source": [
    "## Источники ##\n",
    "\n",
    "1. *Воронцов К.В.* [Математические методы обучения по прецедентам (теория обучения машин)](http://www.machinelearning.ru/wiki/images/6/6d/Voron-ML-1.pdf). &mdash; 141 c.\n",
    "1. *Рашка С.* Python и машинное обучение. &mdash; М.: ДМК Пресс, 2017. &mdash; 418 с."
   ]
  },
  {
   "cell_type": "code",
   "execution_count": 13,
   "metadata": {
    "lines_to_next_cell": 0,
    "slideshow": {
     "slide_type": "skip"
    }
   },
   "outputs": [
    {
     "name": "stdout",
     "output_type": "stream",
     "text": [
      "Python: 3.7.4\n",
      "numpy: 1.18.1\n",
      "matplotlib: 3.1.3\n",
      "seaborn: 0.10.0\n"
     ]
    }
   ],
   "source": [
    "# Versions used\n",
    "print('Python: {}.{}.{}'.format(*sys.version_info[:3]))\n",
    "print('numpy: {}'.format(np.__version__))\n",
    "print('matplotlib: {}'.format(matplotlib.__version__))\n",
    "print('seaborn: {}'.format(seaborn.__version__))"
   ]
  },
  {
   "cell_type": "code",
   "execution_count": null,
   "metadata": {
    "lines_to_next_cell": 2
   },
   "outputs": [],
   "source": []
  }
 ],
 "metadata": {
  "jupytext": {
   "encoding": "# -*- coding: utf-8 -*-",
   "formats": "ipynb,py:light"
  },
  "kernelspec": {
   "display_name": "Python 3",
   "language": "python",
   "name": "python3"
  },
  "language_info": {
   "codemirror_mode": {
    "name": "ipython",
    "version": 3
   },
   "file_extension": ".py",
   "mimetype": "text/x-python",
   "name": "python",
   "nbconvert_exporter": "python",
   "pygments_lexer": "ipython3",
   "version": "3.7.7"
  },
  "toc": {
   "base_numbering": 1,
   "nav_menu": {},
   "number_sections": true,
   "sideBar": true,
   "skip_h1_title": true,
   "title_cell": "Содержание",
   "title_sidebar": "Contents",
   "toc_cell": true,
   "toc_position": {
    "height": "calc(100% - 180px)",
    "left": "10px",
    "top": "150px",
    "width": "191.512px"
   },
   "toc_section_display": true,
   "toc_window_display": false
  }
 },
 "nbformat": 4,
 "nbformat_minor": 4
}
