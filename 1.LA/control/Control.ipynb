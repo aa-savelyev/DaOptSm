{
 "cells": [
  {
   "cell_type": "markdown",
   "metadata": {},
   "source": [
    "# Вопросы к первому семестру"
   ]
  },
  {
   "cell_type": "markdown",
   "metadata": {
    "toc": true
   },
   "source": [
    "<h1>Содержание<span class=\"tocSkip\"></span></h1>\n",
    "<div class=\"toc\"><ul class=\"toc-item\"><li><span><a href=\"#Сингулярное-разложение\" data-toc-modified-id=\"Сингулярное-разложение-1\"><span class=\"toc-item-num\">1&nbsp;&nbsp;</span>Сингулярное разложение</a></span></li><li><span><a href=\"#Число-обусловленности\" data-toc-modified-id=\"Число-обусловленности-2\"><span class=\"toc-item-num\">2&nbsp;&nbsp;</span>Число обусловленности</a></span></li><li><span><a href=\"#Расстояние-Махаланобиса\" data-toc-modified-id=\"Расстояние-Махаланобиса-3\"><span class=\"toc-item-num\">3&nbsp;&nbsp;</span>Расстояние Махаланобиса</a></span></li><li><span><a href=\"#Регрессия-L1\" data-toc-modified-id=\"Регрессия-L1-4\"><span class=\"toc-item-num\">4&nbsp;&nbsp;</span>Регрессия L1</a></span></li></ul></div>"
   ]
  },
  {
   "cell_type": "code",
   "execution_count": 1,
   "metadata": {},
   "outputs": [],
   "source": [
    "# Imports\n",
    "import sys\n",
    "import numpy as np\n",
    "from numpy import linalg as LA\n",
    "import matplotlib.pyplot as plt"
   ]
  },
  {
   "cell_type": "code",
   "execution_count": 2,
   "metadata": {},
   "outputs": [],
   "source": [
    "# Styles\n",
    "import warnings\n",
    "warnings.filterwarnings('ignore')\n",
    "\n",
    "import matplotlib\n",
    "matplotlib.rcParams['font.size'] = 14\n",
    "matplotlib.rcParams['lines.linewidth'] = 1.5\n",
    "matplotlib.rcParams['lines.markersize'] = 4\n",
    "cm = plt.cm.tab10  # Colormap\n",
    "\n",
    "import seaborn\n",
    "seaborn.set_style('whitegrid')"
   ]
  },
  {
   "cell_type": "markdown",
   "metadata": {},
   "source": [
    "---"
   ]
  },
  {
   "cell_type": "markdown",
   "metadata": {},
   "source": [
    "## Сингулярное разложение\n",
    "\n",
    "1. **Вопрос**: Как соотносятся собственные и сингулярные числа матрицы? \\\n",
    "   **Ответ**: В общем случае никак. \\\n",
    "   Но если $S$ &mdash; симметричная положительно определённая матрица, то $S = Q\\Lambda Q^\\top = U\\Sigma V^\\top$. \\\n",
    "   Если $S$ имеет отрицательные собственные числа ($S x = \\lambda x$), то $\\sigma = -\\lambda$, а $u = -x$ или $v = -x$ (одно из двух). \\\n",
    "   (Strang, p. 61)\n",
    "\n",
    "1. **Вопрос**: Рассмотрим матрицу $2 \\times 2$. \\\n",
    "   В общем случае *4 разным элементам* (a, b, c, d) ставится в соответствие *4 геометрических параметра*: угол поворота ($\\alpha$), два коэффициента растяжения ($\\sigma_1, \\sigma_2$), угол обратного поворота ($\\beta$). \\\n",
    "   Но если матрица симметричная, то параметра уже 3 (a, b, b, d). Как в таком случае вычислить четвёрку ($\\alpha$, $\\sigma_1, \\sigma_2$, $\\beta$)? \\\n",
    "   **Ответ**: $\\beta = -\\alpha$. \\\n",
    "   (Strang, p. 62)\n",
    "   \n",
    "1. **Вопрос**: Какова связь между сингулярным и полярным разложением? \\\n",
    "   **Ответ**: $A = U \\Sigma V^\\top = (U V^\\top)(V \\Sigma V^\\top) = Q S$ или $A = U \\Sigma V^\\top = (U \\Sigma U^\\top)(U V^\\top) = K Q$. \\\n",
    "   (Strang, p. 67)\n",
    "   \n",
    "1. **Вопрос**: Какова связь между сингулярными числами и собственными числами матрицы $S$ в полярном разложении? \\\n",
    "   **Ответ**: Собственные числа $S$ &mdash; это сингулярные числа исходной матрицы $A$. \\\n",
    "   (Strang, p. 67)"
   ]
  },
  {
   "cell_type": "markdown",
   "metadata": {},
   "source": [
    "---"
   ]
  },
  {
   "cell_type": "markdown",
   "metadata": {},
   "source": [
    "## Число обусловленности\n",
    "\n",
    "1. **Вопрос**: В рассматриваемом на лекции примере число обусловленности $\\mu(A)=22.15$. Но выше мы нашли, что относительная погрешность увеличилась в $14.88$ раз. Почему так произошло? При каком условии оценка, сделанная по числу обусловленности, будет достигаться? \\\n",
    "   **Ответ**: Максимальная оценка будет достигаться, когда вектор $\\mathbf{b}$ будет параллелен первому сингулярному вектору (первой главной компоненте). Минимальная &mdash; когда параллелен вектору второй главной компоненте (см. иллюстрации ниже).\n",
    "\n",
    "1. **Вопрос**: Если известен вектор $\\mathbf{b}$, как сделать более точную оценку возрастания относительной погрешности? \\\n",
    "   **Ответ**: Оценка даётся по формуле\n",
    "   $$ \\frac{\\|\\delta \\mathbf{x}\\|}{\\|\\mathbf{x}\\|} \\le \\frac{\\|A^{-1}\\| \\|\\mathbf{b}\\|}{\\|A^{-1} \\mathbf{b}\\|} \\frac{\\|\\delta \\mathbf{b}\\|}{\\|\\mathbf{b}\\|}. $$\n",
    "   Величина $\\nu(A, b) = \\frac{\\|A^{-1}\\| \\|\\mathbf{b}\\|}{\\|A^{-1} \\mathbf{b}\\|}$ называется *числом обусловленности системы при заданной правой части* и показывает, во сколько раз моежт возрасти относительная погрешность решения по сравнению с погрешностью правой части при решении системы $A\\mathbf{x} = \\mathbf{b}$."
   ]
  },
  {
   "cell_type": "code",
   "execution_count": 3,
   "metadata": {},
   "outputs": [],
   "source": [
    "A = np.array([[1.0, 1.0],\n",
    "              [1.0, 1.2]])\n",
    "\n",
    "origin = [[0,0], [0,0]] # origin point"
   ]
  },
  {
   "cell_type": "code",
   "execution_count": 28,
   "metadata": {},
   "outputs": [
    {
     "name": "stdout",
     "output_type": "stream",
     "text": [
      "[[0.77781746]\n",
      " [0.77781746]]\n"
     ]
    }
   ],
   "source": [
    "# Creating perturbed vectors B and solve system\n",
    "# Solution\n",
    "x = np.zeros((400, 1))\n",
    "alpha = np.radians(45)\n",
    "b0 = 1.1*np.atleast_2d([np.cos(alpha), np.sin(alpha)]).T  # 1\n",
    "# b0 = -1.1*np.atleast_2d(U[:,0]).T  # 2\n",
    "# b0 = -1.1*np.atleast_2d(U[:,1]).T  # 3\n",
    "print(b0)\n",
    "A_inv = LA.inv(A)\n",
    "x0 = A_inv @ b0\n",
    "\n",
    "# Noise\n",
    "n = 200\n",
    "np.random.seed(42)\n",
    "r = 0.1*np.random.rand(n)\n",
    "phi = 2*np.pi*np.random.rand(n)\n",
    "B1 = b0[0] + r*np.cos(phi)\n",
    "B2 = b0[1] + r*np.sin(phi)\n",
    "B = np.vstack((B1, B2))\n",
    "X = A_inv @ B"
   ]
  },
  {
   "cell_type": "code",
   "execution_count": 23,
   "metadata": {},
   "outputs": [
    {
     "data": {
      "text/plain": [
       "Text(1.0, 1.2, '$\\\\mathbf{a_2}$')"
      ]
     },
     "execution_count": 23,
     "metadata": {},
     "output_type": "execute_result"
    },
    {
     "data": {
      "image/png": "[encoded data removed]",
      "text/plain": [
       "<Figure size 288x288 with 1 Axes>"
      ]
     },
     "metadata": {},
     "output_type": "display_data"
    }
   ],
   "source": [
    "fig, ax1 = plt.subplots(1, 1, figsize=(4, 4))\n",
    "plt.subplots_adjust(wspace=0.4)\n",
    "\n",
    "# Plotting vectors\n",
    "ax1.axhline(y=0, color='k')\n",
    "ax1.axvline(x=0, color='k')\n",
    "ax1.quiver(*origin, A[0,:], A[1,:], color=['g', cm(3)],\n",
    "           width=0.013, angles='xy', scale_units='xy', scale=1)\n",
    "ax1.quiver(*origin, b0[0,:], b0[1,:], color=['k'],\n",
    "           width=0.013, angles='xy', scale_units='xy', scale=1)\n",
    "ax1.set_xlabel('$x_1$')\n",
    "ax1.set_ylabel('$x_2$', rotation=0, ha='right')\n",
    "ax1.set_xlim([-0.2, 1.4])\n",
    "ax1.set_ylim([-0.2, 1.4])\n",
    "ax1.set_aspect('equal')\n",
    "ax1.set_axisbelow(True)\n",
    "ax1.set_title(\"Столбцы матрицы A\")\n",
    "ax1.text(*A[:,0], \"$\\mathbf{a_1}$\")\n",
    "ax1.text(*A[:,1], \"$\\mathbf{a_2}$\")"
   ]
  },
  {
   "cell_type": "code",
   "execution_count": 24,
   "metadata": {},
   "outputs": [
    {
     "data": {
      "image/png": "[encoded data removed]",
      "text/plain": [
       "<Figure size 864x432 with 2 Axes>"
      ]
     },
     "metadata": {},
     "output_type": "display_data"
    }
   ],
   "source": [
    "fig, (ax1, ax2) = plt.subplots(1, 2, figsize=(12,6))\n",
    "\n",
    "plt.subplots_adjust(wspace=0.4)\n",
    "xlims = [-0.3, 1.7]\n",
    "ylims = [-1.0, 1.0]\n",
    "\n",
    "# Plotting X\n",
    "ax1.axhline(y=0, color='k')\n",
    "ax1.axvline(x=0, color='k')\n",
    "ax1.plot(X[0,:], X[1,:], 'ro', ms=1.2, alpha=0.8)\n",
    "ax1.plot(x0[0], x0[1], 'kx', ms=10, mew=2)\n",
    "ax1.set_xlabel('$x_1$')\n",
    "ax1.set_ylabel('$x_2$', rotation=0, ha='right')\n",
    "ax1.set_xlim(xlims)\n",
    "ax1.set_ylim(ylims)\n",
    "ax1.set_aspect('equal')\n",
    "ax1.set_axisbelow(True)\n",
    "ax1.set_title(\"До преобразования\")\n",
    "\n",
    "# Plotting Y\n",
    "ax2.axhline(y=0, color='k')\n",
    "ax2.axvline(x=0, color='k')\n",
    "ax2.plot(B[0, :], B[1, :], 'bo', ms=1.2, alpha=0.8)\n",
    "ax2.plot(b0[0], b0[1], 'rx', ms=10, mew=2)\n",
    "ax2.set_xlabel('$x_1$')\n",
    "ax2.set_ylabel('$x_2$', rotation=0, ha='right')\n",
    "ax2.set_xlim(xlims)\n",
    "ax2.set_ylim(ylims)\n",
    "ax2.set_aspect('equal')\n",
    "ax2.set_axisbelow(True)\n",
    "ax2.set_title(\"После преобразования\")\n",
    "\n",
    "plt.show()"
   ]
  },
  {
   "cell_type": "code",
   "execution_count": 25,
   "metadata": {},
   "outputs": [
    {
     "name": "stdout",
     "output_type": "stream",
     "text": [
      "Максимальное относительное увеличение возмущения max(dx/x : db/b) =  0.9999\n"
     ]
    }
   ],
   "source": [
    "# x_sol = np.array([1.0, 0.0]).T\n",
    "dx = X - x0\n",
    "db = B - b0\n",
    "\n",
    "k1 = np.array(list(map(LA.norm, db.T))) / LA.norm(b0)\n",
    "k2 = np.array(list(map(LA.norm, dx.T))) / LA.norm(x0)\n",
    "\n",
    "print('Максимальное относительное увеличение возмущения max(dx/x : db/b) = ', round(max(k2/k1), 4))"
   ]
  },
  {
   "cell_type": "code",
   "execution_count": 26,
   "metadata": {},
   "outputs": [
    {
     "name": "stdout",
     "output_type": "stream",
     "text": [
      "sigma =  [2.105 0.095]\n",
      "mu(A) =  22.1549\n"
     ]
    }
   ],
   "source": [
    "U, sgm, Vt = LA.svd(A)\n",
    "mu = sgm[0]/sgm[1]\n",
    "print('sigma = ', np.round(sgm, 3))\n",
    "print('mu(A) = ', round(mu, 4))"
   ]
  },
  {
   "cell_type": "code",
   "execution_count": 27,
   "metadata": {},
   "outputs": [
    {
     "name": "stdout",
     "output_type": "stream",
     "text": [
      "1.0\n"
     ]
    }
   ],
   "source": [
    "mu_2 = 1 / sgm[1] * LA.norm(b0) / LA.norm(x0)\n",
    "print(round(mu_2, 4))"
   ]
  },
  {
   "cell_type": "markdown",
   "metadata": {},
   "source": [
    "---"
   ]
  },
  {
   "cell_type": "markdown",
   "metadata": {},
   "source": [
    "## Расстояние Махаланобиса"
   ]
  },
  {
   "cell_type": "markdown",
   "metadata": {},
   "source": [
    "1. **Вопрос**: Рассмотрим набор точек, подчиняющийся многомерному нормальному распределению и образующий класс. Как вычислить расстояние от некоторых выбранных точек до &laquo;центра масс&raquo; класса?\\\n",
    "   **Ответ**: Сначала нужно преобразовать данные (привести эллиптическое облако к круглой форме), а затем посчитать обычное евклидово расстояние. В итоге получиться расстояние Махаланобиса (показать это)."
   ]
  },
  {
   "cell_type": "markdown",
   "metadata": {},
   "source": [
    "---"
   ]
  },
  {
   "cell_type": "markdown",
   "metadata": {},
   "source": [
    "## Регрессия L1"
   ]
  },
  {
   "cell_type": "code",
   "execution_count": 47,
   "metadata": {},
   "outputs": [],
   "source": [
    "from scipy.optimize import minimize"
   ]
  },
  {
   "cell_type": "code",
   "execution_count": 48,
   "metadata": {},
   "outputs": [],
   "source": [
    "## L1 optimization to reject outlier\n",
    "def L1_norm(a):\n",
    "    return np.linalg.norm(a*x-b,ord=1)"
   ]
  },
  {
   "cell_type": "code",
   "execution_count": 159,
   "metadata": {},
   "outputs": [],
   "source": [
    "aL1, aL2 = [0, 0], [0, 0]\n",
    "\n",
    "x = np.sort(4*(np.random.rand(25,1)-0.5),axis=0) # Random data from [-2,2]\n",
    "b = 0.5*x + 0.1*np.random.randn(len(x),1)  # Line y = 0.5x with noise\n",
    "res = np.linalg.lstsq(x,b,rcond=None)[0] # Least-squares slope (no outliers)\n",
    "aL2[0] = res.item(0)\n",
    "\n",
    "a0 = aL2[0]   # initialize to L2 solution\n",
    "res = minimize(L1_norm, a0)\n",
    "# print(res)\n",
    "aL1[0] = res.x[0]  # aL1 is robust"
   ]
  },
  {
   "cell_type": "code",
   "execution_count": 160,
   "metadata": {},
   "outputs": [],
   "source": [
    "b[-1] = -5  # Introduce outlier\n",
    "res = np.linalg.lstsq(x,b,rcond=None)[0] # New slope\n",
    "aL2[1] = res.item(0)\n",
    "\n",
    "a0 = aL2[1]   # initialize to L2 solution\n",
    "res = minimize(L1_norm, a0)\n",
    "# print(res)\n",
    "aL1[1] = res.x[0]  # aL1 is robust"
   ]
  },
  {
   "cell_type": "code",
   "execution_count": 161,
   "metadata": {},
   "outputs": [
    {
     "name": "stdout",
     "output_type": "stream",
     "text": [
      "[0.4746192137088351, 0.21905085607220384]\n",
      "[0.47094949548700693, 0.4688900439751052]\n"
     ]
    }
   ],
   "source": [
    "print(aL2)\n",
    "print(aL1)"
   ]
  },
  {
   "cell_type": "code",
   "execution_count": 162,
   "metadata": {
    "lines_to_next_cell": 0
   },
   "outputs": [
    {
     "data": {
      "image/png": "[encoded data removed]",
      "text/plain": [
       "<Figure size 504x504 with 1 Axes>"
      ]
     },
     "metadata": {},
     "output_type": "display_data"
    }
   ],
   "source": [
    "fig, ax = plt.subplots(1, 1, figsize=(7,7))\n",
    "\n",
    "\n",
    "# Plotting X\n",
    "ax.plot(x[:-1],b[:-1],'ko')           # Data\n",
    "ax.plot(x[-1],b[-1],'o',c=cm(3),ms=7) # Outlier\n",
    "\n",
    "xgrid = np.arange(-2,2,0.01)\n",
    "ax.plot(xgrid,aL2[0]*xgrid,'k-')         # L2 fit (no outlier)\n",
    "ax.plot(xgrid,aL2[1]*xgrid,'--',c=cm(3)) # L2 fit (outlier)\n",
    "ax.plot(xgrid,aL1[1]*xgrid,'--',c=cm(0)) # L1 fit (outlier)\n",
    "\n",
    "ax.set_xlabel('$x_1$')\n",
    "ax.set_ylabel('$x_2$', rotation=0, ha='right')\n",
    "# ax.set_ylim([-2, 2])\n",
    "plt.show()"
   ]
  },
  {
   "cell_type": "code",
   "execution_count": null,
   "metadata": {},
   "outputs": [],
   "source": []
  },
  {
   "cell_type": "code",
   "execution_count": null,
   "metadata": {},
   "outputs": [],
   "source": []
  },
  {
   "cell_type": "code",
   "execution_count": null,
   "metadata": {},
   "outputs": [],
   "source": []
  },
  {
   "cell_type": "code",
   "execution_count": null,
   "metadata": {},
   "outputs": [],
   "source": []
  },
  {
   "cell_type": "code",
   "execution_count": null,
   "metadata": {},
   "outputs": [],
   "source": []
  },
  {
   "cell_type": "code",
   "execution_count": null,
   "metadata": {},
   "outputs": [],
   "source": []
  },
  {
   "cell_type": "code",
   "execution_count": null,
   "metadata": {
    "lines_to_next_cell": 2
   },
   "outputs": [],
   "source": []
  }
 ],
 "metadata": {
  "jupytext": {
   "encoding": "# -*- coding: utf-8 -*-",
   "formats": "ipynb,py:light"
  },
  "kernelspec": {
   "display_name": "Python 3",
   "language": "python",
   "name": "python3"
  },
  "language_info": {
   "codemirror_mode": {
    "name": "ipython",
    "version": 3
   },
   "file_extension": ".py",
   "mimetype": "text/x-python",
   "name": "python",
   "nbconvert_exporter": "python",
   "pygments_lexer": "ipython3",
   "version": "3.7.4"
  },
  "toc": {
   "base_numbering": 1,
   "nav_menu": {},
   "number_sections": true,
   "sideBar": true,
   "skip_h1_title": true,
   "title_cell": "Содержание",
   "title_sidebar": "Contents",
   "toc_cell": true,
   "toc_position": {
    "height": "199.262px",
    "left": "530.987px",
    "top": "253.988px",
    "width": "224.7px"
   },
   "toc_section_display": true,
   "toc_window_display": false
  }
 },
 "nbformat": 4,
 "nbformat_minor": 4
}
