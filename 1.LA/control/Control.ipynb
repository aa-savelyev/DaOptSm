{
 "cells": [
  {
   "cell_type": "markdown",
   "id": "f90eae5d",
   "metadata": {},
   "source": [
    "# Вопросы по первому семестру"
   ]
  },
  {
   "cell_type": "markdown",
   "id": "c707e8e4",
   "metadata": {
    "toc": true
   },
   "source": [
    "<h1>Содержание<span class=\"tocSkip\"></span></h1>\n",
    "<div class=\"toc\"><ul class=\"toc-item\"><li><span><a href=\"#Матрицы\" data-toc-modified-id=\"Матрицы-1\"><span class=\"toc-item-num\">1&nbsp;&nbsp;</span>Матрицы</a></span></li><li><span><a href=\"#Сингулярное-разложение\" data-toc-modified-id=\"Сингулярное-разложение-2\"><span class=\"toc-item-num\">2&nbsp;&nbsp;</span>Сингулярное разложение</a></span></li><li><span><a href=\"#Число-обусловленности\" data-toc-modified-id=\"Число-обусловленности-3\"><span class=\"toc-item-num\">3&nbsp;&nbsp;</span>Число обусловленности</a></span></li><li><span><a href=\"#Регуляризация\" data-toc-modified-id=\"Регуляризация-4\"><span class=\"toc-item-num\">4&nbsp;&nbsp;</span>Регуляризация</a></span></li><li><span><a href=\"#Расстояние-Махаланобиса\" data-toc-modified-id=\"Расстояние-Махаланобиса-5\"><span class=\"toc-item-num\">5&nbsp;&nbsp;</span>Расстояние Махаланобиса</a></span></li><li><span><a href=\"#Регрессия-L1\" data-toc-modified-id=\"Регрессия-L1-6\"><span class=\"toc-item-num\">6&nbsp;&nbsp;</span>Регрессия L1</a></span><ul class=\"toc-item\"><li><span><a href=\"#Норма-Ln\" data-toc-modified-id=\"Норма-Ln-6.1\"><span class=\"toc-item-num\">6.1&nbsp;&nbsp;</span>Норма Ln</a></span></li></ul></li></ul></div>"
   ]
  },
  {
   "cell_type": "code",
   "execution_count": 1,
   "id": "0ff460a8",
   "metadata": {},
   "outputs": [],
   "source": [
    "# Imports\n",
    "import numpy as np\n",
    "from numpy import linalg as LA\n",
    "import matplotlib.pyplot as plt"
   ]
  },
  {
   "cell_type": "code",
   "execution_count": 2,
   "id": "8f90fabd",
   "metadata": {},
   "outputs": [],
   "source": [
    "# Styles\n",
    "import matplotlib\n",
    "matplotlib.rcParams['font.size'] = 14\n",
    "matplotlib.rcParams['lines.linewidth'] = 1.5\n",
    "matplotlib.rcParams['lines.markersize'] = 4\n",
    "cm = plt.cm.tab10  # Colormap\n",
    "\n",
    "import seaborn\n",
    "seaborn.set_style('whitegrid')"
   ]
  },
  {
   "cell_type": "code",
   "execution_count": 3,
   "id": "e0630c04",
   "metadata": {},
   "outputs": [],
   "source": [
    "# import warnings\n",
    "# warnings.filterwarnings('ignore')\n",
    "\n",
    "# %config InlineBackend.figure_formats = ['pdf']\n",
    "# %config Completer.use_jedi = False"
   ]
  },
  {
   "cell_type": "markdown",
   "id": "0f98c105",
   "metadata": {},
   "source": [
    "---"
   ]
  },
  {
   "cell_type": "markdown",
   "id": "38040a73",
   "metadata": {},
   "source": [
    "## Матрицы\n",
    "\n",
    "1. **Вопрос**: Как вычислить нормы Фробениуса матрицы через её сингулярные числа?\\\n",
    "   *Ответ*: Квадрат нормы Фробениуса равен сумме квадратов сингулярных чисел.\\\n",
    "    Квадрат нормы Фробениуса = следу матрицы $A^\\top A$ = сумме квадратов сингулярных чисел."
   ]
  },
  {
   "cell_type": "markdown",
   "id": "e4896de8",
   "metadata": {},
   "source": [
    "---"
   ]
  },
  {
   "cell_type": "markdown",
   "id": "57a418ed",
   "metadata": {},
   "source": [
    "## Сингулярное разложение\n",
    "\n",
    "1. **Вопрос**: Как соотносятся собственные и сингулярные числа матрицы? \\\n",
    "   *Ответ*: В общем случае никак. \\\n",
    "   Но если $S$ &mdash; симметричная матрица, то $S = Q\\Lambda Q^\\top = U\\Sigma V^\\top$. \\\n",
    "   Если $S$ имеет отрицательные собственные числа ($S x = \\lambda x$), то $\\sigma = -\\lambda$, а $u = -x$ или $v = -x$ (одно из двух). \\\n",
    "   Сингулярные числа симметричной матрицы равны модулю её собственных чисел: $\\sigma_i = |\\lambda_i|$.\n",
    "   (Strang, p. 61)\n",
    "\n",
    "1. **Вопрос**: Чему равны сингулярные числа ортогональной матрицы? \\\n",
    "   *Ответ*: Все сингулярные числа ортогональной матрицы равны 1 (вспомним геометрический смысл).\n",
    "\n",
    "1. **Вопрос**: Рассмотрим матрицу $2 \\times 2$. \\\n",
    "   В общем случае *4 разным элементам* (a, b, c, d) ставится в соответствие *4 геометрических параметра*: угол поворота ($\\alpha$), два коэффициента растяжения ($\\sigma_1, \\sigma_2$), угол обратного поворота ($\\beta$). \\\n",
    "   Но если матрица симметричная, то параметра уже 3 (a, b, b, d). Как в таком случае вычислить четвёрку ($\\alpha$, $\\sigma_1, \\sigma_2$, $\\beta$)? \\\n",
    "   *Ответ*: $\\beta = -\\alpha$. \\\n",
    "   (Strang, p. 62)\n",
    "   \n",
    "1. **Вопрос**: Какова связь между сингулярным и полярным разложением? \\\n",
    "   *Ответ*: $A = U \\Sigma V^\\top = (U V^\\top)(V \\Sigma V^\\top) = Q S$ или $A = U \\Sigma V^\\top = (U \\Sigma U^\\top)(U V^\\top) = K Q$. \\\n",
    "   (Strang, p. 67)\n",
    "   \n",
    "1. **Вопрос**: Какова связь между сингулярными числами и собственными числами матрицы $S$ в полярном разложении? \\\n",
    "   *Ответ*: Собственные числа $S$ &mdash; это сингулярные числа исходной матрицы $A$. \\\n",
    "   (Strang, p. 67)"
   ]
  },
  {
   "cell_type": "markdown",
   "id": "0a6408ec",
   "metadata": {},
   "source": [
    "---"
   ]
  },
  {
   "cell_type": "markdown",
   "id": "7827cbaa",
   "metadata": {},
   "source": [
    "## Число обусловленности\n",
    "\n",
    "1. **Вопрос**: В рассматриваемом на лекции примере число обусловленности $\\mu(A)=22.15$. Но выше мы нашли, что относительная погрешность увеличилась в $14.88$ раз. Почему так произошло? При каком условии оценка, сделанная по числу обусловленности, будет достигаться? \\\n",
    "   **Ответ**: Максимальная оценка будет достигаться, когда вектор $\\mathbf{b}$ будет параллелен первому сингулярному вектору (первой главной компоненте). Минимальная &mdash; когда второму сингулярному вектору (см. иллюстрации ниже)."
   ]
  },
  {
   "cell_type": "code",
   "execution_count": 3,
   "id": "85933838",
   "metadata": {},
   "outputs": [],
   "source": [
    "A = np.array([[1.0, 0.9],\n",
    "              [1.0, 1.1]])\n",
    "\n",
    "origin = [[0,0], [0,0]] # origin point"
   ]
  },
  {
   "cell_type": "code",
   "execution_count": null,
   "id": "408a9a90",
   "metadata": {},
   "outputs": [],
   "source": [
    "def make_decor(ax, xlims=None, ylims=None):\n",
    "    for axi in ax:\n",
    "        axi.axhline(y=0, color='k')\n",
    "        axi.axvline(x=0, color='k')\n",
    "        axi.set_xlabel('$x_1$')\n",
    "        axi.set_ylabel('$x_2$', rotation=0, ha='right')\n",
    "        if(xlims):\n",
    "            axi.set_xlim(xlims)\n",
    "            axi.set_ylim(ylims)\n",
    "        axi.set_aspect('equal')\n",
    "        axi.set_axisbelow(True)"
   ]
  },
  {
   "cell_type": "code",
   "execution_count": 4,
   "id": "86ac2f4d",
   "metadata": {},
   "outputs": [
    {
     "name": "stdout",
     "output_type": "stream",
     "text": [
      "lambda =  [0.1 2. ]\n",
      "20.0\n"
     ]
    }
   ],
   "source": [
    "lmbd, U = LA.eig(A)\n",
    "print('lambda = ', np.round(lmbd, 3))\n",
    "print(round(lmbd[1]/lmbd[0], 4))"
   ]
  },
  {
   "cell_type": "code",
   "execution_count": 5,
   "id": "e84349c7",
   "metadata": {},
   "outputs": [
    {
     "name": "stdout",
     "output_type": "stream",
     "text": [
      "sigma =  [2.003 0.1  ]\n",
      "mu(A) =  20.0501\n"
     ]
    }
   ],
   "source": [
    "U, sgm, Vt = LA.svd(A)\n",
    "mu = sgm[0]/sgm[1]\n",
    "print('sigma = ', np.round(sgm, 5))\n",
    "print('mu(A) = ', round(mu, 5))"
   ]
  },
  {
   "cell_type": "code",
   "execution_count": 57,
   "id": "45f60461",
   "metadata": {},
   "outputs": [
    {
     "name": "stdout",
     "output_type": "stream",
     "text": [
      "[[0.67082086]\n",
      " [0.74161943]]\n"
     ]
    }
   ],
   "source": [
    "# Creating vector b (3 variants)n\n",
    "alpha = np.radians(45)\n",
    "# b = np.atleast_2d([np.cos(alpha), np.sin(alpha)]).T  # 1\n",
    "b = -np.atleast_2d(U[:,0]).T  # 2\n",
    "# b = np.atleast_2d(U[:,1]).T  # 3\n",
    "print('b:\\n', b)"
   ]
  },
  {
   "cell_type": "code",
   "execution_count": 55,
   "id": "40de7ca4",
   "metadata": {},
   "outputs": [
    {
     "data": {
      "image/png": "[encoded data removed]",
      "text/plain": [
       "<Figure size 288x288 with 1 Axes>"
      ]
     },
     "metadata": {},
     "output_type": "display_data"
    }
   ],
   "source": [
    "fig, ax = plt.subplots(1, 1, figsize=(4, 4))\n",
    "plt.subplots_adjust(wspace=0.4)\n",
    "make_decor([ax], [-0.2, 1.4], [-0.2, 1.4])\n",
    "\n",
    "# Plotting A\n",
    "ax.quiver(*origin, A[0,:], A[1,:], color=['g', cm(3)],\n",
    "          width=0.013, angles='xy', scale_units='xy', scale=1)\n",
    "ax.quiver(*origin, b[0,:], b[1,:], color=['k'],\n",
    "          width=0.013, angles='xy', scale_units='xy', scale=1)\n",
    "ax.set_title(\"Столбцы матрицы A\")\n",
    "ax.text(*A[:,0], \"$\\mathbf{a_1}$\")\n",
    "ax.text(*A[:,1], \"$\\mathbf{a_2}$\")\n",
    "ax.text(*b, \"$\\mathbf{b}$\")\n",
    "\n",
    "plt.show()"
   ]
  },
  {
   "cell_type": "code",
   "execution_count": 56,
   "id": "e556e53a",
   "metadata": {},
   "outputs": [
    {
     "data": {
      "image/png": "[encoded data removed]",
      "text/plain": [
       "<Figure size 864x432 with 2 Axes>"
      ]
     },
     "metadata": {},
     "output_type": "display_data"
    }
   ],
   "source": [
    "# Creating perturbed vectors B\n",
    "n = 500\n",
    "np.random.seed(42)\n",
    "r = 0.1*np.random.rand(n)\n",
    "phi = 2*np.pi*np.random.rand(n)\n",
    "B1 = b[0] + r*np.cos(phi)\n",
    "B2 = b[1] + r*np.sin(phi)\n",
    "B = np.vstack((B1, B2))"
   ]
  },
  {
   "cell_type": "code",
   "execution_count": 15,
   "id": "64e91a12",
   "metadata": {},
   "outputs": [
    {
     "name": "stdout",
     "output_type": "stream",
     "text": [
      "Максимальное относительное увеличение возмущения max(dx/x : db/b) =  20.0501\n"
     ]
    }
   ],
   "source": [
    "# Solving system\n",
    "A_inv = LA.inv(A)\n",
    "x = A_inv @ b\n",
    "print('x:\\n', x)\n",
    "\n",
    "X = A_inv @ B"
   ]
  },
  {
   "cell_type": "code",
   "execution_count": null,
   "id": "a92eeb10",
   "metadata": {},
   "outputs": [],
   "source": [
    "fig, ax = plt.subplots(1, 2, figsize=(12, 6))\n",
    "\n",
    "plt.subplots_adjust(wspace=0.4)\n",
    "xlims = [-0.3, 1.7]\n",
    "ylims = [-1.0, 1.0]\n",
    "make_decor(ax, xlims, ylims)\n",
    "# make_decor(ax)\n",
    "\n",
    "# Plotting X\n",
    "ax[0].plot(X[0,:], X[1,:], 'ro', ms=1.2, alpha=0.8)\n",
    "ax[0].plot(x[0], x[1], 'kx', ms=10, mew=2)\n",
    "ax[0].set_title(\"До преобразования\")\n",
    "\n",
    "# Plotting B\n",
    "ax[1].plot(B[0, :], B[1, :], 'bo', ms=1.2, alpha=0.8)\n",
    "ax[1].plot(b[0], b[1], 'rx', ms=10, mew=2)\n",
    "ax[1].set_title(\"После преобразования\")\n",
    "\n",
    "plt.show()"
   ]
  },
  {
   "cell_type": "code",
   "execution_count": null,
   "id": "a9c506b8",
   "metadata": {},
   "outputs": [],
   "source": [
    "dx = X - x\n",
    "db = B - b\n",
    "\n",
    "k1 = np.array(list(map(LA.norm, db.T)))\n",
    "k2 = np.array(list(map(LA.norm, dx.T)))\n",
    "\n",
    "print(f'Максимальное увеличение возмущения max(dx/db) = {max(k2/k1):.5g}')\n",
    "\n",
    "print(f'Норма вектора b = {LA.norm(b):.5g}')\n",
    "print(f'Норма вектора x = {LA.norm(x):.5g}')\n",
    "\n",
    "k1 = np.array(list(map(LA.norm, db.T))) / LA.norm(b)\n",
    "k2 = np.array(list(map(LA.norm, dx.T))) / LA.norm(x)\n",
    "\n",
    "print(f'Максимальное относительное увеличение возмущения max(dx/x : db/b) = {max(k2/k1):.5g}')"
   ]
  },
  {
   "cell_type": "markdown",
   "id": "dfaefc46",
   "metadata": {},
   "source": [
    "1. **Вопрос**: Если известен вектор $\\mathbf{b}$, как сделать более точную оценку возрастания относительной погрешности? \\\n",
    "   **Ответ**: Оценка даётся по формуле\n",
    "   $$ \\frac{\\|\\delta \\mathbf{x}\\|}{\\|\\mathbf{x}\\|} \\le \\frac{\\|A^{-1}\\| \\|\\mathbf{b}\\|}{\\|A^{-1} \\mathbf{b}\\|} \\frac{\\|\\delta \\mathbf{b}\\|}{\\|\\mathbf{b}\\|}. $$\n",
    "   Величина $\\nu(A, b) = \\frac{\\|A^{-1}\\| \\|\\mathbf{b}\\|}{\\|A^{-1} \\mathbf{b}\\|}$ называется *числом обусловленности системы при заданной правой части* и показывает, во сколько раз может возрасти относительная погрешность решения по сравнению с погрешностью правой части при решении системы $A\\mathbf{x} = \\mathbf{b}$."
   ]
  },
  {
   "cell_type": "markdown",
   "id": "e0d06bc9",
   "metadata": {},
   "source": [
    "$$ \\nu = \\frac{1}{\\sigma_1} \\frac{\\|\\mathbf{b}\\|}{\\|\\mathbf{x}\\|}  $$"
   ]
  },
  {
   "cell_type": "code",
   "execution_count": 16,
   "id": "67ba2205",
   "metadata": {},
   "outputs": [
    {
     "name": "stdout",
     "output_type": "stream",
     "text": [
      "|b| = |Ax| =  1.0999999999999999\n",
      "|A|*|x| =  1.0999999999999992\n",
      "nu =  20.0501\n"
     ]
    }
   ],
   "source": [
    "nu = 1 / sgm[1] * LA.norm(b) / LA.norm(x)\n",
    "print('|b| = |Ax| = ', LA.norm(b))\n",
    "print('|A|*|x| = ', sgm[0]*LA.norm(x))\n",
    "print('nu = ', round(nu, 4))"
   ]
  },
  {
   "cell_type": "markdown",
   "id": "457def35",
   "metadata": {},
   "source": [
    "---"
   ]
  },
  {
   "cell_type": "markdown",
   "id": "55839f16",
   "metadata": {},
   "source": [
    "## Регуляризация"
   ]
  },
  {
   "cell_type": "markdown",
   "id": "47872ada",
   "metadata": {},
   "source": [
    "1. **Вопрос**: Для задачи, рассматриваемой выше, метод LASSO соответствует выбору одного из двух векторов, SVD &mdash; замене базиса из двух векторов на один, соответствующий максимальному сингулярному числу.\n",
    "   Какая геометрическая интерпретация у гребневой регрессии?"
   ]
  },
  {
   "cell_type": "markdown",
   "id": "82225648",
   "metadata": {},
   "source": [
    "**1. Обычное СЛАУ**"
   ]
  },
  {
   "cell_type": "code",
   "execution_count": null,
   "id": "b8c000ef",
   "metadata": {},
   "outputs": [],
   "source": [
    "print(x)"
   ]
  },
  {
   "cell_type": "markdown",
   "id": "ea8fbca5",
   "metadata": {},
   "source": [
    "**2. OLS**"
   ]
  },
  {
   "cell_type": "code",
   "execution_count": null,
   "id": "48a400c1",
   "metadata": {},
   "outputs": [],
   "source": [
    "print(A)\n",
    "AtA = A.T @ A\n",
    "print(AtA)\n",
    "Atb = A.T @ b\n",
    "print(Atb)"
   ]
  },
  {
   "cell_type": "code",
   "execution_count": null,
   "id": "d00d6a93",
   "metadata": {},
   "outputs": [],
   "source": [
    "lmbd, U = LA.eig(AtA)\n",
    "# print(U)\n",
    "# print(lmbd)"
   ]
  },
  {
   "cell_type": "code",
   "execution_count": null,
   "id": "002c407c",
   "metadata": {},
   "outputs": [],
   "source": [
    "AtA_root = U @ np.diag(lmbd**0.5) @ U.T\n",
    "print(AtA_root)"
   ]
  },
  {
   "cell_type": "code",
   "execution_count": null,
   "id": "19564024",
   "metadata": {},
   "outputs": [],
   "source": [
    "fig, ax = plt.subplots(1, 1, figsize=(4, 4))\n",
    "plt.subplots_adjust(wspace=0.4)\n",
    "make_decor([ax], [-0.2, 1.4], [-0.2, 1.4])\n",
    "# make_decor([ax])\n",
    "\n",
    "# Plotting A\n",
    "ax.quiver(*origin, AtA_root[0,:], AtA_root[1,:], color=['g', cm(3)],\n",
    "          width=0.013, angles='xy', scale_units='xy', scale=1)\n",
    "ax.quiver(*origin, b[0,:], b[1,:], color=['k'],\n",
    "          width=0.013, angles='xy', scale_units='xy', scale=1)\n",
    "ax.set_title(\"Столбцы матрицы A\")\n",
    "ax.text(*AtA_root[:,0], \"$\\mathbf{a_1}$\")\n",
    "ax.text(*AtA_root[:,1], \"$\\mathbf{a_2}$\")\n",
    "ax.text(*b, \"$\\mathbf{b}$\")\n",
    "\n",
    "plt.show()"
   ]
  },
  {
   "cell_type": "code",
   "execution_count": null,
   "id": "a7e847b2",
   "metadata": {},
   "outputs": [],
   "source": [
    "x_OLS = LA.solve(AtA, A.T @ b)\n",
    "print(x_OLS)"
   ]
  },
  {
   "cell_type": "markdown",
   "id": "75760d63",
   "metadata": {},
   "source": [
    "**3. Ridge**"
   ]
  },
  {
   "cell_type": "code",
   "execution_count": null,
   "id": "0dd2d817",
   "metadata": {},
   "outputs": [],
   "source": [
    "delta = 5e-1\n",
    "AtA_ridge = AtA + delta**2*np.identity(2)\n",
    "print(AtA_ridge)"
   ]
  },
  {
   "cell_type": "code",
   "execution_count": null,
   "id": "36573366",
   "metadata": {},
   "outputs": [],
   "source": [
    "lmbd, U = LA.eig(AtA_ridge)\n",
    "# print(U)\n",
    "# print(lmbd)"
   ]
  },
  {
   "cell_type": "code",
   "execution_count": null,
   "id": "4a184bba",
   "metadata": {},
   "outputs": [],
   "source": [
    "AtA_ridge_root = U @ np.diag(lmbd**0.5) @ U.T\n",
    "print(A)\n",
    "print(AtA_root)\n",
    "print(AtA_ridge_root)"
   ]
  },
  {
   "cell_type": "markdown",
   "id": "e773b7b3",
   "metadata": {},
   "source": [
    "Обусловленности матриц"
   ]
  },
  {
   "cell_type": "code",
   "execution_count": null,
   "id": "439a5fff",
   "metadata": {},
   "outputs": [],
   "source": [
    "print(LA.cond(A))\n",
    "print(LA.cond(AtA))\n",
    "print(LA.cond(AtA_ridge))"
   ]
  },
  {
   "cell_type": "code",
   "execution_count": null,
   "id": "bfff1d4b",
   "metadata": {},
   "outputs": [],
   "source": [
    "fig, ax = plt.subplots(1, 1, figsize=(4, 4))\n",
    "plt.subplots_adjust(wspace=0.4)\n",
    "make_decor([ax], [-0.2, 1.4], [-0.2, 1.4])\n",
    "\n",
    "# Plotting A\n",
    "ax.quiver(*origin, AtA_ridge_root[0,:], AtA_ridge_root[1,:], color=['g', cm(3)],\n",
    "          width=0.013, angles='xy', scale_units='xy', scale=1)\n",
    "ax.quiver(*origin, b[0,:], b[1,:], color=['k'],\n",
    "          width=0.013, angles='xy', scale_units='xy', scale=1)\n",
    "ax.set_title(\"Столбцы матрицы A\")\n",
    "ax.text(*AtA_ridge_root[:,0], \"$\\mathbf{a_1}$\")\n",
    "ax.text(*AtA_ridge_root[:,1], \"$\\mathbf{a_2}$\")\n",
    "ax.text(*b, \"$\\mathbf{b}$\")\n",
    "\n",
    "plt.show()"
   ]
  },
  {
   "cell_type": "code",
   "execution_count": null,
   "id": "0761a72e",
   "metadata": {},
   "outputs": [],
   "source": [
    "x_ridge = LA.solve(AtA_ridge, A.T @ b)\n",
    "print(x)\n",
    "print(x_OLS)\n",
    "print(x_ridge)"
   ]
  },
  {
   "cell_type": "code",
   "execution_count": null,
   "id": "6d4a9545",
   "metadata": {},
   "outputs": [],
   "source": [
    "print(A@x)\n",
    "print(A@x_OLS)\n",
    "print(A@x_ridge)"
   ]
  },
  {
   "cell_type": "code",
   "execution_count": null,
   "id": "2b377bc1",
   "metadata": {},
   "outputs": [],
   "source": [
    "X = LA.solve(AtA_ridge, A.T @ B)"
   ]
  },
  {
   "cell_type": "code",
   "execution_count": null,
   "id": "ade921c3",
   "metadata": {},
   "outputs": [],
   "source": [
    "fig, ax = plt.subplots(1, 2, figsize=(12, 6))\n",
    "\n",
    "plt.subplots_adjust(wspace=0.4)\n",
    "xlims = [-0.3, 1.7]\n",
    "ylims = [-1.0, 1.0]\n",
    "make_decor(ax, xlims, ylims)\n",
    "make_decor(ax)\n",
    "\n",
    "# Plotting X\n",
    "ax[0].plot(X[0,:], X[1,:], 'ro', ms=1.2, alpha=0.8)\n",
    "ax[0].plot(x_ridge[0], x_ridge[1], 'kx', ms=7, mew=1.5)\n",
    "# ax[0].plot(x[0], x[1], 'kx', ms=10, mew=2)\n",
    "ax[0].set_title(\"До преобразования\")\n",
    "\n",
    "# Plotting B\n",
    "ax[1].plot(B[0, :], B[1, :], 'bo', ms=1.2, alpha=0.8)\n",
    "ax[1].plot(b[0], b[1], 'rx', ms=10, mew=2)\n",
    "ax[1].set_title(\"После преобразования\")\n",
    "\n",
    "plt.show()"
   ]
  },
  {
   "cell_type": "code",
   "execution_count": null,
   "id": "f8b38eb5",
   "metadata": {},
   "outputs": [],
   "source": [
    "dx = X - x_ridge\n",
    "db = B - b\n",
    "\n",
    "k1 = np.array(list(map(LA.norm, db.T)))\n",
    "k2 = np.array(list(map(LA.norm, dx.T)))\n",
    "\n",
    "print(f'Максимальное увеличение возмущения max(dx/db) = {max(k2/k1):.5g}')\n",
    "\n",
    "print(f'Норма вектора b = {LA.norm(b):.5g}')\n",
    "print(f'Норма вектора x = {LA.norm(x_ridge):.5g}')\n",
    "\n",
    "k1 = np.array(list(map(LA.norm, db.T))) / LA.norm(b)\n",
    "k2 = np.array(list(map(LA.norm, dx.T))) / LA.norm(x_ridge)\n",
    "\n",
    "print(f'Максимальное относительное увеличение возмущения max(dx/x : db/b) = {max(k2/k1):.5g}')"
   ]
  },
  {
   "cell_type": "code",
   "execution_count": null,
   "id": "eb3e7fab",
   "metadata": {},
   "outputs": [],
   "source": [
    "U, sgm, Vt = LA.svd(A)\n",
    "print(sgm)"
   ]
  },
  {
   "cell_type": "code",
   "execution_count": null,
   "id": "8f4c159d",
   "metadata": {},
   "outputs": [],
   "source": [
    "s1, s2 = sgm\n",
    "m2 = ((s1**2 + delta**2)/s1) / ((s2**2 + delta**2)/s2) \n",
    "print(m2)"
   ]
  },
  {
   "cell_type": "markdown",
   "id": "6d3293c6",
   "metadata": {},
   "source": [
    "---"
   ]
  },
  {
   "cell_type": "markdown",
   "id": "cf6c15ec",
   "metadata": {},
   "source": [
    "## Расстояние Махаланобиса"
   ]
  },
  {
   "cell_type": "markdown",
   "id": "6dc65450",
   "metadata": {},
   "source": [
    "1. **Вопрос**: Рассмотрим набор точек, подчиняющийся многомерному нормальному распределению и образующий класс. Как вычислить расстояние от некоторых выбранных точек до &laquo;центра масс&raquo; класса?\\\n",
    "   **Ответ**: Сначала нужно преобразовать данные (привести эллиптическое облако к круглой форме), а затем посчитать обычное евклидово расстояние. В итоге получиться расстояние Махаланобиса (показать это)."
   ]
  },
  {
   "cell_type": "markdown",
   "id": "fb0f67e8",
   "metadata": {},
   "source": [
    "---"
   ]
  },
  {
   "cell_type": "markdown",
   "id": "6c1c4134",
   "metadata": {},
   "source": [
    "## Регрессия L1"
   ]
  },
  {
   "cell_type": "code",
   "execution_count": 3,
   "id": "53cd415a",
   "metadata": {},
   "outputs": [],
   "source": [
    "from scipy.optimize import minimize"
   ]
  },
  {
   "cell_type": "code",
   "execution_count": 29,
   "id": "5bc4f3bb",
   "metadata": {},
   "outputs": [],
   "source": [
    "# L1 optimization to reject outlier\n",
    "def L1_norm(a, *args):\n",
    "    x, b = args\n",
    "    return np.linalg.norm(a*x-b, ord=1)"
   ]
  },
  {
   "cell_type": "code",
   "execution_count": 30,
   "id": "0b09928d",
   "metadata": {},
   "outputs": [],
   "source": [
    "x = np.sort(4*(np.random.rand(25,1)-0.5),axis=0) # Random data from [-2,2]\n",
    "b = 0.5*x + 0.1*np.random.randn(len(x),1)  # Line y = 0.5x with noise\n",
    "\n",
    "b_out = b.copy()\n",
    "b_out[-1] = -5 # Introduce outlier"
   ]
  },
  {
   "cell_type": "code",
   "execution_count": 31,
   "id": "d3fbeb8f",
   "metadata": {},
   "outputs": [],
   "source": [
    "aL1, aL2 = [0, 0], [0, 0]\n",
    "\n",
    "res = np.linalg.lstsq(x,b,rcond=None)[0] # Least-squares slope (no outliers)\n",
    "aL2[0] = res.item(0)\n",
    "\n",
    "res = np.linalg.lstsq(x,b_out,rcond=None)[0] # New slope\n",
    "aL2[1] = res.item(0)"
   ]
  },
  {
   "cell_type": "code",
   "execution_count": 32,
   "id": "111f8fe3",
   "metadata": {},
   "outputs": [
    {
     "name": "stdout",
     "output_type": "stream",
     "text": [
      "[0.47685195640066946, 0.14438377267092983]\n"
     ]
    }
   ],
   "source": [
    "print(aL2)"
   ]
  },
  {
   "cell_type": "code",
   "execution_count": 38,
   "id": "e7573f66",
   "metadata": {},
   "outputs": [],
   "source": [
    "a0 = aL2[0]   # initialize to L2 solution\n",
    "res = minimize(L1_norm, a0, args=(x, b))\n",
    "# print(res)\n",
    "aL1[0] = res.x[0]  # aL1 is robust\n",
    "\n",
    "res = minimize(L1_norm, a0, args=(x, b_out))\n",
    "# print(res)\n",
    "aL1[1] = res.x[0]  # aL1 is robust"
   ]
  },
  {
   "cell_type": "code",
   "execution_count": 39,
   "id": "13a6f743",
   "metadata": {},
   "outputs": [
    {
     "name": "stdout",
     "output_type": "stream",
     "text": [
      "[0.47685195640066946, 0.14438377267092983]\n",
      "[0.47411297145951714, 0.46323540811746633]\n"
     ]
    }
   ],
   "source": [
    "print(aL2)\n",
    "print(aL1)"
   ]
  },
  {
   "cell_type": "code",
   "execution_count": 66,
   "id": "250b7e9b",
   "metadata": {
    "lines_to_next_cell": 0
   },
   "outputs": [
    {
     "data": {
      "image/png": "[encoded data removed]",
      "text/plain": [
       "<Figure size 504x504 with 1 Axes>"
      ]
     },
     "metadata": {},
     "output_type": "display_data"
    }
   ],
   "source": [
    "fig, ax = plt.subplots(1, 1, figsize=(7,7))\n",
    "\n",
    "# Plotting X\n",
    "ax.plot(x[:-1],b[:-1],'ko')               # Data\n",
    "ax.plot(x[-1],b_out[-1],'o',c=cm(3),ms=7) # Outlier\n",
    "\n",
    "xgrid = np.arange(-2,2,0.01)\n",
    "# ax.plot(xgrid,aL2[0]*xgrid,'k-')        # L2 fit (no outlier)\n",
    "ax.plot(xgrid,aL2[1]*xgrid,'-',c=cm(0)) # L2 fit (outlier)\n",
    "ax.plot(xgrid,aL1[1]*xgrid,'-',c=cm(2)) # L1 fit (outlier)\n",
    "\n",
    "ax.set_xlabel('$x_1$')\n",
    "ax.set_ylabel('$x_2$', rotation=0, ha='right')\n",
    "ax.set_ylim([-1.5, 1.5])\n",
    "plt.show()"
   ]
  },
  {
   "cell_type": "markdown",
   "id": "91cd5b9c",
   "metadata": {},
   "source": [
    "### Норма Ln"
   ]
  },
  {
   "cell_type": "code",
   "execution_count": 90,
   "id": "b429f404",
   "metadata": {},
   "outputs": [],
   "source": [
    "# Ln optimization to reject outlier\n",
    "def Ln_norm(a, *args):\n",
    "    x, b, n = args\n",
    "    res = (a*x-b).flatten()\n",
    "    return np.linalg.norm(res, ord=n)"
   ]
  },
  {
   "cell_type": "code",
   "execution_count": 110,
   "id": "db736312",
   "metadata": {
    "scrolled": false
   },
   "outputs": [],
   "source": [
    "n = 3\n",
    "aLn = [0, 0]\n",
    "a0 = aL2[0]   # initialize to L2 solution\n",
    "\n",
    "res = minimize(Ln_norm, a0, args=(x, b_out, n))\n",
    "# print(res)\n",
    "aLn[1] = res.x[0]"
   ]
  },
  {
   "cell_type": "code",
   "execution_count": 111,
   "id": "3fad9922",
   "metadata": {
    "lines_to_next_cell": 2
   },
   "outputs": [
    {
     "name": "stdout",
     "output_type": "stream",
     "text": [
      "[0.47685195640066946, 0.14438377267092983]\n",
      "[0.47411297145951714, 0.46323540811746633]\n",
      "[0, -0.3661344301397036]\n"
     ]
    }
   ],
   "source": [
    "print(aL2)\n",
    "print(aL1)\n",
    "print(aLn)"
   ]
  },
  {
   "cell_type": "code",
   "execution_count": 112,
   "id": "f1af1b81",
   "metadata": {
    "lines_to_next_cell": 0
   },
   "outputs": [
    {
     "data": {
      "image/png": "[encoded data removed]",
      "text/plain": [
       "<Figure size 504x504 with 1 Axes>"
      ]
     },
     "metadata": {},
     "output_type": "display_data"
    }
   ],
   "source": [
    "fig, ax = plt.subplots(1, 1, figsize=(7,7))\n",
    "\n",
    "# Plotting X\n",
    "ax.plot(x[:-1],b[:-1],'ko')               # Data\n",
    "ax.plot(x[-1],b_out[-1],'o',c=cm(3),ms=7) # Outlier\n",
    "\n",
    "xgrid = np.arange(-2,2,0.01)\n",
    "# ax.plot(xgrid,aL2[0]*xgrid,'k-')         # L2 fit (no outlier)\n",
    "ax.plot(xgrid,aL2[1]*xgrid, '-',c=cm(0)) # L2 fit (outlier)\n",
    "ax.plot(xgrid,aL1[1]*xgrid, '-',c=cm(2)) # L1 fit (outlier)\n",
    "ax.plot(xgrid,aLn[1]*xgrid,'--',c=cm(3)) # Ln fit (outlier)\n",
    "\n",
    "ax.set_xlabel('$x_1$')\n",
    "ax.set_ylabel('$x_2$', rotation=0, ha='right')\n",
    "ax.set_ylim([-1.5, 1.5])\n",
    "plt.show()"
   ]
  },
  {
   "cell_type": "code",
   "execution_count": null,
   "id": "0f06cb0b",
   "metadata": {},
   "outputs": [],
   "source": []
  },
  {
   "cell_type": "code",
   "execution_count": null,
   "id": "f7d6eb66",
   "metadata": {},
   "outputs": [],
   "source": []
  },
  {
   "cell_type": "code",
   "execution_count": null,
   "id": "0d9db6b8",
   "metadata": {
    "lines_to_next_cell": 2
   },
   "outputs": [],
   "source": []
  }
 ],
 "metadata": {
  "jupytext": {
   "encoding": "# -*- coding: utf-8 -*-",
   "formats": "ipynb,py:light"
  },
  "kernelspec": {
   "display_name": "Python 3 (ipykernel)",
   "language": "python",
   "name": "python3"
  },
  "language_info": {
   "codemirror_mode": {
    "name": "ipython",
    "version": 3
   },
   "file_extension": ".py",
   "mimetype": "text/x-python",
   "name": "python",
   "nbconvert_exporter": "python",
   "pygments_lexer": "ipython3",
   "version": "3.7.16"
  },
  "toc": {
   "base_numbering": 1,
   "nav_menu": {},
   "number_sections": true,
   "sideBar": true,
   "skip_h1_title": true,
   "title_cell": "Содержание",
   "title_sidebar": "Contents",
   "toc_cell": true,
   "toc_position": {
    "height": "199.262px",
    "left": "530.987px",
    "top": "253.988px",
    "width": "224.7px"
   },
   "toc_section_display": true,
   "toc_window_display": false
  }
 },
 "nbformat": 4,
 "nbformat_minor": 5
}
