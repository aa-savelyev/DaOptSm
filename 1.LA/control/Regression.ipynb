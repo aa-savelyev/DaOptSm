{
 "cells": [
  {
   "cell_type": "markdown",
   "metadata": {},
   "source": [
    "# Вопросы по регрессии"
   ]
  },
  {
   "cell_type": "markdown",
   "metadata": {
    "toc": true
   },
   "source": [
    "<h1>Содержание<span class=\"tocSkip\"></span></h1>\n",
    "<div class=\"toc\"><ul class=\"toc-item\"><li><span><a href=\"#Расстояние-Махаланобиса\" data-toc-modified-id=\"Расстояние-Махаланобиса-1\"><span class=\"toc-item-num\">1&nbsp;&nbsp;</span>Расстояние Махаланобиса</a></span></li><li><span><a href=\"#Регрессия-L1\" data-toc-modified-id=\"Регрессия-L1-2\"><span class=\"toc-item-num\">2&nbsp;&nbsp;</span>Регрессия L1</a></span><ul class=\"toc-item\"><li><span><a href=\"#Норма-Ln\" data-toc-modified-id=\"Норма-Ln-2.1\"><span class=\"toc-item-num\">2.1&nbsp;&nbsp;</span>Норма Ln</a></span></li></ul></li></ul></div>"
   ]
  },
  {
   "cell_type": "code",
   "execution_count": 1,
   "metadata": {},
   "outputs": [],
   "source": [
    "# Imports\n",
    "import numpy as np\n",
    "from numpy import linalg as LA\n",
    "import matplotlib.pyplot as plt"
   ]
  },
  {
   "cell_type": "code",
   "execution_count": 2,
   "metadata": {},
   "outputs": [],
   "source": [
    "# Styles\n",
    "import matplotlib\n",
    "matplotlib.rcParams['font.size'] = 14\n",
    "matplotlib.rcParams['lines.linewidth'] = 1.5\n",
    "matplotlib.rcParams['lines.markersize'] = 4\n",
    "cm = plt.cm.tab10  # Colormap\n",
    "\n",
    "import seaborn\n",
    "seaborn.set_style('whitegrid')"
   ]
  },
  {
   "cell_type": "code",
   "execution_count": 3,
   "metadata": {},
   "outputs": [],
   "source": [
    "# import warnings\n",
    "# warnings.filterwarnings('ignore')\n",
    "\n",
    "# %config InlineBackend.figure_formats = ['pdf']\n",
    "# %config Completer.use_jedi = False"
   ]
  },
  {
   "cell_type": "markdown",
   "metadata": {},
   "source": [
    "---"
   ]
  },
  {
   "cell_type": "markdown",
   "metadata": {},
   "source": [
    "## Расстояние Махаланобиса"
   ]
  },
  {
   "cell_type": "markdown",
   "metadata": {},
   "source": [
    "1. **Вопрос**: Рассмотрим набор точек, подчиняющийся многомерному нормальному распределению и образующий класс. Как вычислить расстояние от некоторых выбранных точек до &laquo;центра масс&raquo; класса?\\\n",
    "   **Ответ**: Сначала нужно преобразовать данные (привести эллиптическое облако к круглой форме), а затем посчитать обычное евклидово расстояние. В итоге получиться расстояние Махаланобиса (показать это)."
   ]
  },
  {
   "cell_type": "markdown",
   "metadata": {},
   "source": [
    "---"
   ]
  },
  {
   "cell_type": "markdown",
   "metadata": {},
   "source": [
    "## Регрессия L1"
   ]
  },
  {
   "cell_type": "code",
   "execution_count": 4,
   "metadata": {},
   "outputs": [],
   "source": [
    "from scipy.optimize import minimize"
   ]
  },
  {
   "cell_type": "code",
   "execution_count": 5,
   "metadata": {},
   "outputs": [],
   "source": [
    "# L1 optimization to reject outlier\n",
    "def L1_norm(a, *args):\n",
    "    x, b = args\n",
    "    return np.linalg.norm(a*x-b, ord=1)"
   ]
  },
  {
   "cell_type": "code",
   "execution_count": 6,
   "metadata": {},
   "outputs": [],
   "source": [
    "x = np.sort(4*(np.random.rand(25,1)-0.5),axis=0) # Random data from [-2,2]\n",
    "b = 0.5*x + 0.1*np.random.randn(len(x),1)  # Line y = 0.5x with noise\n",
    "\n",
    "b_out = b.copy()\n",
    "b_out[-1] = -5 # Introduce outlier"
   ]
  },
  {
   "cell_type": "code",
   "execution_count": 7,
   "metadata": {},
   "outputs": [],
   "source": [
    "aL1, aL2 = [0, 0], [0, 0]\n",
    "\n",
    "res = np.linalg.lstsq(x,b,rcond=None)[0] # Least-squares slope (no outliers)\n",
    "aL2[0] = res.item(0)\n",
    "\n",
    "res = np.linalg.lstsq(x,b_out,rcond=None)[0] # New slope\n",
    "aL2[1] = res.item(0)"
   ]
  },
  {
   "cell_type": "code",
   "execution_count": 8,
   "metadata": {},
   "outputs": [
    {
     "name": "stdout",
     "output_type": "stream",
     "text": [
      "[0.4803782548871225, 0.12364447002212366]\n"
     ]
    }
   ],
   "source": [
    "print(aL2)"
   ]
  },
  {
   "cell_type": "code",
   "execution_count": 9,
   "metadata": {},
   "outputs": [],
   "source": [
    "a0 = aL2[0]   # initialize to L2 solution\n",
    "res = minimize(L1_norm, a0, args=(x, b))\n",
    "# print(res)\n",
    "aL1[0] = res.x[0]  # aL1 is robust\n",
    "\n",
    "res = minimize(L1_norm, a0, args=(x, b_out))\n",
    "# print(res)\n",
    "aL1[1] = res.x[0]  # aL1 is robust"
   ]
  },
  {
   "cell_type": "code",
   "execution_count": 10,
   "metadata": {},
   "outputs": [
    {
     "name": "stdout",
     "output_type": "stream",
     "text": [
      "[0.4803782548871225, 0.12364447002212366]\n",
      "[0.4857242233125988, 0.48502963123948856]\n"
     ]
    }
   ],
   "source": [
    "print(aL2)\n",
    "print(aL1)"
   ]
  },
  {
   "cell_type": "code",
   "execution_count": 11,
   "metadata": {
    "lines_to_next_cell": 0
   },
   "outputs": [
    {
     "data": {
      "image/png": "[encoded data removed]",
      "text/plain": [
       "<Figure size 504x504 with 1 Axes>"
      ]
     },
     "metadata": {},
     "output_type": "display_data"
    }
   ],
   "source": [
    "fig, ax = plt.subplots(1, 1, figsize=(7,7))\n",
    "\n",
    "# Plotting X\n",
    "ax.plot(x[:-1],b[:-1],'ko')               # Data\n",
    "ax.plot(x[-1],b_out[-1],'o',c=cm(3),ms=7) # Outlier\n",
    "\n",
    "xgrid = np.arange(-2,2,0.01)\n",
    "# ax.plot(xgrid,aL2[0]*xgrid,'k-')        # L2 fit (no outlier)\n",
    "ax.plot(xgrid,aL2[1]*xgrid,'-',c=cm(0)) # L2 fit (outlier)\n",
    "ax.plot(xgrid,aL1[1]*xgrid,'-',c=cm(2)) # L1 fit (outlier)\n",
    "\n",
    "ax.set_xlabel('$x_1$')\n",
    "ax.set_ylabel('$x_2$', rotation=0, ha='right')\n",
    "ax.set_ylim([-1.5, 1.5])\n",
    "plt.show()"
   ]
  },
  {
   "cell_type": "markdown",
   "metadata": {},
   "source": [
    "### Норма Ln"
   ]
  },
  {
   "cell_type": "code",
   "execution_count": 12,
   "metadata": {},
   "outputs": [],
   "source": [
    "# Ln optimization to reject outlier\n",
    "def Ln_norm(a, *args):\n",
    "    x, b, n = args\n",
    "    res = (a*x-b).flatten()\n",
    "    return np.linalg.norm(res, ord=n)"
   ]
  },
  {
   "cell_type": "code",
   "execution_count": 13,
   "metadata": {
    "scrolled": false
   },
   "outputs": [],
   "source": [
    "n = 3\n",
    "aLn = [0, 0]\n",
    "a0 = aL2[0]   # initialize to L2 solution\n",
    "\n",
    "res = minimize(Ln_norm, a0, args=(x, b_out, n))\n",
    "# print(res)\n",
    "aLn[1] = res.x[0]"
   ]
  },
  {
   "cell_type": "code",
   "execution_count": 14,
   "metadata": {
    "lines_to_next_cell": 2
   },
   "outputs": [
    {
     "name": "stdout",
     "output_type": "stream",
     "text": [
      "[0.4803782548871225, 0.12364447002212366]\n",
      "[0.4857242233125988, 0.48502963123948856]\n",
      "[0, -0.42003852745142684]\n"
     ]
    }
   ],
   "source": [
    "print(aL2)\n",
    "print(aL1)\n",
    "print(aLn)"
   ]
  },
  {
   "cell_type": "code",
   "execution_count": 15,
   "metadata": {
    "lines_to_next_cell": 0
   },
   "outputs": [
    {
     "data": {
      "image/png": "[encoded data removed]",
      "text/plain": [
       "<Figure size 504x504 with 1 Axes>"
      ]
     },
     "metadata": {},
     "output_type": "display_data"
    }
   ],
   "source": [
    "fig, ax = plt.subplots(1, 1, figsize=(7,7))\n",
    "\n",
    "# Plotting X\n",
    "ax.plot(x[:-1],b[:-1],'ko')               # Data\n",
    "ax.plot(x[-1],b_out[-1],'o',c=cm(3),ms=7) # Outlier\n",
    "\n",
    "xgrid = np.arange(-2,2,0.01)\n",
    "# ax.plot(xgrid,aL2[0]*xgrid,'k-')         # L2 fit (no outlier)\n",
    "ax.plot(xgrid,aL2[1]*xgrid, '-',c=cm(0)) # L2 fit (outlier)\n",
    "ax.plot(xgrid,aL1[1]*xgrid, '-',c=cm(2)) # L1 fit (outlier)\n",
    "ax.plot(xgrid,aLn[1]*xgrid,'--',c=cm(3)) # Ln fit (outlier)\n",
    "\n",
    "ax.set_xlabel('$x_1$')\n",
    "ax.set_ylabel('$x_2$', rotation=0, ha='right')\n",
    "ax.set_ylim([-1.5, 1.5])\n",
    "plt.show()"
   ]
  },
  {
   "cell_type": "code",
   "execution_count": null,
   "metadata": {},
   "outputs": [],
   "source": []
  },
  {
   "cell_type": "code",
   "execution_count": null,
   "metadata": {},
   "outputs": [],
   "source": []
  },
  {
   "cell_type": "code",
   "execution_count": null,
   "metadata": {
    "lines_to_next_cell": 2
   },
   "outputs": [],
   "source": []
  }
 ],
 "metadata": {
  "jupytext": {
   "encoding": "# -*- coding: utf-8 -*-",
   "formats": "ipynb,py:light"
  },
  "kernelspec": {
   "display_name": "Python 3 (ipykernel)",
   "language": "python",
   "name": "python3"
  },
  "language_info": {
   "codemirror_mode": {
    "name": "ipython",
    "version": 3
   },
   "file_extension": ".py",
   "mimetype": "text/x-python",
   "name": "python",
   "nbconvert_exporter": "python",
   "pygments_lexer": "ipython3",
   "version": "3.7.16"
  },
  "toc": {
   "base_numbering": 1,
   "nav_menu": {},
   "number_sections": true,
   "sideBar": true,
   "skip_h1_title": true,
   "title_cell": "Содержание",
   "title_sidebar": "Contents",
   "toc_cell": true,
   "toc_position": {
    "height": "199.262px",
    "left": "530.987px",
    "top": "253.988px",
    "width": "224.7px"
   },
   "toc_section_display": true,
   "toc_window_display": false
  }
 },
 "nbformat": 4,
 "nbformat_minor": 4
}
