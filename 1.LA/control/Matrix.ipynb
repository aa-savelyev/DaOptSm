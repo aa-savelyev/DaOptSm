{
 "cells": [
  {
   "cell_type": "markdown",
   "metadata": {
    "toc": true
   },
   "source": [
    "<h1>Содержание<span class=\"tocSkip\"></span></h1>\n",
    "<div class=\"toc\"><ul class=\"toc-item\"><li><span><a href=\"#Матрицы\" data-toc-modified-id=\"Матрицы-1\"><span class=\"toc-item-num\">1&nbsp;&nbsp;</span>Матрицы</a></span></li><li><span><a href=\"#Сингулярное-разложение\" data-toc-modified-id=\"Сингулярное-разложение-2\"><span class=\"toc-item-num\">2&nbsp;&nbsp;</span>Сингулярное разложение</a></span></li></ul></div>"
   ]
  },
  {
   "cell_type": "markdown",
   "metadata": {},
   "source": [
    "# Вопросы по матрицам"
   ]
  },
  {
   "cell_type": "markdown",
   "metadata": {},
   "source": [
    "<h1>Содержание<span class=\"tocSkip\"></span></h1>\n",
    "<div class=\"toc\"><ul class=\"toc-item\"><li><span><a href=\"#Сингулярное-разложение\" data-toc-modified-id=\"Сингулярное-разложение-1\"><span class=\"toc-item-num\">1&nbsp;&nbsp;</span>Сингулярное разложение</a></span></li><li><span><a href=\"#Число-обусловленности\" data-toc-modified-id=\"Число-обусловленности-2\"><span class=\"toc-item-num\">2&nbsp;&nbsp;</span>Число обусловленности</a></span></li><li><span><a href=\"#Расстояние-Махаланобиса\" data-toc-modified-id=\"Расстояние-Махаланобиса-3\"><span class=\"toc-item-num\">3&nbsp;&nbsp;</span>Расстояние Махаланобиса</a></span></li><li><span><a href=\"#Регрессия-L1\" data-toc-modified-id=\"Регрессия-L1-4\"><span class=\"toc-item-num\">4&nbsp;&nbsp;</span>Регрессия L1</a></span></li></ul></div>"
   ]
  },
  {
   "cell_type": "code",
   "execution_count": 1,
   "metadata": {},
   "outputs": [],
   "source": [
    "# Imports\n",
    "import numpy as np\n",
    "from numpy import linalg as LA\n",
    "import matplotlib.pyplot as plt"
   ]
  },
  {
   "cell_type": "code",
   "execution_count": 2,
   "metadata": {},
   "outputs": [],
   "source": [
    "# Styles\n",
    "import matplotlib\n",
    "matplotlib.rcParams['font.size'] = 14\n",
    "matplotlib.rcParams['lines.linewidth'] = 1.5\n",
    "matplotlib.rcParams['lines.markersize'] = 4\n",
    "cm = plt.cm.tab10  # Colormap\n",
    "\n",
    "import seaborn\n",
    "seaborn.set_style('whitegrid')"
   ]
  },
  {
   "cell_type": "code",
   "execution_count": 3,
   "metadata": {},
   "outputs": [],
   "source": [
    "# import warnings\n",
    "# warnings.filterwarnings('ignore')\n",
    "\n",
    "# %config InlineBackend.figure_formats = ['pdf']\n",
    "# %config Completer.use_jedi = False"
   ]
  },
  {
   "cell_type": "markdown",
   "metadata": {},
   "source": [
    "## Матрицы\n",
    "\n",
    "1. **Вопрос**: Как вычислить норму Фробениуса матрицы через её сингулярные числа? \\\n",
    "   **Ответ**: Квадрат нормы Фробениуса равен сумме квадратов сингулярных чисел. \\\n",
    "    Квадрат нормы Фробениуса = следу матрицы $A^\\top A$ = сумме квадратов сингулярных чисел."
   ]
  },
  {
   "cell_type": "markdown",
   "metadata": {},
   "source": [
    "## Сингулярное разложение\n",
    "\n",
    "1. **Вопрос**: Как соотносятся собственные и сингулярные числа матрицы? \\\n",
    "   **Ответ**: В общем случае никак. \\\n",
    "   Но если $S$ &mdash; симметричная матрица, то $S = Q\\Lambda Q^\\top = U\\Sigma V^\\top$. \\\n",
    "   Если $S$ имеет отрицательные собственные числа ($S x = \\lambda x$), то $\\sigma = -\\lambda$, а $u = -x$ или $v = -x$ (одно из двух). \\\n",
    "   Сингулярные числа симметричной матрицы равны модулю её собственных чисел: $\\sigma_i = |\\lambda_i|$. \\\n",
    "   Также можно показать, что $|\\lambda| \\le \\sigma_1$. \\\n",
    "   (Strang, p. 61)\n",
    "\n",
    "1. **Вопрос**: Привести пример несимметричной матрицы, для которой справедливо $\\sigma_i = |\\lambda_i|$.\\\n",
    "   **Ответ**: Кососимметричная матрица. Собственные числа будут комплексными, модуль которых будет равняться сингулярным числам.\n",
    "\n",
    "1. **Вопрос**: Чему равны сингулярные числа ортогональной матрицы? \\\n",
    "   **Ответ**: Все сингулярные числа ортогональной матрицы равны 1 (вспомним геометрический смысл).\n",
    "\n",
    "1. **Вопрос**: Рассмотрим матрицу $2 \\times 2$. \\\n",
    "   В общем случае *4 разным элементам* (a, b, c, d) ставится в соответствие *4 геометрических параметра*: угол поворота ($\\alpha$), два коэффициента растяжения ($\\sigma_1, \\sigma_2$), угол обратного поворота ($\\beta$). \\\n",
    "   Но если матрица симметричная, то параметра уже 3 (a, b, b, d). Как в таком случае вычислить четвёрку ($\\alpha$, $\\sigma_1, \\sigma_2$, $\\beta$)? \\\n",
    "   **Ответ**: $\\beta = -\\alpha$. \\\n",
    "   (Strang, p. 62)\n",
    "   \n",
    "1. **Вопрос**: Какова связь между сингулярным и полярным разложением? \\\n",
    "   **Ответ**: $A = U \\Sigma V^\\top = (U V^\\top)(V \\Sigma V^\\top) = Q S$ или $A = U \\Sigma V^\\top = (U \\Sigma U^\\top)(U V^\\top) = K Q$. \\\n",
    "   (Strang, p. 67)\n",
    "   \n",
    "1. **Вопрос**: Какова связь между сингулярными числами и собственными числами матрицы $S$ в полярном разложении? \\\n",
    "   **Ответ**: Собственные числа $S$ &mdash; это сингулярные числа исходной матрицы $A$. \\\n",
    "   (Strang, p. 67)"
   ]
  },
  {
   "cell_type": "code",
   "execution_count": null,
   "metadata": {
    "lines_to_next_cell": 2
   },
   "outputs": [],
   "source": []
  },
  {
   "cell_type": "markdown",
   "metadata": {},
   "source": [
    "Нормальность является удобным тестом приводимости к диагональной форме --- матрица нормальна тогда и только тогда, когда она унитарно подобна диагональной матрице, а потому любая матрица $A$, удовлетворяющая уравнению $A^{*}A=AA^{*}$, допускает приведение к диагональной форме.\n",
    "\n",
    "In our case the eigenvalues of $A$ are real.\n",
    "Then\n",
    "$$ A^*=(U^*DU)^*=U^*D^*U=U^*DU=A, $$\n",
    "as $D^*=D$, since the eigenvalues are real."
   ]
  },
  {
   "cell_type": "code",
   "execution_count": 6,
   "metadata": {},
   "outputs": [],
   "source": [
    "A = np.array([\n",
    "    [1, 1, 0],\n",
    "    [0, 1, 1],\n",
    "    [1, 0, 1],\n",
    "])"
   ]
  },
  {
   "cell_type": "code",
   "execution_count": 10,
   "metadata": {},
   "outputs": [
    {
     "name": "stdout",
     "output_type": "stream",
     "text": [
      "lambda =  [0.5+0.866j 0.5-0.866j 2. +0.j   ]\n",
      "U = \n",
      "[[ 0.5774+0.j   0.5774-0.j  -0.5774+0.j ]\n",
      " [-0.2887+0.5j -0.2887-0.5j -0.5774+0.j ]\n",
      " [-0.2887-0.5j -0.2887+0.5j -0.5774+0.j ]]\n"
     ]
    }
   ],
   "source": [
    "lmbd, U = LA.eig(A)\n",
    "print('lambda = ', np.round(lmbd, 4))\n",
    "print('U = ')\n",
    "np.disp(np.round(U, 4))"
   ]
  },
  {
   "cell_type": "code",
   "execution_count": 15,
   "metadata": {},
   "outputs": [
    {
     "data": {
      "text/plain": [
       "1.0000000000000002"
      ]
     },
     "execution_count": 15,
     "metadata": {},
     "output_type": "execute_result"
    }
   ],
   "source": [
    "LA.norm(lmbd[0])"
   ]
  },
  {
   "cell_type": "code",
   "execution_count": 11,
   "metadata": {
    "lines_to_next_cell": 0
   },
   "outputs": [
    {
     "name": "stdout",
     "output_type": "stream",
     "text": [
      "sigma = \n",
      "[2. 1. 1.]\n",
      "U = \n",
      "[[-5.77350269e-01  4.08248290e-01 -7.07106781e-01]\n",
      " [-5.77350269e-01 -8.16496581e-01 -1.25371672e-16]\n",
      " [-5.77350269e-01  4.08248290e-01  7.07106781e-01]]\n",
      "Vt = \n",
      "[[-0.57735027 -0.57735027 -0.57735027]\n",
      " [ 0.81649658 -0.40824829 -0.40824829]\n",
      " [ 0.         -0.70710678  0.70710678]]\n"
     ]
    }
   ],
   "source": [
    "U, sgm, Vt = LA.svd(A)\n",
    "\n",
    "print('sigma = ')\n",
    "np.disp(sgm)\n",
    "print('U = ')\n",
    "np.disp(U)\n",
    "print('Vt = ')\n",
    "np.disp(Vt)"
   ]
  },
  {
   "cell_type": "code",
   "execution_count": null,
   "metadata": {
    "lines_to_next_cell": 2
   },
   "outputs": [],
   "source": []
  },
  {
   "cell_type": "code",
   "execution_count": 31,
   "metadata": {},
   "outputs": [],
   "source": [
    "B = np.array([\n",
    "    [1, -1],\n",
    "    [1, 1],\n",
    "])"
   ]
  },
  {
   "cell_type": "code",
   "execution_count": 32,
   "metadata": {},
   "outputs": [
    {
     "name": "stdout",
     "output_type": "stream",
     "text": [
      "lambda =  [1.+1.j 1.-1.j]\n",
      "U = \n",
      "[[0.7071+0.j     0.7071-0.j    ]\n",
      " [0.    -0.7071j 0.    +0.7071j]]\n"
     ]
    }
   ],
   "source": [
    "lmbd, U = LA.eig(B)\n",
    "print('lambda = ', np.round(lmbd, 4))\n",
    "print('U = ')\n",
    "np.disp(np.round(U, 4))"
   ]
  },
  {
   "cell_type": "code",
   "execution_count": 33,
   "metadata": {
    "lines_to_next_cell": 0
   },
   "outputs": [
    {
     "name": "stdout",
     "output_type": "stream",
     "text": [
      "sigma = \n",
      "[1.41421356 1.41421356]\n",
      "U = \n",
      "[[-0.70710678 -0.70710678]\n",
      " [-0.70710678  0.70710678]]\n",
      "Vt = \n",
      "[[-1. -0.]\n",
      " [ 0.  1.]]\n"
     ]
    }
   ],
   "source": [
    "U, sgm, Vt = LA.svd(B)\n",
    "\n",
    "print('sigma = ')\n",
    "np.disp(sgm)\n",
    "print('U = ')\n",
    "np.disp(U)\n",
    "print('Vt = ')\n",
    "np.disp(Vt)"
   ]
  },
  {
   "cell_type": "code",
   "execution_count": null,
   "metadata": {},
   "outputs": [],
   "source": []
  },
  {
   "cell_type": "code",
   "execution_count": null,
   "metadata": {
    "lines_to_next_cell": 2
   },
   "outputs": [],
   "source": []
  }
 ],
 "metadata": {
  "jupytext": {
   "encoding": "# -*- coding: utf-8 -*-",
   "formats": "ipynb,py:light"
  },
  "kernelspec": {
   "display_name": "Python 3 (ipykernel)",
   "language": "python",
   "name": "python3"
  },
  "language_info": {
   "codemirror_mode": {
    "name": "ipython",
    "version": 3
   },
   "file_extension": ".py",
   "mimetype": "text/x-python",
   "name": "python",
   "nbconvert_exporter": "python",
   "pygments_lexer": "ipython3",
   "version": "3.7.16"
  },
  "toc": {
   "base_numbering": 1,
   "nav_menu": {},
   "number_sections": true,
   "sideBar": true,
   "skip_h1_title": true,
   "title_cell": "Содержание",
   "title_sidebar": "Contents",
   "toc_cell": true,
   "toc_position": {
    "height": "199.262px",
    "left": "530.987px",
    "top": "253.988px",
    "width": "224.7px"
   },
   "toc_section_display": true,
   "toc_window_display": false
  }
 },
 "nbformat": 4,
 "nbformat_minor": 4
}
