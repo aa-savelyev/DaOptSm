{
 "cells": [
  {
   "cell_type": "markdown",
   "metadata": {
    "slideshow": {
     "slide_type": "slide"
    }
   },
   "source": [
    "**Лекция 7**\n",
    "\n",
    "# Сингулярное разложение матриц #"
   ]
  },
  {
   "cell_type": "markdown",
   "metadata": {
    "slideshow": {
     "slide_type": "subslide"
    },
    "toc": true
   },
   "source": [
    "<h1>Содержание<span class=\"tocSkip\"></span></h1>\n",
    "<div class=\"toc\"><ul class=\"toc-item\"><li><span><a href=\"#Постановка-задачи\" data-toc-modified-id=\"Постановка-задачи-1\"><span class=\"toc-item-num\">1&nbsp;&nbsp;</span>Постановка задачи</a></span></li><li><span><a href=\"#Преобразования-$\\mathbf{A^\\top-A}$-и-$\\mathbf{A-A^\\top}$\" data-toc-modified-id=\"Преобразования-$\\mathbf{A^\\top-A}$-и-$\\mathbf{A-A^\\top}$-2\"><span class=\"toc-item-num\">2&nbsp;&nbsp;</span>Преобразования $\\mathbf{A^\\top A}$ и $\\mathbf{A A^\\top}$</a></span></li><li><span><a href=\"#Сингулярные-базисы,-сингулярное-разложение\" data-toc-modified-id=\"Сингулярные-базисы,-сингулярное-разложение-3\"><span class=\"toc-item-num\">3&nbsp;&nbsp;</span>Сингулярные базисы, сингулярное разложение</a></span></li><li><span><a href=\"#Геометрический-смысл\" data-toc-modified-id=\"Геометрический-смысл-4\"><span class=\"toc-item-num\">4&nbsp;&nbsp;</span>Геометрический смысл</a></span><ul class=\"toc-item\"><li><span><a href=\"#Спектральное-разложение\" data-toc-modified-id=\"Спектральное-разложение-4.1\"><span class=\"toc-item-num\">4.1&nbsp;&nbsp;</span>Спектральное разложение</a></span></li><li><span><a href=\"#Сингулярное-разложение\" data-toc-modified-id=\"Сингулярное-разложение-4.2\"><span class=\"toc-item-num\">4.2&nbsp;&nbsp;</span>Сингулярное разложение</a></span></li></ul></li><li><span><a href=\"#Малоранговые-аппроксимации-матриц\" data-toc-modified-id=\"Малоранговые-аппроксимации-матриц-5\"><span class=\"toc-item-num\">5&nbsp;&nbsp;</span>Малоранговые аппроксимации матриц</a></span></li><li><span><a href=\"#Метод-главных-компонент\" data-toc-modified-id=\"Метод-главных-компонент-6\"><span class=\"toc-item-num\">6&nbsp;&nbsp;</span>Метод главных компонент</a></span><ul class=\"toc-item\"><li><span><a href=\"#Постановка-задачи\" data-toc-modified-id=\"Постановка-задачи-6.1\"><span class=\"toc-item-num\">6.1&nbsp;&nbsp;</span>Постановка задачи</a></span></li><li><span><a href=\"#Связь-с-сингулярным-разложением\" data-toc-modified-id=\"Связь-с-сингулярным-разложением-6.2\"><span class=\"toc-item-num\">6.2&nbsp;&nbsp;</span>Связь с сингулярным разложением</a></span></li><li><span><a href=\"#Эффективная-размерность\" data-toc-modified-id=\"Эффективная-размерность-6.3\"><span class=\"toc-item-num\">6.3&nbsp;&nbsp;</span>Эффективная размерность</a></span></li></ul></li><li><span><a href=\"#Примеры\" data-toc-modified-id=\"Примеры-7\"><span class=\"toc-item-num\">7&nbsp;&nbsp;</span>Примеры</a></span><ul class=\"toc-item\"><li><span><a href=\"#Data-mining:-таблица-оценок-фильмов\" data-toc-modified-id=\"Data-mining:-таблица-оценок-фильмов-7.1\"><span class=\"toc-item-num\">7.1&nbsp;&nbsp;</span>Data mining: таблица оценок фильмов</a></span></li><li><span><a href=\"#Dimension-reduction:-аппроксимации-изображений\" data-toc-modified-id=\"Dimension-reduction:-аппроксимации-изображений-7.2\"><span class=\"toc-item-num\">7.2&nbsp;&nbsp;</span>Dimension reduction: аппроксимации изображений</a></span></li></ul></li><li><span><a href=\"#Источники\" data-toc-modified-id=\"Источники-8\"><span class=\"toc-item-num\">8&nbsp;&nbsp;</span>Источники</a></span></li></ul></div>"
   ]
  },
  {
   "cell_type": "code",
   "execution_count": 2,
   "metadata": {
    "slideshow": {
     "slide_type": "skip"
    }
   },
   "outputs": [],
   "source": [
    "# Imports\n",
    "import sys\n",
    "import numpy as np\n",
    "from numpy import linalg as LA\n",
    "import matplotlib.pyplot as plt\n",
    "\n",
    "import sys\n",
    "sys.path.append('../modules')\n",
    "import graph_support"
   ]
  },
  {
   "cell_type": "code",
   "execution_count": 3,
   "metadata": {
    "slideshow": {
     "slide_type": "skip"
    }
   },
   "outputs": [],
   "source": [
    "# Styles\n",
    "import warnings\n",
    "# warnings.simplefilter(action='ignore', category=FutureWarning)\n",
    "warnings.filterwarnings('ignore')\n",
    "\n",
    "import matplotlib\n",
    "matplotlib.rcParams['font.size'] = 14\n",
    "matplotlib.rcParams['lines.linewidth'] = 1.5\n",
    "matplotlib.rcParams['lines.markersize'] = 4\n",
    "cm = plt.cm.tab10  # Colormap\n",
    "\n",
    "import seaborn\n",
    "seaborn.set_style('whitegrid')"
   ]
  },
  {
   "cell_type": "code",
   "execution_count": 4,
   "metadata": {
    "slideshow": {
     "slide_type": "skip"
    }
   },
   "outputs": [
    {
     "data": {
      "text/html": [
       "<style>\n",
       "    .container.slides .celltoolbar, .container.slides .hide-in-slideshow {display: None ! important;}\n",
       "</style>\n"
      ],
      "text/plain": [
       "<IPython.core.display.HTML object>"
      ]
     },
     "metadata": {},
     "output_type": "display_data"
    }
   ],
   "source": [
    "%%html\n",
    "<style>\n",
    "    .container.slides .celltoolbar, .container.slides .hide-in-slideshow {display: None ! important;}\n",
    "</style>"
   ]
  },
  {
   "cell_type": "markdown",
   "metadata": {
    "slideshow": {
     "slide_type": "skip"
    }
   },
   "source": [
    "---"
   ]
  },
  {
   "cell_type": "markdown",
   "metadata": {
    "slideshow": {
     "slide_type": "slide"
    }
   },
   "source": [
    "## Постановка задачи ##\n",
    "\n",
    "Рассмотрим матрицу $A$ размерностью $m \\times n$. \\\n",
    "Соответствующий ей линейный оператор переводит вектор $\\mathbf{x}$ из $\\mathbb{R}^n$ в $\\mathbb{R}^m$.\n",
    "Поэтому теперь нам потребуется два ортонормированных базиса &laquo;собственных&raquo; (на самом деле *сингулярных*) векторов $\\mathbf{v}_1, \\ldots, \\mathbf{v}_n$ из $\\mathbb{R}^n$ и $\\mathbf{u}_1, \\ldots, \\mathbf{u}_m$ из $\\mathbb{R}^m$.\n",
    "И мы будем искать решение уравнения $A\\mathbf{v} = \\sigma \\mathbf{u}$.\n",
    "\n",
    "Или в матричном виде\n",
    "\n",
    "$$ A V = U \\Sigma $$\n",
    "и\n",
    "$$ A = U \\Sigma V^\\top. $$"
   ]
  },
  {
   "cell_type": "markdown",
   "metadata": {
    "slideshow": {
     "slide_type": "skip"
    }
   },
   "source": [
    "---"
   ]
  },
  {
   "cell_type": "markdown",
   "metadata": {
    "slideshow": {
     "slide_type": "slide"
    }
   },
   "source": [
    "## Преобразования $\\mathbf{A^\\top A}$ и $\\mathbf{A A^\\top}$ ##\n",
    "\n",
    "Рассмотрим преобразования $A^\\top A$ и $A A^\\top$.\n",
    "Сначала повторим то, что уже знаем о них:\n",
    "\n",
    "1. Ядро преобразования $A^\\top A$ совпадает с ядром отображения $A$, а образ $A^\\top A$ &mdash; с образом отображения $A^\\top$.\n",
    "1. Ранги матриц $A$, $A^\\top$, $A^\\top A$ и $A^\\top A$ равны.\n",
    "1. Матрицы $A^\\top A$ и $A A^\\top$ симметричные и неотрицательно определённые (все собственные значения $\\lambda_i \\ge 0$)."
   ]
  },
  {
   "cell_type": "markdown",
   "metadata": {
    "slideshow": {
     "slide_type": "subslide"
    }
   },
   "source": [
    "**Предложение.** Если $\\mathbf{x}$ &mdash; собственный вектор преобразования $A^\\top A$, принадлежащий собственному значения $\\lambda \\ne 0$, то $A(\\mathbf{x})$ &mdash; собственный вектор преобразования $A A^\\top$, принадлежащий тому же собственному значению. При этом линейно независимым собственным векторам $\\mathbf{x}_1, \\ldots, \\mathbf{x}_s$ преобразования $A^\\top A$ соответствуют линейно независимые собственные векторы $A(\\mathbf{x}_1), \\ldots, A(\\mathbf{x}_s)$ преобразования $A A^\\top$.\n",
    "\n",
    "**Следствие.** Ненулевые собственные значения преобразований $A^\\top A$ и $A A^\\top$ совпадают, причём равные собственные значения имеют одинаковые кратности.\n",
    "\n",
    "**Замечание.** В доказательстве нигде не использовался тот факт, что вторая матрица в произведении является транспонированной первой.\n",
    "Поэтому предложение о совпадении собственных значений справедливо и в общем случае &mdash; для матриц $AB$ и $BA$."
   ]
  },
  {
   "cell_type": "markdown",
   "metadata": {
    "slideshow": {
     "slide_type": "skip"
    }
   },
   "source": [
    "---"
   ]
  },
  {
   "cell_type": "markdown",
   "metadata": {
    "slideshow": {
     "slide_type": "slide"
    }
   },
   "source": [
    "## Сингулярные базисы, сингулярное разложение ##\n",
    "\n",
    "Итак, матрицы $A^\\top A$ и $A A^\\top$ можно представить в виде\n",
    "\n",
    "$$ A^\\top A = V \\Lambda_1 V^\\top  \\tag{1}\\label{AtA_decomp} $$\n",
    "и \n",
    "$$ A A^\\top = U \\Lambda_2 U^\\top. \\tag{2}\\label{AAt_decomp} $$\n",
    "\n",
    "Причём матрицы $\\Lambda_1$ и $\\Lambda_2$ отличаются только размером: ненулевые диагональные элементы матриц совпадают."
   ]
  },
  {
   "cell_type": "markdown",
   "metadata": {
    "slideshow": {
     "slide_type": "subslide"
    }
   },
   "source": [
    "**Определение.** *Первым сингулярным базисом* отображения $A$ называется ортонормированный базис в $\\mathbb{R}^n$, состоящий из собственных векторов $\\mathbf{v}_i$ преобразования $A^\\top A$, если векторы базиса упорядочены так, что соответствующие собственные значения не возрастают: $\\lambda_1 \\ge \\ldots \\ge \\lambda_n$.\n",
    "\n",
    "**Определение.** Числа $\\sigma_i = \\sqrt{\\lambda_i}$ называются *сингулярными числами* отображения $A$.\n",
    "\n",
    "**Определение.** *Вторым сингулярным базисом* отображения $A$ называется ортонормированный базис в $\\mathbb{R}^m$, состоящий из собственных векторов $\\mathbf{u}_i$ преобразования $A A^\\top$. Его первые $r$ векторов имеют вид $\\mathbf{u}_i = \\sigma_i^{-1} A(\\mathbf{v}_i)$."
   ]
  },
  {
   "cell_type": "markdown",
   "metadata": {
    "slideshow": {
     "slide_type": "subslide"
    }
   },
   "source": [
    "**Теорема.** Произвольная матрица $A$ размера $m \\times n$ и ранга $r$ может быть представлена в виде\n",
    "\n",
    "$$ A = U \\Sigma V^\\top, \\tag{3}\\label{SVD} $$\n",
    "\n",
    "где $U$ &mdash; ортогональная матрица размера $m \\times m$, $V^\\top$ &mdash; ортогональная матрица размера $n \\times n$, а $\\Sigma$ &mdash; матрица, на главной диагонали у которой расположены $r$ положительных чисел $\\sigma_1, \\ldots, \\sigma_r$, а остальные элементы нулевые.\n",
    "Такое разложение называется *сингулярным разложением* (singular value decomposition, SVD)."
   ]
  },
  {
   "cell_type": "markdown",
   "metadata": {
    "slideshow": {
     "slide_type": "subslide"
    }
   },
   "source": [
    "**Примечание.** Часто под сингулярным разложением понимают его упрощённую форму, в которую входят только сингулярные векторы, соответствующие ненулевым сингулярным числам.\n",
    "В этом случае матрица $U$ будет иметь размер $m \\times r$, $\\Sigma$ &mdash; $r \\times r$, а $V$ &mdash; $r \\times n$."
   ]
  },
  {
   "cell_type": "markdown",
   "metadata": {
    "slideshow": {
     "slide_type": "subslide"
    }
   },
   "source": [
    "**Свойства сингулярного разложения:**\n",
    "\n",
    "1. Ненулевые сингулярные числа отображений $A$ и $A^\\top$ совпадают.\n",
    "1. Если отображение $A$ обратимо и $\\sigma_i$ &mdash; его сингулярные числа, то $\\sigma_i^{-1}$ &mdash; сингулярные числа $A^{-1}$. Первый и второй сингулярные базисы $A$ отличаются от соответственно второго и первого сингулярных базисов $A^\\top$ не больше чем порядком векторов. \n",
    "1. С помощью SVD можно получить явную формулу для псевдообратной матрицы:\n",
    "$$ A^{+} = V \\Sigma^{+} U^\\top = \\sum_{i=1}^r \\frac{1}{\\sigma_i} \\mathbf{v}_i \\mathbf{u}_i^\\top. $$"
   ]
  },
  {
   "cell_type": "markdown",
   "metadata": {
    "slideshow": {
     "slide_type": "skip"
    }
   },
   "source": [
    "---"
   ]
  },
  {
   "cell_type": "markdown",
   "metadata": {
    "slideshow": {
     "slide_type": "slide"
    }
   },
   "source": [
    "## Геометрический смысл ##\n",
    "\n",
    "Посмотрим, что представляет собой сингулярное разложение с точки зрения геометрии.\n",
    "\n",
    "На этот раз возьмём квадрат и сравним его преобразования в случае разложения по собственным и сингулярным числам.\n",
    "\n",
    "В качестве преобразования возьмём матрицу $C$:\n",
    "$$\n",
    "  C = \n",
    "  \\begin{pmatrix}\n",
    "    3 & 2 \\\\\n",
    "    0 & 2\n",
    "  \\end{pmatrix}.\n",
    "$$"
   ]
  },
  {
   "cell_type": "code",
   "execution_count": 5,
   "metadata": {
    "slideshow": {
     "slide_type": "subslide"
    }
   },
   "outputs": [],
   "source": [
    "C = np.array([[3, 2],\n",
    "              [0, 2]])\n",
    "\n",
    "origin = [[0,0], [0,0]] # origin point\n",
    "Sq = np.array([[-1,1], [1,1], [1,-1], [-1,-1], [-1,1]]).T"
   ]
  },
  {
   "cell_type": "markdown",
   "metadata": {
    "slideshow": {
     "slide_type": "subslide"
    }
   },
   "source": [
    "### Спектральное разложение ###"
   ]
  },
  {
   "cell_type": "code",
   "execution_count": 6,
   "metadata": {
    "slideshow": {
     "slide_type": "subslide"
    }
   },
   "outputs": [
    {
     "name": "stdout",
     "output_type": "stream",
     "text": [
      "lambda =  [3. 2.]\n",
      "U = \n",
      "[[ 1.     -0.8944]\n",
      " [ 0.      0.4472]]\n"
     ]
    }
   ],
   "source": [
    "lmbd, U = LA.eig(C)\n",
    "CU = C @ U\n",
    "print('lambda = ', np.round(lmbd, 4))\n",
    "print('U = ')\n",
    "np.disp(np.round(U, 4))"
   ]
  },
  {
   "cell_type": "code",
   "execution_count": 7,
   "metadata": {
    "slideshow": {
     "slide_type": "subslide"
    }
   },
   "outputs": [],
   "source": [
    "Sq1 = LA.inv(U) @ Sq\n",
    "Sq2 = np.diag(lmbd) @ Sq1\n",
    "Sq3 = U @ Sq2\n",
    "Sqn = [Sq, Sq1, Sq2, Sq3]\n",
    "Sqn_str = [\"$\\mathbf{Sq}$\", \"$\\mathbf{U^{-1}Sq}$\",\n",
    "         \" $\\mathbf{\\Lambda U^{-1}Sq}$\", \"$\\mathbf{U\\Lambda U^{-1}Sq}$\"]\n",
    "\n",
    "U1 = LA.inv(U) @ U\n",
    "U2 = np.diag(lmbd) @ U1\n",
    "U3 = U @ U2\n",
    "Un = [U, U1, U2, U3]"
   ]
  },
  {
   "cell_type": "code",
   "execution_count": 8,
   "metadata": {
    "slideshow": {
     "slide_type": "subslide"
    }
   },
   "outputs": [
    {
     "data": {
      "text/html": [
       "<div id=\"d5af92e953dd3b54\"></div>\n",
       "    <script type=\"text/javascript\">\n",
       "        $(function(){\n",
       "            var p = $(\"#d5af92e953dd3b54\");\n",
       "            if (p.length==0) return;\n",
       "            while (!p.hasClass(\"cell\")) {\n",
       "                p=p.parent();\n",
       "                if (p.prop(\"tagName\") ==\"body\") return;\n",
       "            }\n",
       "            var cell = p;\n",
       "            cell.find(\".input\").addClass(\"hide-in-slideshow\")\n",
       "        });\n",
       "    </script>"
      ]
     },
     "metadata": {},
     "output_type": "display_data"
    },
    {
     "data": {
      "image/png": "[encoded data removed]",
      "text/plain": [
       "<Figure size 720x720 with 4 Axes>"
      ]
     },
     "metadata": {},
     "output_type": "display_data"
    }
   ],
   "source": [
    "graph_support.hide_code_in_slideshow()\n",
    "\n",
    "fig, ax = plt.subplots(2, 2, figsize=(10,10))\n",
    "plt.subplots_adjust(wspace=0.4)\n",
    "\n",
    "for i, axi in enumerate(ax.flatten()):\n",
    "    axi.plot(Sqn[i][0,:], Sqn[i][1,:], color='b')\n",
    "    axi.quiver(*origin, Un[i][0,:], Un[i][1,:], color=['g'],\n",
    "               width=0.012, angles='xy', scale_units='xy', scale=1)\n",
    "    axi.set_xlabel('x', fontsize=14)\n",
    "    axi.set_ylabel('y', fontsize=14)\n",
    "    axi.set_xlim([-4, 4])\n",
    "    axi.set_ylim([-4, 4])\n",
    "    axi.set_aspect('equal')\n",
    "    axi.grid(True)\n",
    "    # axi.set_title(\"Original vectors\")\n",
    "    axi.axhline(y=0, color='k')\n",
    "    axi.axvline(x=0, color='k')\n",
    "    axi.text(*(Un[i].T[0]+[.1,.1]), \"$\\mathbf{u_1}$\", fontsize=14)\n",
    "    axi.text(*(Un[i].T[1]+[.1,.1]), \"$\\mathbf{u_2}$\", fontsize=14)\n",
    "    axi.text(1.4, -2, Sqn_str[i], color='b', fontsize=14)"
   ]
  },
  {
   "cell_type": "markdown",
   "metadata": {
    "slideshow": {
     "slide_type": "subslide"
    }
   },
   "source": [
    "### Сингулярное разложение ###"
   ]
  },
  {
   "cell_type": "code",
   "execution_count": 9,
   "metadata": {
    "slideshow": {
     "slide_type": "subslide"
    }
   },
   "outputs": [
    {
     "name": "stdout",
     "output_type": "stream",
     "text": [
      "sigma = \n",
      "[3.81061639 1.57454841]\n",
      "U = \n",
      "[[ 0.9347217  -0.35538056]\n",
      " [ 0.35538056  0.9347217 ]]\n",
      "Vt = \n",
      "[[ 0.73588229  0.67710949]\n",
      " [-0.67710949  0.73588229]]\n"
     ]
    }
   ],
   "source": [
    "U, sgm, Vt = LA.svd(C)\n",
    "\n",
    "print('sigma = ')\n",
    "np.disp(sgm)\n",
    "print('U = ')\n",
    "np.disp(U)\n",
    "print('Vt = ')\n",
    "np.disp(Vt)"
   ]
  },
  {
   "cell_type": "code",
   "execution_count": 10,
   "metadata": {
    "slideshow": {
     "slide_type": "subslide"
    }
   },
   "outputs": [],
   "source": [
    "Sq1 = Vt @ Sq\n",
    "Sq2 = np.diag(sgm) @ Sq1\n",
    "Sq3 = U @ Sq2\n",
    "Sqn = [Sq, Sq1, Sq2, Sq3]\n",
    "Sqn_str = [\"$\\mathbf{Sq}$\", \"$\\mathbf{V^TSq}$\",\n",
    "          \"$\\mathbf{\\Sigma V^T Sq}$\", \"$\\mathbf{U \\Sigma V^T Sq}$\"]\n",
    " \n",
    "V = Vt.T\n",
    "V1 = Vt @ V\n",
    "V2 = np.diag(sgm) @ V1\n",
    "V3 = U @ V2\n",
    "Vn = [V, V1, V2, V3]"
   ]
  },
  {
   "cell_type": "code",
   "execution_count": 11,
   "metadata": {
    "slideshow": {
     "slide_type": "subslide"
    }
   },
   "outputs": [
    {
     "data": {
      "text/html": [
       "<div id=\"700496cd169e823c\"></div>\n",
       "    <script type=\"text/javascript\">\n",
       "        $(function(){\n",
       "            var p = $(\"#700496cd169e823c\");\n",
       "            if (p.length==0) return;\n",
       "            while (!p.hasClass(\"cell\")) {\n",
       "                p=p.parent();\n",
       "                if (p.prop(\"tagName\") ==\"body\") return;\n",
       "            }\n",
       "            var cell = p;\n",
       "            cell.find(\".input\").addClass(\"hide-in-slideshow\")\n",
       "        });\n",
       "    </script>"
      ]
     },
     "metadata": {},
     "output_type": "display_data"
    },
    {
     "data": {
      "image/png": "[encoded data removed]",
      "text/plain": [
       "<Figure size 720x720 with 4 Axes>"
      ]
     },
     "metadata": {},
     "output_type": "display_data"
    }
   ],
   "source": [
    "graph_support.hide_code_in_slideshow()\n",
    "\n",
    "fig, ax = plt.subplots(2, 2, figsize=(10,10))\n",
    "plt.subplots_adjust(wspace=0.4)\n",
    "\n",
    "for i, axi in enumerate(ax.flatten()):\n",
    "    axi.plot(Sqn[i][0,:], Sqn[i][1,:], color='b')\n",
    "    axi.quiver(*origin, Vn[i][0,:], Vn[i][1,:], color=['g'],\n",
    "               width=0.01, angles='xy', scale_units='xy', scale=1)\n",
    "    axi.quiver(*origin, U[0,:], U[1,:], color=['r'],\n",
    "               width=0.01, angles='xy', scale_units='xy', scale=1)\n",
    "    axi.set_xlabel('x', fontsize=14)\n",
    "    axi.set_ylabel('y', fontsize=14)\n",
    "    axi.set_xlim([-4, 4])\n",
    "    axi.set_ylim([-4, 4])\n",
    "    axi.set_aspect('equal')\n",
    "    axi.grid(True)\n",
    "    # axi.set_title(\"Original vectors\")\n",
    "    axi.axhline(y=0, color='k')\n",
    "    axi.axvline(x=0, color='k')\n",
    "    axi.text(*(Vn[i].T[0]+[.05,.05]), \"$\\mathbf{v_1}$\", fontsize=14)\n",
    "    axi.text(*(Vn[i].T[1]+[.05,.05]), \"$\\mathbf{v_2}$\", fontsize=14)\n",
    "    axi.text(1.5, -2, Sqn_str[i], color='b', fontsize=14)"
   ]
  },
  {
   "cell_type": "markdown",
   "metadata": {
    "slideshow": {
     "slide_type": "skip"
    }
   },
   "source": [
    "---"
   ]
  },
  {
   "cell_type": "markdown",
   "metadata": {
    "slideshow": {
     "slide_type": "slide"
    }
   },
   "source": [
    "## Малоранговые аппроксимации матриц ##\n",
    "\n",
    "В некоторых практических задачах требуется приближать заданную матрицу $A$ некоторой другой матрицей $A_k$ с заранее заданным рангом $k$.\n",
    "\n",
    "Возникает вопрос, в каком смысле приближать?\n",
    "Ответ: в смысле нормы."
   ]
  },
  {
   "cell_type": "markdown",
   "metadata": {
    "slideshow": {
     "slide_type": "subslide"
    }
   },
   "source": [
    "**Определение.** Нормой матрицы $A$ называется вещественное число $\\|A\\|$, удовлетворяющее следующим условиям:\n",
    "\n",
    "1. $\\|A\\| \\ge 0$, причём $\\|A\\| = 0$ только при $A = 0$;\n",
    "1. для $\\alpha \\in \\mathbb{R}$ $\\|\\alpha A\\| = |\\alpha| \\|A\\|$;\n",
    "1. $\\|A + B\\| \\le \\|A\\| + \\|B\\|$;\n",
    "1. $\\|A B\\| \\le \\|A\\| \\cdot \\|B\\|$."
   ]
  },
  {
   "cell_type": "markdown",
   "metadata": {
    "slideshow": {
     "slide_type": "subslide"
    }
   },
   "source": [
    "**Примеры:**\n",
    "\n",
    "1. Спектральная (евклидова) норма\n",
    "$\\|A\\|_2 = \\max \\frac{A \\mathbf{x}}{\\mathbf{x}} = \\sigma_1$;\n",
    "\n",
    "1. Норма Фробениуса\n",
    "$\\|A\\|_F = \\sqrt{\\sigma_1^2 + \\ldots + \\sigma_r^2}$;\n",
    "\n",
    "1. Ядерная норма\n",
    "$\\|A\\|_N = \\sigma_1 + \\ldots + \\sigma_r$."
   ]
  },
  {
   "cell_type": "markdown",
   "metadata": {
    "slideshow": {
     "slide_type": "subslide"
    }
   },
   "source": [
    "**Теорема (Эккарта &mdash; Янга).** Наилучшая (в смысле нормы Фробениуса) матрица ранга $k$, соответствующая матрице $A$ является матрица $A_k = U \\Sigma_k V^\\top$.\n",
    "\n",
    "**Примечание.** В 1955 году Мирский доказал, что подходит любая норма матрицы, если зависит только от сингулярных чисел.\n",
    "\n",
    "Итак, для любой нормы из приведённых выше,\n",
    "\n",
    "$$ \\|A - B\\| \\ge \\|A - A_k\\|. $$"
   ]
  },
  {
   "cell_type": "markdown",
   "metadata": {
    "slideshow": {
     "slide_type": "skip"
    }
   },
   "source": [
    "---"
   ]
  },
  {
   "cell_type": "markdown",
   "metadata": {
    "slideshow": {
     "slide_type": "slide"
    }
   },
   "source": [
    "## Метод главных компонент ##\n",
    "\n",
    "В методе главных компонент (principal component analysis, PCA) строится минимальное число новых признаков, по которым исходные признаки восстанавливаются линейным преобразованием с минимальными погрешностями.\n",
    "PCA относится к методам обучения без учителя."
   ]
  },
  {
   "cell_type": "markdown",
   "metadata": {
    "slideshow": {
     "slide_type": "subslide"
    }
   },
   "source": [
    "### Постановка задачи ###\n",
    "\n",
    "Пусть дана матрица признаков $F_{m \\times n}$.\n",
    "\n",
    "Обозначим через $G_{m \\times k}$ признаков тех же объектов в новом пространстве меньшей размерности $k < n$.\n",
    "\n",
    "Потребуем, чтобы исходные признаки можно было восстановить по новым с помощью некоторого линейного преобразования, определяемого матрицей $V$:\n",
    "$$ \\hat{F} = G U. $$"
   ]
  },
  {
   "cell_type": "markdown",
   "metadata": {
    "slideshow": {
     "slide_type": "subslide"
    }
   },
   "source": [
    "Восстановленное описание $\\hat{F}$ не обязано в точности совпадать с исходным описанием $F$, но их отличие на объектах обучающей выборки должно быть как можно меньше при выбранной размерности $m$:\n",
    "$$ \\Delta^2(G, V) = \\|G V^\\top - F\\|^2 \\rightarrow \\min_{G, V}. $$\n",
    "\n",
    "**Теорема.** Минимум $\\Delta^2(G, V)$ достигается, когда столбцы матрицы $V$ есть собственные векторы $F^\\top F$, соответствующие $k$ максимальным собственным значениям.\n",
    "\n",
    "**Определение.** Собственные векторы $\\mathbf{v}_1, \\ldots, \\mathbf{v}_m$, отвечающие максимальным собственным значениям, называются *главными компонентами*."
   ]
  },
  {
   "cell_type": "markdown",
   "metadata": {
    "slideshow": {
     "slide_type": "subslide"
    }
   },
   "source": [
    "### Связь с сингулярным разложением ###\n",
    "\n",
    "Если $k = n$, то $\\Delta^2(G, V) = 0$.\n",
    "В этом случае представление $F = G V^\\top$ является точным и совпадает с сингулярным разложением: $F = G V^\\top = V D V^\\top$.\n",
    "\n",
    "Если $k < n$, то представление $F \\approx G V^\\top$ является приближённым.\n",
    "Сингулярное разложение матрицы $G V^\\top$ получается из сингулярного разложения матрицы $F$ путём отбрасывания (обнуления) $n − k$ минимальных собственных значений."
   ]
  },
  {
   "cell_type": "markdown",
   "metadata": {
    "slideshow": {
     "slide_type": "subslide"
    }
   },
   "source": [
    "### Эффективная размерность ###\n",
    "\n",
    "Главные компоненты содержат основную информацию о матрице $F$.\n",
    "Число главных компонент $k$ называют также эффективной размерностью задачи.\n",
    "На практике её определяют следующим образом.\n",
    "Все сингулярные числа матрицы $F$ упорядочиваются по убыванию: $\\sigma_1 > \\ldots > \\sigma_n > 0$.\n",
    "\n",
    "Задаётся пороговое значение $\\varepsilon \\in [0, 1]$, достаточно близкое к нулю, и определяется\n",
    "наименьшее целое $k$, при котором относительная погрешность приближения матрицы $F$ не превышает $\\varepsilon$:\n",
    "\n",
    "$$\n",
    "  E(k) = \\frac{\\|G V^\\top − F\\|^2}{\\|F\\|^2} = \\frac{\\sigma_{k+1} + \\ldots + \\sigma_n}{\\sigma_1 + \\ldots + \\sigma_n} \\le \\varepsilon.\n",
    "$$"
   ]
  },
  {
   "cell_type": "markdown",
   "metadata": {
    "slideshow": {
     "slide_type": "skip"
    }
   },
   "source": [
    "---"
   ]
  },
  {
   "cell_type": "markdown",
   "metadata": {
    "slideshow": {
     "slide_type": "slide"
    }
   },
   "source": [
    "## Примеры ##"
   ]
  },
  {
   "cell_type": "markdown",
   "metadata": {
    "slideshow": {
     "slide_type": "subslide"
    }
   },
   "source": [
    "### Data mining: таблица оценок фильмов ###\n",
    "\n",
    "Фильмы (столбцы):\n",
    "\n",
    "1. Бриллиантовая рука\n",
    "1. Один дома\n",
    "1. Джентльмены удачи\n",
    "1. Оно\n",
    "1. Психо\n",
    "\n",
    "Таблица оценок фильмов $F$:\n",
    "$$\n",
    "  F = \n",
    "  \\begin{pmatrix}\n",
    "    5 & 5 & 4 & 1 & 1 \\\\\n",
    "    4 & 5 & 5 & 1 & 2 \\\\\n",
    "    4 & 4 & 5 & 2 & 1 \\\\\n",
    "    1 & 1 & 1 & 5 & 5 \\\\\n",
    "    2 & 1 & 2 & 5 & 4 \\\\\n",
    "    5 & 4 & 5 & 2 & 1 \\\\\n",
    "    4 & 4 & 4 & 1 & 2 \\\\\n",
    "    5 & 1 & 1 & 1 & 1 \\\\\n",
    "  \\end{pmatrix}.\n",
    "$$"
   ]
  },
  {
   "cell_type": "code",
   "execution_count": 44,
   "metadata": {
    "slideshow": {
     "slide_type": "skip"
    }
   },
   "outputs": [],
   "source": [
    "F = np.array([\n",
    "    [ 5, 5, 4, 1, 1 ],  #  Любит комедии\n",
    "    [ 4, 5, 5, 1, 2 ],  #  Любит комедии\n",
    "    [ 4, 4, 5, 2, 1 ],  #  Любит комедии\n",
    "    [ 1, 1, 1, 5, 5 ],  #  Любит остросюжетные\n",
    "    [ 2, 1, 2, 5, 4 ],  #  Любит остросюжетные\n",
    "    [ 5, 4, 5, 2, 1 ],  #  Любит комедии\n",
    "    [ 4, 4, 4, 1, 2 ],  #  Любит комедии\n",
    "    [ 5, 1, 1, 1, 1 ],  #  Фанат Бриллиантовой руки\n",
    "])"
   ]
  },
  {
   "cell_type": "code",
   "execution_count": 45,
   "metadata": {
    "slideshow": {
     "slide_type": "subslide"
    }
   },
   "outputs": [
    {
     "data": {
      "text/html": [
       "<div id=\"22414d8628e29f8c\"></div>\n",
       "    <script type=\"text/javascript\">\n",
       "        $(function(){\n",
       "            var p = $(\"#22414d8628e29f8c\");\n",
       "            if (p.length==0) return;\n",
       "            while (!p.hasClass(\"cell\")) {\n",
       "                p=p.parent();\n",
       "                if (p.prop(\"tagName\") ==\"body\") return;\n",
       "            }\n",
       "            var cell = p;\n",
       "            cell.find(\".input\").addClass(\"hide-in-slideshow\")\n",
       "        });\n",
       "    </script>"
      ]
     },
     "metadata": {},
     "output_type": "display_data"
    },
    {
     "data": {
      "image/png": "[encoded data removed]",
      "text/plain": [
       "<Figure size 720x288 with 2 Axes>"
      ]
     },
     "metadata": {},
     "output_type": "display_data"
    }
   ],
   "source": [
    "graph_support.hide_code_in_slideshow()\n",
    "\n",
    "seaborn.set_style(\"white\")\n",
    "fig, axes = plt.subplots(1, 1, figsize=(10,4))\n",
    "plt.subplots_adjust(wspace=0.3, hspace=0.2)\n",
    "\n",
    "im = axes.imshow(F, vmin=-5,vmax=5, cmap='RdBu_r')\n",
    "axes.set_title(\"Таблица\")\n",
    "fig.colorbar(im, shrink=0.90)\n",
    "\n",
    "plt.show()"
   ]
  },
  {
   "cell_type": "code",
   "execution_count": 46,
   "metadata": {
    "slideshow": {
     "slide_type": "subslide"
    }
   },
   "outputs": [
    {
     "name": "stdout",
     "output_type": "stream",
     "text": [
      "s = [19.41  8.04  3.4   1.8   0.79]\n",
      "U = \n",
      "[[-0.41 -0.24  0.06 -0.28 -0.81]\n",
      " [-0.42 -0.16 -0.33 -0.35  0.34]\n",
      " [-0.4  -0.12 -0.18  0.5  -0.01]\n",
      " [-0.23  0.72 -0.08 -0.29 -0.15]\n",
      " [-0.27  0.59  0.04  0.29  0.04]\n",
      " [-0.43 -0.15  0.05  0.49  0.05]\n",
      " [-0.37 -0.1  -0.08 -0.37  0.42]\n",
      " [-0.23 -0.03  0.91 -0.11  0.19]]\n",
      "Vt = \n",
      "[[-0.56 -0.5  -0.53 -0.29 -0.27]\n",
      " [-0.21 -0.27 -0.2   0.68  0.61]\n",
      " [ 0.8  -0.4  -0.44  0.02 -0.07]\n",
      " [-0.02 -0.41  0.45  0.5  -0.61]\n",
      " [ 0.05 -0.59  0.52 -0.44  0.42]]\n"
     ]
    }
   ],
   "source": [
    "# SVD \n",
    "U, s, Vt = LA.svd(F, full_matrices=False)\n",
    "Sigma = np.zeros((F.shape[0], F.shape[1]))\n",
    "Sigma[:min(F.shape[0], F.shape[1]), :min(F.shape[0], F.shape[1])] = np.diag(s)\n",
    "\n",
    "print('s =', np.round(s, 2))\n",
    "print('U = ')\n",
    "np.disp(np.round(U, 2))\n",
    "print('Vt = ')\n",
    "np.disp(np.round(Vt, 2))"
   ]
  },
  {
   "cell_type": "code",
   "execution_count": 47,
   "metadata": {
    "slideshow": {
     "slide_type": "subslide"
    }
   },
   "outputs": [
    {
     "data": {
      "text/html": [
       "<div id=\"551f402b2bd28a38\"></div>\n",
       "    <script type=\"text/javascript\">\n",
       "        $(function(){\n",
       "            var p = $(\"#551f402b2bd28a38\");\n",
       "            if (p.length==0) return;\n",
       "            while (!p.hasClass(\"cell\")) {\n",
       "                p=p.parent();\n",
       "                if (p.prop(\"tagName\") ==\"body\") return;\n",
       "            }\n",
       "            var cell = p;\n",
       "            cell.find(\".input\").addClass(\"hide-in-slideshow\")\n",
       "        });\n",
       "    </script>"
      ]
     },
     "metadata": {},
     "output_type": "display_data"
    },
    {
     "data": {
      "image/png": "[encoded data removed]",
      "text/plain": [
       "<Figure size 864x288 with 3 Axes>"
      ]
     },
     "metadata": {},
     "output_type": "display_data"
    }
   ],
   "source": [
    "graph_support.hide_code_in_slideshow()\n",
    "\n",
    "seaborn.set_style(\"white\")\n",
    "fig, axes = plt.subplots(1, 2, figsize=(12,4))\n",
    "im1 = axes[0].imshow(abs(U[:,:3]), vmin=0,vmax=1, cmap='magma_r', alpha=0.8)\n",
    "axes[0].set_title(\"Категории зрителей\");\n",
    "im2 = axes[1].imshow(abs(Vt[:3,:]),vmin=0,vmax=1, cmap='magma_r', alpha=0.8)\n",
    "axes[1].set_title(\"Категории фильмов\")\n",
    "\n",
    "fig.colorbar(im1, ax=axes.ravel().tolist(), shrink=0.90)\n",
    "plt.show()"
   ]
  },
  {
   "cell_type": "code",
   "execution_count": 48,
   "metadata": {
    "slideshow": {
     "slide_type": "subslide"
    }
   },
   "outputs": [
    {
     "data": {
      "text/html": [
       "<div id=\"b70ccd1e22d06f79\"></div>\n",
       "    <script type=\"text/javascript\">\n",
       "        $(function(){\n",
       "            var p = $(\"#b70ccd1e22d06f79\");\n",
       "            if (p.length==0) return;\n",
       "            while (!p.hasClass(\"cell\")) {\n",
       "                p=p.parent();\n",
       "                if (p.prop(\"tagName\") ==\"body\") return;\n",
       "            }\n",
       "            var cell = p;\n",
       "            cell.find(\".input\").addClass(\"hide-in-slideshow\")\n",
       "        });\n",
       "    </script>"
      ]
     },
     "metadata": {},
     "output_type": "display_data"
    },
    {
     "data": {
      "image/png": "[encoded data removed]",
      "text/plain": [
       "<Figure size 1080x288 with 5 Axes>"
      ]
     },
     "metadata": {},
     "output_type": "display_data"
    }
   ],
   "source": [
    "graph_support.hide_code_in_slideshow()\n",
    "\n",
    "seaborn.set_style(\"white\")\n",
    "fig, axes = plt.subplots(1, 4, figsize=(15,4))\n",
    "plt.subplots_adjust(wspace=0.3, hspace=0.2)\n",
    "\n",
    "k = 3\n",
    "vlims = [-5, 5]\n",
    "\n",
    "im = axes[0].imshow(F, vmin=vlims[0],vmax=vlims[1], cmap='RdBu_r')\n",
    "axes[0].set_title(\"Таблица\")\n",
    "\n",
    "for i in range(0, k):\n",
    "    Fi = s[i] * U[:,i].reshape(-1,1) @ Vt[i,:].reshape(1,-1)\n",
    "#     np.disp(np.round(Fi, 2))\n",
    "    axes[i+1].imshow(Fi, vmin=vlims[0],vmax=vlims[1], cmap='RdBu_r')\n",
    "    axes[i+1].set_title(f\"Компонента {i+1}\")\n",
    "\n",
    "fig.colorbar(im, ax=axes.ravel().tolist(), shrink=0.90)\n",
    "plt.show()"
   ]
  },
  {
   "cell_type": "code",
   "execution_count": 49,
   "metadata": {
    "slideshow": {
     "slide_type": "skip"
    }
   },
   "outputs": [
    {
     "name": "stdout",
     "output_type": "stream",
     "text": [
      "Fs = \n",
      "[[5.  4.4 4.6 1.  1. ]\n",
      " [4.  4.9 5.1 1.4 1.5]\n",
      " [4.  4.4 4.6 1.5 1.6]\n",
      " [1.  0.7 1.3 5.2 4.7]\n",
      " [2.  1.2 1.7 4.8 4.3]\n",
      " [5.  4.4 4.6 1.6 1.5]\n",
      " [4.  3.9 4.1 1.5 1.5]\n",
      " [5.  1.  1.  1.2 0.8]]\n"
     ]
    }
   ],
   "source": [
    "Sigma = np.zeros((F.shape[0], F.shape[1]))\n",
    "Sigma[:min(F.shape[0], F.shape[1]), :min(F.shape[0], F.shape[1])] = np.diag(s)\n",
    "\n",
    "# Reconstruction of the matrix using the first k singular values\n",
    "k = 3\n",
    "Fk = s[k-1] * U[:, (k-1):k] @ Vt[(k-1):k, :]\n",
    "Fs = U[:, :k] @ Sigma[:k, :k] @ Vt[:k, :]\n",
    "\n",
    "# print('Fk = ')\n",
    "# np.disp(np.round(Fk, 1))\n",
    "\n",
    "print('Fs = ')\n",
    "np.disp(np.round(Fs, 1))"
   ]
  },
  {
   "cell_type": "markdown",
   "metadata": {
    "slideshow": {
     "slide_type": "slide"
    }
   },
   "source": [
    "### Dimension reduction: аппроксимации изображений ###\n",
    "\n",
    "Посмотрим на главные компоненты картин или фотографий."
   ]
  },
  {
   "cell_type": "code",
   "execution_count": null,
   "metadata": {
    "slideshow": {
     "slide_type": "subslide"
    }
   },
   "outputs": [],
   "source": [
    "# Reading the image\n",
    "img = plt.imread(\"../pix/7.SVD/Mona Lisa.png\")\n",
    "print(np.shape(img))"
   ]
  },
  {
   "cell_type": "code",
   "execution_count": null,
   "metadata": {
    "slideshow": {
     "slide_type": "subslide"
    }
   },
   "outputs": [],
   "source": [
    "graph_support.hide_code_in_slideshow()\n",
    "\n",
    "seaborn.set_style(\"white\")\n",
    "fig, axes = plt.subplots(1, 1, figsize=(5,10))\n",
    "plt.subplots_adjust(wspace=0.3, hspace=0.2)\n",
    "\n",
    "axes.imshow(img, cmap='gray')\n",
    "axes.set_title(\"Original image\")\n",
    "\n",
    "plt.show()"
   ]
  },
  {
   "cell_type": "code",
   "execution_count": null,
   "metadata": {
    "slideshow": {
     "slide_type": "subslide"
    }
   },
   "outputs": [],
   "source": [
    "# SVD \n",
    "U, s, VT = LA.svd(img)\n",
    "print(np.shape(s))\n",
    "\n",
    "S_s = sum(s)\n",
    "eds = list(map(lambda i: sum(s[i:]) / S_s, range(len(s))))"
   ]
  },
  {
   "cell_type": "code",
   "execution_count": null,
   "metadata": {
    "slideshow": {
     "slide_type": "subslide"
    }
   },
   "outputs": [],
   "source": [
    "graph_support.hide_code_in_slideshow()\n",
    "\n",
    "seaborn.set_style(\"whitegrid\")\n",
    "fig, (ax1, ax2) = plt.subplots(1, 2, figsize=(14,4))\n",
    "plt.subplots_adjust(wspace=0.3, hspace=0.2)\n",
    "\n",
    "ax1.plot(s)\n",
    "ax1.set_title('singular values')\n",
    "ax1.set_yscale('log')\n",
    "ax1.set_xlim(-5, 100)\n",
    "ax1.set_ylim(10e-1, 1e2)\n",
    "\n",
    "ax2.plot(eds)\n",
    "ax2.set_title('effective dimension')\n",
    "ax2.set_xlim(-5, 100)\n",
    "ax2.set_ylim(0.25, 1.0)\n",
    "\n",
    "plt.show()"
   ]
  },
  {
   "cell_type": "code",
   "execution_count": null,
   "metadata": {
    "slideshow": {
     "slide_type": "subslide"
    }
   },
   "outputs": [],
   "source": [
    "graph_support.hide_code_in_slideshow()\n",
    "\n",
    "seaborn.set_style(\"whitegrid\")\n",
    "fig, (ax1, ax2) = plt.subplots(1, 2, figsize=(14,4))\n",
    "plt.subplots_adjust(wspace=0.3, hspace=0.2)\n",
    "\n",
    "ax1.plot(U[:, :1])\n",
    "ax1.set_title(\"U\")\n",
    "\n",
    "ax2.plot(VT[:1, :].T)\n",
    "ax2.set_title(\"VT\")\n",
    "\n",
    "plt.show()"
   ]
  },
  {
   "cell_type": "code",
   "execution_count": null,
   "metadata": {
    "lines_to_next_cell": 0,
    "slideshow": {
     "slide_type": "subslide"
    }
   },
   "outputs": [],
   "source": [
    "graph_support.hide_code_in_slideshow()\n",
    "\n",
    "seaborn.set_style(\"white\")\n",
    "fig, axes = plt.subplots(2, 3, figsize=(15,10))\n",
    "plt.subplots_adjust(wspace=0.3, hspace=0.2)\n",
    "\n",
    "axes[0, 0].imshow(img, cmap='gray')\n",
    "axes[0, 0].set_title(\"original image\")\n",
    "k = 5\n",
    "for i in range(k):\n",
    "    img_i = s[i] * U[:,i].reshape(-1,1) @ VT[i,:].reshape(1,-1)\n",
    "    axes[(i+1) // 3, (i+1) % 3].imshow(img_i, cmap='gray')\n",
    "    axes[(i+1) // 3, (i+1) % 3].set_title(\n",
    "        f\"$\\sigma_{i+1} \\mathbf{{u}}_{i+1} \\mathbf{{v}}_{i+1}^\\\\top$\")\n",
    "    \n",
    "plt.show()"
   ]
  },
  {
   "cell_type": "code",
   "execution_count": null,
   "metadata": {
    "slideshow": {
     "slide_type": "subslide"
    }
   },
   "outputs": [],
   "source": [
    "Sigma = np.zeros((img.shape[0], img.shape[1]))\n",
    "Sigma[:min(img.shape[0], img.shape[1]), :min(img.shape[0], img.shape[1])] = np.diag(s)\n",
    "\n",
    "# Reconstruction of the matrix using the first k singular values\n",
    "img_k = U[:, :k] @ Sigma[:k, :k] @ VT[:k, :]"
   ]
  },
  {
   "cell_type": "code",
   "execution_count": null,
   "metadata": {
    "slideshow": {
     "slide_type": "subslide"
    }
   },
   "outputs": [],
   "source": [
    "graph_support.hide_code_in_slideshow()\n",
    "\n",
    "seaborn.set_style(\"white\")\n",
    "fig, (ax1, ax2) = plt.subplots(1, 2, figsize=(15,10))\n",
    "plt.subplots_adjust(wspace=0.3, hspace=0.2)\n",
    "\n",
    "ax1.imshow(img, cmap='gray')\n",
    "ax1.set_title(\"Original image\")\n",
    "\n",
    "ax2.imshow(img_k, cmap='gray')\n",
    "ax2.set_title(f\"{k} principal components\")\n",
    "plt.show()"
   ]
  },
  {
   "cell_type": "markdown",
   "metadata": {
    "lines_to_next_cell": 2,
    "slideshow": {
     "slide_type": "skip"
    }
   },
   "source": [
    "---"
   ]
  },
  {
   "cell_type": "markdown",
   "metadata": {
    "slideshow": {
     "slide_type": "slide"
    }
   },
   "source": [
    "## Источники ##\n",
    "\n",
    "1. *Воронцов К.В.* [Математические методы обучения по прецедентам (теория обучения машин)](http://www.machinelearning.ru/wiki/images/6/6d/Voron-ML-1.pdf). &mdash; 141 c.\n",
    "1. *Strang G.* Linear algebra and learning from data. &mdash; Wellesley-Cambridge Press, 2019. &mdash; 432 p.\n",
    "1. [Материалы](https://towardsdatascience.com/understanding-singular-value-decomposition-and-its-application-in-data-science-388a54be95d) автора [Reza Bagheri](https://medium.com/@reza.bagheri79)."
   ]
  },
  {
   "cell_type": "code",
   "execution_count": null,
   "metadata": {
    "slideshow": {
     "slide_type": "skip"
    }
   },
   "outputs": [],
   "source": [
    "# Versions used\n",
    "print('Python: {}.{}.{}'.format(*sys.version_info[:3]))\n",
    "print('numpy: {}'.format(np.__version__))\n",
    "print('matplotlib: {}'.format(matplotlib.__version__))\n",
    "print('seaborn: {}'.format(seaborn.__version__))\n",
    "# print('scipy: {}'.format(sp.__version__))"
   ]
  },
  {
   "cell_type": "code",
   "execution_count": null,
   "metadata": {
    "slideshow": {
     "slide_type": "skip"
    }
   },
   "outputs": [],
   "source": []
  }
 ],
 "metadata": {
  "celltoolbar": "Slideshow",
  "jupytext": {
   "encoding": "# -*- coding: utf-8 -*-",
   "formats": "ipynb,py:light"
  },
  "kernelspec": {
   "display_name": "Python 3",
   "language": "python",
   "name": "python3"
  },
  "language_info": {
   "codemirror_mode": {
    "name": "ipython",
    "version": 3
   },
   "file_extension": ".py",
   "mimetype": "text/x-python",
   "name": "python",
   "nbconvert_exporter": "python",
   "pygments_lexer": "ipython3",
   "version": "3.7.4"
  },
  "toc": {
   "base_numbering": 1,
   "nav_menu": {},
   "number_sections": true,
   "sideBar": true,
   "skip_h1_title": true,
   "title_cell": "Содержание",
   "title_sidebar": "Contents",
   "toc_cell": true,
   "toc_position": {
    "height": "199.262px",
    "left": "530.987px",
    "top": "253.988px",
    "width": "224.7px"
   },
   "toc_section_display": true,
   "toc_window_display": true
  }
 },
 "nbformat": 4,
 "nbformat_minor": 4
}
