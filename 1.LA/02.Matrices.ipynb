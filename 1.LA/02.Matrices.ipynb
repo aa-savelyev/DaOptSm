{
 "cells": [
  {
   "cell_type": "markdown",
   "metadata": {
    "slideshow": {
     "slide_type": "slide"
    }
   },
   "source": [
    "**Лекция 2**\n",
    "\n",
    "# Матрицы и действия над ними. Ранг матрицы #"
   ]
  },
  {
   "cell_type": "markdown",
   "metadata": {
    "toc": true
   },
   "source": [
    "<h1>Содержание<span class=\"tocSkip\"></span></h1>\n",
    "<div class=\"toc\"><ul class=\"toc-item\"><li><span><a href=\"#Введение\" data-toc-modified-id=\"Введение-1\"><span class=\"toc-item-num\">1&nbsp;&nbsp;</span>Введение</a></span><ul class=\"toc-item\"><li><span><a href=\"#Основные-задачи\" data-toc-modified-id=\"Основные-задачи-1.1\"><span class=\"toc-item-num\">1.1&nbsp;&nbsp;</span>Основные задачи</a></span></li><li><span><a href=\"#Обозначения\" data-toc-modified-id=\"Обозначения-1.2\"><span class=\"toc-item-num\">1.2&nbsp;&nbsp;</span>Обозначения</a></span></li></ul></li><li><span><a href=\"#Умножение-матриц\" data-toc-modified-id=\"Умножение-матриц-2\"><span class=\"toc-item-num\">2&nbsp;&nbsp;</span>Умножение матриц</a></span><ul class=\"toc-item\"><li><span><a href=\"#Способ-1:-«строка-на-столбец»\" data-toc-modified-id=\"Способ-1:-«строка-на-столбец»-2.1\"><span class=\"toc-item-num\">2.1&nbsp;&nbsp;</span>Способ 1: «строка на столбец»</a></span></li><li><span><a href=\"#Способ-2:-«столбец-на-строку»\" data-toc-modified-id=\"Способ-2:-«столбец-на-строку»-2.2\"><span class=\"toc-item-num\">2.2&nbsp;&nbsp;</span>Способ 2: «столбец на строку»</a></span></li><li><span><a href=\"#Способ-3:-«столбец-на-столбец»\" data-toc-modified-id=\"Способ-3:-«столбец-на-столбец»-2.3\"><span class=\"toc-item-num\">2.3&nbsp;&nbsp;</span>Способ 3: «столбец на столбец»</a></span></li><li><span><a href=\"#Способ-4:-«строка-на-строку»\" data-toc-modified-id=\"Способ-4:-«строка-на-строку»-2.4\"><span class=\"toc-item-num\">2.4&nbsp;&nbsp;</span>Способ 4: «строка на строку»</a></span></li></ul></li><li><span><a href=\"#Ранг-матрицы\" data-toc-modified-id=\"Ранг-матрицы-3\"><span class=\"toc-item-num\">3&nbsp;&nbsp;</span>Ранг матрицы</a></span></li><li><span><a href=\"#Скелетное-разложение\" data-toc-modified-id=\"Скелетное-разложение-4\"><span class=\"toc-item-num\">4&nbsp;&nbsp;</span>Скелетное разложение</a></span></li><li><span><a href=\"#Источники\" data-toc-modified-id=\"Источники-5\"><span class=\"toc-item-num\">5&nbsp;&nbsp;</span>Источники</a></span></li></ul></div>"
   ]
  },
  {
   "cell_type": "markdown",
   "metadata": {},
   "source": [
    "---"
   ]
  },
  {
   "cell_type": "markdown",
   "metadata": {},
   "source": [
    "## Введение ##\n",
    "\n",
    "### Основные задачи ###\n",
    "\n",
    "Что мы хотим вспомнить из линейной алгебры?\n",
    "Мы хотим уметь решать пять базовых задач:\n",
    "\n",
    "1. Найти $\\mathbf{x}$ в уравнении $A\\mathbf{x} = \\mathbf{b}$,\n",
    "1. Найти $\\mathbf{x}$ и $\\lambda$ в уравнении $A\\mathbf{x} = \\lambda \\mathbf{x}$,\n",
    "1. Найти $\\mathbf{v}$, $\\mathbf{u}$ и $\\sigma$ в уравнении $A\\mathbf{v} = \\sigma \\mathbf{u}$.\n",
    "\n",
    "Подробнее о задачах:\n",
    "1. Можно ли вектор $\\mathbf{b}$ представить в виде линейной комбинации векторов матрицы $A$?\n",
    "1. Вектор $A\\mathbf{x}$ имеет то же направление, что и вектор $\\mathbf{x}$. Вдоль этого направления все сложные взаимодействия с матрицей $A$ чрезвычайно упрощаются.\n",
    "   Например, вектор $A^2 \\mathbf{x}$ становится просто $\\lambda^2 \\mathbf{x}$.\n",
    "   Упрощается вычисление матричной экспоненты: $e^{A} = e^{X \\Lambda X^{-1}} = X e^{\\Lambda} X^{-1}$.\n",
    "   Короче говоря, многие действия становятся линейными.\n",
    "1. Уравнение $A\\mathbf{v} = \\sigma \\mathbf{u}$ похоже на предыдущее. Но матрица $A$ больше не квадратная. Это сингулярное разложение."
   ]
  },
  {
   "cell_type": "markdown",
   "metadata": {},
   "source": [
    "### Обозначения ###\n",
    "\n",
    "Для начала введём обозначения. Вектор будем записывать в виде столбца и обозначать стрелочкой $\\vec{a}$ или жирной буквой $\\mathbf{a}$.\n",
    "Строку будем обозначать с помощью звёздочки $\\vec{a}^*$ или $\\mathbf{a}^*$:\n",
    "$$\n",
    "  \\mathbf{a} =\n",
    "  \\begin{pmatrix}\n",
    "     a_1    \\\\\n",
    "     \\cdots \\\\\n",
    "     a_n    \\\\\n",
    "  \\end{pmatrix},\n",
    "  \\mathbf{a}^* = (a_1, \\ldots, a_n).\n",
    "$$"
   ]
  },
  {
   "cell_type": "markdown",
   "metadata": {},
   "source": [
    "---"
   ]
  },
  {
   "cell_type": "markdown",
   "metadata": {},
   "source": [
    "## Умножение матриц ##\n",
    "\n",
    "Рассмотрим 4 способа умножения матриц $A \\cdot B = C$:\n",
    "\n",
    "1. Строка на столбец\n",
    "1. Столбец на строку\n",
    "1. Столбец на столбец\n",
    "1. Строка на строку"
   ]
  },
  {
   "cell_type": "markdown",
   "metadata": {},
   "source": [
    "### Способ 1: &laquo;строка на столбец&raquo; ###\n",
    "\n",
    "Это стандартный способ умножения матриц: $\\mathbf{c_{ij}} = \\mathbf{a}_i^* \\cdot \\mathbf{b}_j$.\n",
    "\n",
    "**Пример 1.** Скалярное произведение векторов $\\mathbf{a}$ и $\\mathbf{b}$:\n",
    "$$ (\\mathbf{a}, \\mathbf{b}) = \\mathbf{a}^\\top \\cdot \\mathbf{b}. $$"
   ]
  },
  {
   "cell_type": "markdown",
   "metadata": {},
   "source": [
    "### Способ 2: &laquo;столбец на строку&raquo; ###\n",
    "\n",
    "Существует другой способ умножения матриц.\n",
    "Произведение $AB$ равно *сумме произведений* всех столбцов матрицы $A$ на соответствующие строки матрицы $B$.\n",
    "$$ A \\cdot B = \\sum_i \\mathbf{a}_i \\cdot \\mathbf{b}_i^*. $$\n",
    "\n",
    "**Пример 2.**\n",
    "$$\n",
    "  \\begin{pmatrix}\n",
    "     1 & 2 \\\\\n",
    "     0 & 2 \\\\\n",
    "  \\end{pmatrix}\n",
    "  \\cdot\n",
    "  \\begin{pmatrix}\n",
    "     0 & 5 \\\\\n",
    "     1 & 1 \\\\\n",
    "  \\end{pmatrix}\n",
    "  =\n",
    "  \\begin{pmatrix}\n",
    "     1 \\\\\n",
    "     0 \\\\\n",
    "  \\end{pmatrix}\n",
    "  \\cdot\n",
    "  \\begin{pmatrix}\n",
    "     0 & 5 \\\\\n",
    "  \\end{pmatrix}\n",
    "  +\n",
    "  \\begin{pmatrix}\n",
    "     2 \\\\\n",
    "     2 \\\\\n",
    "  \\end{pmatrix}\n",
    "  \\cdot\n",
    "  \\begin{pmatrix}\n",
    "     1 & 1 \\\\\n",
    "  \\end{pmatrix}\n",
    "  =\n",
    "  \\begin{pmatrix}\n",
    "     0 & 5 \\\\\n",
    "     0 & 0 \\\\\n",
    "  \\end{pmatrix}\n",
    "  +\n",
    "  \\begin{pmatrix}\n",
    "     2 & 2 \\\\\n",
    "     2 & 2 \\\\\n",
    "  \\end{pmatrix}\n",
    "  =\n",
    "  \\begin{pmatrix}\n",
    "     2 & 7 \\\\\n",
    "     2 & 2 \\\\\n",
    "  \\end{pmatrix}.\n",
    "$$"
   ]
  },
  {
   "cell_type": "markdown",
   "metadata": {},
   "source": [
    "**Пример 3.** Разложение матрицы на сумму матриц ранга 1.\n",
    "\n",
    "Представим матрицу в виде произведения двух матриц и применим умножение &laquo;столбец на строку&raquo;:\n",
    "$$\n",
    "  A = \n",
    "  \\begin{pmatrix}\n",
    "     1 & 2 & 3 \\\\\n",
    "     2 & 1 & 3 \\\\\n",
    "     3 & 1 & 4 \\\\\n",
    "  \\end{pmatrix}\n",
    "  =\n",
    "  \\begin{pmatrix}\n",
    "     1 & 2 \\\\\n",
    "     2 & 1 \\\\\n",
    "     3 & 1 \\\\\n",
    "  \\end{pmatrix}\n",
    "  \\cdot\n",
    "  \\begin{pmatrix}\n",
    "     1 & 0 & 1 \\\\\n",
    "     0 & 1 & 1 \\\\\n",
    "  \\end{pmatrix}\n",
    "  =\n",
    "  \\begin{pmatrix}\n",
    "     1 & 0 & 1 \\\\\n",
    "     2 & 0 & 2 \\\\\n",
    "     3 & 0 & 3 \\\\\n",
    "  \\end{pmatrix}\n",
    "  +\n",
    "  \\begin{pmatrix}\n",
    "     0 & 2 & 2 \\\\\n",
    "     0 & 1 & 1 \\\\\n",
    "     0 & 1 & 1 \\\\\n",
    "  \\end{pmatrix}.\n",
    "$$"
   ]
  },
  {
   "cell_type": "markdown",
   "metadata": {},
   "source": [
    "### Способ 3: &laquo;столбец на столбец&raquo; ###\n",
    "\n",
    "Посмотрим внимательно на то, как мы получили первый столбец результирующей матрицы.\n",
    "Он является суммой столбцов матрицы $A$ с коэффициентами из первого столбца матрицы $B$!\n",
    "То же самое можно сказать и про второй столбец.\n",
    "Таким образом, можно сформулировать следующее правило: \\\n",
    "*$\\mathbf{i}$-ый столбец результирующей матрицы есть линейная комбинация столбцов левой матрицы с коэффициентами из $\\mathbf{i}$-ого столбца правой матрицы.*"
   ]
  },
  {
   "cell_type": "markdown",
   "metadata": {},
   "source": [
    "### Способ 4: &laquo;строка на строку&raquo; ###\n",
    "\n",
    "Аналогичным образом можно вывести правило и для строк: \\\n",
    "*$\\mathbf{i}$-ая строка результирующей матрицы есть линейная комбинация строк правой матрицы с коэффициентами из $\\mathbf{i}$-ой строки левой матрицы.*"
   ]
  },
  {
   "cell_type": "markdown",
   "metadata": {
    "slideshow": {
     "slide_type": "slide"
    }
   },
   "source": [
    "**Пример 4. Умножение матрицы на вектор**\n",
    "\n",
    "Рассмотрим умножение матрицы $A$ размером $m \\times n$ на вектор: $A \\mathbf{x}$.\n",
    "\n",
    "По определению произведение $A \\mathbf{x}$ есть вектор, в котором на $i$-ом месте находится скалярное произведение $i$-ой *строки* на столбец $\\mathbf{x}$:\n",
    "$$\n",
    "  A \\mathbf{x} = \n",
    "  \\begin{pmatrix}\n",
    "    -\\, \\mathbf{a}_1^* \\,- \\\\\n",
    "    \\cdots \\\\\n",
    "    -\\, \\mathbf{a}_i^* \\,- \\\\\n",
    "    \\cdots \\\\\n",
    "    -\\, \\mathbf{a}_m^* \\,- \\\\\n",
    "  \\end{pmatrix}\n",
    "  \\cdot \\mathbf{x} = \n",
    "  \\begin{pmatrix}\n",
    "    \\mathbf{a}_1^* \\cdot \\mathbf{x} \\\\\n",
    "    \\cdots \\\\\n",
    "    \\mathbf{a}_i^* \\cdot \\mathbf{x} \\\\\n",
    "    \\cdots \\\\\n",
    "    \\mathbf{a}_m^* \\cdot \\mathbf{x} \\\\\n",
    "  \\end{pmatrix}.\n",
    "$$\n",
    "\n",
    "Но можно посмотреть на это иначе, как на произведение *столбцов* матрицы $A$ на элементы вектора $\\mathbf{x}$:\n",
    "$$\n",
    "  A \\mathbf{x} = \n",
    "  \\begin{pmatrix}\n",
    "     | & {} & | & {} & | \\\\\n",
    "     \\mathbf{a}_1 & \\cdots & \\mathbf{a}_i & \\cdots & \\mathbf{a}_n \\\\\n",
    "     | & {} & | & {} & | \\\\\n",
    "  \\end{pmatrix}\n",
    "  \\begin{pmatrix}\n",
    "     x_1    \\\\\n",
    "     \\cdots \\\\\n",
    "     x_i    \\\\\n",
    "     \\cdots \\\\\n",
    "     x_m \\\\\n",
    "  \\end{pmatrix}\n",
    "  = \n",
    "  x_1 \\mathbf{a}_1 + \\dots + x_i \\mathbf{a}_i + \\dots + x_m \\mathbf{a}_m.\n",
    "$$\n",
    "Таким образом, результирующий вектор есть *линейная комбинация* столбцов матрицы $A$ с коэффициентами из вектора $\\mathbf{x}$."
   ]
  },
  {
   "cell_type": "markdown",
   "metadata": {},
   "source": [
    "**Пример 5. Умножение столбцов (строк) матрицы на скаляры**\n",
    "\n",
    "Чтобы каждый вектор матрицы $A$ умножить на скаляр $\\lambda_i$, нужно умножить $A$ на матрицу $\\Lambda = \\mathrm{diag}(\\lambda_i)$ *справа*:\n",
    "$$\n",
    "  \\begin{pmatrix}\n",
    "    | & {} & | \\\\\n",
    "    \\lambda_1 \\mathbf{a}_1 & \\cdots & \\lambda_n \\mathbf{a}_n \\\\\n",
    "    | & {} & | \\\\\n",
    "  \\end{pmatrix}\n",
    "  =\n",
    "  \\begin{pmatrix}\n",
    "    | & {} & | \\\\\n",
    "    \\mathbf{a}_1 & \\cdots & \\mathbf{a}_n \\\\\n",
    "    | & {} & | \\\\\n",
    "  \\end{pmatrix}\n",
    "  \\begin{pmatrix}\n",
    "    \\lambda_{1} & \\ldots & 0         \\\\\n",
    "    \\vdots      & \\ddots & \\vdots    \\\\\n",
    "    0           & \\ldots & \\lambda_n \\\\\n",
    "  \\end{pmatrix}\n",
    "  = A \\cdot \\Lambda.\n",
    "$$\n",
    "\n",
    "Чтобы проделать то же самое со строками матрицы, её нужно умножить на $\\Lambda$ *слева*:\n",
    "$$\n",
    "  \\begin{pmatrix}\n",
    "    -\\, \\lambda_1 \\mathbf{a}_1^* \\,- \\\\\n",
    "    \\cdots \\\\\n",
    "    -\\, \\lambda_m \\mathbf{a}_m^* \\,- \\\\\n",
    "  \\end{pmatrix}\n",
    "  =\n",
    "  \\begin{pmatrix}\n",
    "    \\lambda_{1} & \\ldots & 0         \\\\\n",
    "    \\vdots      & \\ddots & \\vdots    \\\\\n",
    "    0           & \\ldots & \\lambda_n \\\\\n",
    "  \\end{pmatrix}\n",
    "  \\begin{pmatrix}\n",
    "    -\\, \\mathbf{a}_1^* \\,- \\\\\n",
    "    \\cdots \\\\\n",
    "    -\\, \\mathbf{a}_m^* \\,- \\\\\n",
    "  \\end{pmatrix}\n",
    "  = \\Lambda \\cdot A.\n",
    "$$"
   ]
  },
  {
   "cell_type": "markdown",
   "metadata": {},
   "source": [
    "**Пример 6. Умножение блочных матриц**\n",
    "\n",
    "Рассмотрим блочную матрицу следующего вида: \n",
    "$$ A = \\begin{pmatrix} A_1 \\\\ A_2 \\\\ \\end{pmatrix}. $$\n",
    "\n",
    "1. Формулу для $A A^\\top$ получим по способу &laquo;строка на столбец&raquo;:\n",
    "$$\n",
    "  A A^\\top = \n",
    "  \\begin{pmatrix}\n",
    "    A_1 \\\\\n",
    "    A_2 \\\\\n",
    "  \\end{pmatrix}\n",
    "  \\cdot\n",
    "  \\begin{pmatrix}\n",
    "    A_1^\\top & A_2^\\top \\\\\n",
    "  \\end{pmatrix}\n",
    "  =\n",
    "  \\begin{pmatrix}\n",
    "    A_1 A_1^\\top & A_1 A_2^\\top \\\\\n",
    "    A_2 A_1^\\top & A_2 A_2^\\top \\\\\n",
    "  \\end{pmatrix}\n",
    "$$\n",
    "2. Для $A^\\top A$ удобно применить способ &laquo;столбец на строку&raquo;:\n",
    "$$\n",
    "  A^\\top A =\n",
    "  \\begin{pmatrix}\n",
    "    A_1^\\top & A_2^\\top \\\\\n",
    "  \\end{pmatrix}\n",
    "  \\begin{pmatrix}\n",
    "    A_1 \\\\\n",
    "    A_2 \\\\\n",
    "  \\end{pmatrix}\n",
    "  = A_1^\\top A_1 + A_2^\\top A_2\n",
    "$$"
   ]
  },
  {
   "cell_type": "markdown",
   "metadata": {
    "slideshow": {
     "slide_type": "skip"
    }
   },
   "source": [
    "---"
   ]
  },
  {
   "cell_type": "markdown",
   "metadata": {},
   "source": [
    "## Ранг матрицы ##\n",
    "\n",
    "Посмотрим на задачу $A \\mathbf{x} = \\mathbf{b}$. \\\n",
    "Её можно сформулировать в виде следующего вопроса: можно ли столбец $\\mathbf{b}$ представить в виде линейной комбинации столбцов матрицы $A$?\n",
    "\n",
    "Поясним на примере.\n",
    "Пусть\n",
    "$$\n",
    "  A = \n",
    "  \\begin{pmatrix}\n",
    "     1 & 2 & 3 \\\\\n",
    "     2 & 1 & 3 \\\\\n",
    "     3 & 1 & 4 \\\\\n",
    "  \\end{pmatrix}.\n",
    "$$\n",
    "Что мы можем сказать о линейной оболочке её столбцов? Что это за пространство? Какой размерности?"
   ]
  },
  {
   "cell_type": "markdown",
   "metadata": {},
   "source": [
    "**Определение 1.** Рангом матрицы $A$ с $m$ строк и $n$ столбцов называется максимальное число линейно независимых столбцов (строк)."
   ]
  },
  {
   "cell_type": "markdown",
   "metadata": {},
   "source": [
    "**Свойства ранга:**\n",
    "\n",
    "1. $r(AB)  \\le r(A), r(B)$,\n",
    "1. $r(A+B) \\le r(A) + r(B)$,\n",
    "1. $r(A^\\top A) = r(AA^\\top) = r(A) = r(A^\\top)$,\n",
    "1. Пусть $A: m \\times r$, $B: r \\times n$ и $r(A) = r(B) = r$, тогда $r(AB) = r$.\n",
    "\n",
    "**Доказательства:**\n",
    "\n",
    "1. При умножении матриц ранг не может увеличиться. Каждый столбец матрицы $AB$ является линейной комбинацией столбцов матрицы $A$, а каждая строка матрицы $AB$ является линейной комбинацией строк матрицы $B$. Поэтому пространство столбцов матрицы $AB$ содержится в пространстве столбцов матрицы $A$, а пространство строк матрицы $AB$ содержится в пространстве строк матрицы $B$.\n",
    "1. Базис пространства столбцов матрицы $A+B$ ($\\mathbf{C}(A+B)$) является комбинацией (возможно, с пересечениями) базисов пространств $\\mathbf{C}(A)$ и $\\mathbf{C}(B)$.\n",
    "1. Матрицы $A$ и $A^\\top A$ имеют одно и то же нуль-пространство (доказать), поэтому их ранг одинаков.\n",
    "1. Матрицы $A^\\top A$ и $BB^\\top$ невырождены, так как $r(A^\\top A) = r(BB^\\top) = r$. Их произведение, матрица $A^\\top A BB^\\top$, тоже невырождена и её ранг равен $r$. Отсюда $r = r(A^\\top A BB^\\top) \\le r(AB) \\le r(A) = r$."
   ]
  },
  {
   "cell_type": "markdown",
   "metadata": {},
   "source": [
    ">Как доказать, что $A$ и $A^\\top A$ имеют одно и то же нуль-пространство? \\\n",
    ">Если $Ax=0$, то $A^\\top Ax = 0$. Поэтому $\\mathbf{N}(A) \\subset \\mathbf{N}(A^\\top A)$. \\\n",
    ">Если $A^\\top Ax = 0$, то $x^\\top A^\\top Ax = \\|Ax\\|^2 = 0$. Поэтому $\\mathbf{N}(A^\\top A) \\subset \\mathbf{N}(A)$."
   ]
  },
  {
   "cell_type": "markdown",
   "metadata": {},
   "source": [
    "*Замечание.* Свойство 4 работает только в случае, когда $A$ имеет *ровно* $r$ столбцов, а $B$ имеет *ровно* $r$ строк. В частности, $r(BA) \\le r$ (в соответствии со свойством 1).\n",
    "\n",
    "Для свойства 3 отметим важный частный случай. Это случай, когда столбцы матрицы $A$ линейно независимы, так что её ранг $r$ равен $n$. Тогда матрица $A^\\top A$ является квадратной симметрической обратимой матрицей."
   ]
  },
  {
   "cell_type": "markdown",
   "metadata": {},
   "source": [
    "---"
   ]
  },
  {
   "cell_type": "markdown",
   "metadata": {},
   "source": [
    "## Скелетное разложение ##\n",
    "\n",
    "В матрице $A$ первые два вектора линейно независимы.\n",
    "Попробуем взять их в качестве базиса и разложить по ним третий.\n",
    "Запишем это в матричном виде, пользуясь правилом умножения &laquo;столбец на столбец&raquo;.\n",
    "\n",
    "$$\n",
    "  A = \n",
    "  \\begin{pmatrix}\n",
    "     1 & 2 & 3 \\\\\n",
    "     2 & 1 & 3 \\\\\n",
    "     3 & 1 & 4 \\\\\n",
    "  \\end{pmatrix}\n",
    "  =\n",
    "  \\begin{pmatrix}\n",
    "     1 & 2 \\\\\n",
    "     2 & 1 \\\\\n",
    "     3 & 1 \\\\\n",
    "  \\end{pmatrix}\n",
    "  \\cdot\n",
    "  \\begin{pmatrix}\n",
    "     1 & 0 & 1 \\\\\n",
    "     0 & 1 & 1 \\\\\n",
    "  \\end{pmatrix}\n",
    "  = C \\cdot R\n",
    "$$\n",
    "\n",
    "Здесь $C$ &mdash; базисные столбцы, $R$ &mdash; базисные строки.\n",
    "Мы получили скелетное разложение матрицы.\n",
    "\n",
    "**Определение 2.** *Скелетным разложением* матрицы $A$ размеров $m \\times n$ и ранга $r>0$ называется разложение вида $A = CR$, где матрицы $C$ и $R$ имеют размеры соответственно $m \\times r$ и $r \\times n$.\n",
    "Другое название скелетного разложения &mdash; *ранговая факторизация*.\n",
    "\n",
    "Это разложение иллюстрирует **теорему**: ранг матрицы по столбцам (количество независимых столбцов) равен рангу матрицы по строкам (количество независимых строк)."
   ]
  },
  {
   "cell_type": "markdown",
   "metadata": {},
   "source": [
    "**Дополнительно**\n",
    "\n",
    "Существует другой вариант скелетного разложения: $A = CMR$.\n",
    "В этом случае матрица $С$, как и ранее, состоит из $r$ независимых столбцов матрицы $A$, но матрица $R$ теперь состоит из $r$ независимых строк матрицы $A$, а матрица $M$ размером $r \\times r$ называется смешанной матрицей (mixing matrix).\n",
    "Для $M$ можно получить следующую формулу:\n",
    "$$\n",
    "  A = CMR \\\\\n",
    "  C^\\top A R^\\top = C^\\top C M R R^\\top \\\\\n",
    "  M = \\left[ (C^\\top C)^{-1}C^\\top \\right] A \\left[ R^\\top (R R^\\top)^{-1} \\right].\n",
    "$$"
   ]
  },
  {
   "cell_type": "markdown",
   "metadata": {},
   "source": [
    "> Матрицы $C^+ = (C^\\top C)^{-1}C^\\top$ и $R^+ = R^\\top (R R^\\top)^{-1}$ являются *псевдообратными* к матрицам соответственно $C$ и $R$. \\\n",
    "> Можно показать, что если *столбцы* матрицы линейно независимы (как у матрицы $C$), то $C^+$ является *левой* обратной матрицей для $C$: $C^+ C = I$.\n",
    "> Если независимы строки (как у $R$), то $R^+$ &mdash; *правая* обратная матрица для $R$: $R R^+ = I$. \\\n",
    "> Более подробный материал о псевдообратных матрицах будет на несколько занятий позже."
   ]
  },
  {
   "cell_type": "markdown",
   "metadata": {},
   "source": [
    "---"
   ]
  },
  {
   "cell_type": "markdown",
   "metadata": {
    "lines_to_next_cell": 0,
    "slideshow": {
     "slide_type": "slide"
    }
   },
   "source": [
    "## Источники ##\n",
    "\n",
    "1. *Strang G.* Linear algebra and learning from data. &mdash; Wellesley-Cambridge Press, 2019. &mdash; 432 p.\n",
    "1. *Гантмахер Ф.Р.* Теория матриц. &mdash; М.: Наука, 1967. &mdash; 576 с.\n",
    "1. *Беклемишев Д.В.* Дополнительные главы линейной алгебры. &mdash; М.: Наука, 1983. &mdash; 336 с."
   ]
  },
  {
   "cell_type": "code",
   "execution_count": null,
   "metadata": {
    "lines_to_next_cell": 2
   },
   "outputs": [],
   "source": []
  }
 ],
 "metadata": {
  "jupytext": {
   "encoding": "# -*- coding: utf-8 -*-",
   "formats": "ipynb,py:light"
  },
  "kernelspec": {
   "display_name": "Python 3 (ipykernel)",
   "language": "python",
   "name": "python3"
  },
  "language_info": {
   "codemirror_mode": {
    "name": "ipython",
    "version": 3
   },
   "file_extension": ".py",
   "mimetype": "text/x-python",
   "name": "python",
   "nbconvert_exporter": "python",
   "pygments_lexer": "ipython3",
   "version": "3.7.11"
  },
  "toc": {
   "base_numbering": 1,
   "nav_menu": {},
   "number_sections": true,
   "sideBar": true,
   "skip_h1_title": true,
   "title_cell": "Содержание",
   "title_sidebar": "Contents",
   "toc_cell": true,
   "toc_position": {},
   "toc_section_display": true,
   "toc_window_display": false
  }
 },
 "nbformat": 4,
 "nbformat_minor": 4
}
