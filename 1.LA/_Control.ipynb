{
 "cells": [
  {
   "cell_type": "markdown",
   "metadata": {},
   "source": [
    "# Вопросы к первому семестру"
   ]
  },
  {
   "cell_type": "markdown",
   "metadata": {
    "toc": true
   },
   "source": [
    "<h1>Содержание<span class=\"tocSkip\"></span></h1>\n",
    "<div class=\"toc\"><ul class=\"toc-item\"><li><span><a href=\"#Сингулярное-разложение\" data-toc-modified-id=\"Сингулярное-разложение-1\"><span class=\"toc-item-num\">1&nbsp;&nbsp;</span>Сингулярное разложение</a></span></li></ul></div>"
   ]
  },
  {
   "cell_type": "markdown",
   "metadata": {},
   "source": [
    "## Сингулярное разложение\n",
    "\n",
    "1. **Вопрос**: Как соотносятся собственные и сингулярные числа матрицы? \\\n",
    "   **Ответ**: В общем случае никак. \\\n",
    "   Но если $S$ &mdash; симметричная положительно определённая матрица, то $S = Q\\Lambda Q^\\top = U\\Sigma V^\\top$. \\\n",
    "   Если $S$ имеет отрицательные собственные числа ($S x = \\lambda x$), то $\\sigma = -\\lambda$, а $u = -x$ или $v = -x$ (одно из двух). \\\n",
    "   (Strang, p. 61)\n",
    "\n",
    "1. **Вопрос**: Рассмотрим матрицу $2 \\times 2$. \\\n",
    "   В общем случае *4 разным элементам* (a, b, c, d) ставится в соответствие *4 геометрических параметра*: угол поворота ($\\alpha$), два коэффициента растяжения ($\\sigma_1, \\sigma_2$), угол обратного поворота ($\\beta$). \\\n",
    "   Но если матрица симметричная, то параметра уже 3 (a, b, b, d). Как в таком случае вычислить четвёрку ($\\alpha$, $\\sigma_1, \\sigma_2$, $\\beta$)? \\\n",
    "   **Ответ**: $\\beta = -\\alpha$. \\\n",
    "   (Strang, p. 62)\n",
    "   \n",
    "1. **Вопрос**: Какова связь между сингулярным и полярным разложением? \\\n",
    "   **Ответ**: $A = U \\Sigma V^\\top = (U V^\\top)(V \\Sigma V^\\top) = Q S$ или $A = U \\Sigma V^\\top = (U \\Sigma U^\\top)(U V^\\top) = K Q$. \\\n",
    "   (Strang, p. 67)\n",
    "   \n",
    "1. **Вопрос**: Какова связь между сингулярными числами и собственными числами матрицы $S$ в полярном разложении? \\\n",
    "   **Ответ**: Собственные числа $S$ &mdash; это сингулярные числа исходной матрицы $A$. \\\n",
    "   (Strang, p. 67)"
   ]
  },
  {
   "cell_type": "markdown",
   "metadata": {},
   "source": [
    "---"
   ]
  },
  {
   "cell_type": "markdown",
   "metadata": {},
   "source": []
  },
  {
   "cell_type": "code",
   "execution_count": null,
   "metadata": {},
   "outputs": [],
   "source": []
  },
  {
   "cell_type": "code",
   "execution_count": null,
   "metadata": {},
   "outputs": [],
   "source": []
  },
  {
   "cell_type": "code",
   "execution_count": null,
   "metadata": {},
   "outputs": [],
   "source": []
  }
 ],
 "metadata": {
  "jupytext": {
   "encoding": "# -*- coding: utf-8 -*-",
   "formats": "ipynb,py:light"
  },
  "kernelspec": {
   "display_name": "Python 3",
   "language": "python",
   "name": "python3"
  },
  "language_info": {
   "codemirror_mode": {
    "name": "ipython",
    "version": 3
   },
   "file_extension": ".py",
   "mimetype": "text/x-python",
   "name": "python",
   "nbconvert_exporter": "python",
   "pygments_lexer": "ipython3",
   "version": "3.7.4"
  },
  "toc": {
   "base_numbering": 1,
   "nav_menu": {},
   "number_sections": true,
   "sideBar": true,
   "skip_h1_title": true,
   "title_cell": "Содержание",
   "title_sidebar": "Contents",
   "toc_cell": true,
   "toc_position": {
    "height": "199.262px",
    "left": "530.987px",
    "top": "253.988px",
    "width": "224.7px"
   },
   "toc_section_display": true,
   "toc_window_display": false
  }
 },
 "nbformat": 4,
 "nbformat_minor": 4
}
