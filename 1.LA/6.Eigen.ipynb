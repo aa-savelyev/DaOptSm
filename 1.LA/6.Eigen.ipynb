{
 "cells": [
  {
   "cell_type": "markdown",
   "metadata": {},
   "source": [
    "**Лекция 6**\n",
    "\n",
    "# Собственные векторы и собственные значения #"
   ]
  },
  {
   "cell_type": "markdown",
   "metadata": {
    "toc": true
   },
   "source": [
    "<h1>Содержание<span class=\"tocSkip\"></span></h1>\n",
    "<div class=\"toc\"><ul class=\"toc-item\"><li><span><a href=\"#Матрицы-линейных-преобразований\" data-toc-modified-id=\"Матрицы-линейных-преобразований-1\"><span class=\"toc-item-num\">1&nbsp;&nbsp;</span>Матрицы линейных преобразований</a></span></li><li><span><a href=\"#Собственные-векторы-и-собственные-значения\" data-toc-modified-id=\"Собственные-векторы-и-собственные-значения-2\"><span class=\"toc-item-num\">2&nbsp;&nbsp;</span>Собственные векторы и собственные значения</a></span></li><li><span><a href=\"#Диагонализируемость\" data-toc-modified-id=\"Диагонализируемость-3\"><span class=\"toc-item-num\">3&nbsp;&nbsp;</span>Диагонализируемость</a></span><ul class=\"toc-item\"><li><span><a href=\"#Подобные-матрицы\" data-toc-modified-id=\"Подобные-матрицы-3.1\"><span class=\"toc-item-num\">3.1&nbsp;&nbsp;</span>Подобные матрицы</a></span></li><li><span><a href=\"#Диагонализируемые-матрицы\" data-toc-modified-id=\"Диагонализируемые-матрицы-3.2\"><span class=\"toc-item-num\">3.2&nbsp;&nbsp;</span>Диагонализируемые матрицы</a></span></li><li><span><a href=\"#Недиагонализируемые-матрицы\" data-toc-modified-id=\"Недиагонализируемые-матрицы-3.3\"><span class=\"toc-item-num\">3.3&nbsp;&nbsp;</span>Недиагонализируемые матрицы</a></span></li></ul></li><li><span><a href=\"#Иллюстрации-на-Питоне\" data-toc-modified-id=\"Иллюстрации-на-Питоне-4\"><span class=\"toc-item-num\">4&nbsp;&nbsp;</span>Иллюстрации на Питоне</a></span></li><li><span><a href=\"#Симметричные-матрицы\" data-toc-modified-id=\"Симметричные-матрицы-5\"><span class=\"toc-item-num\">5&nbsp;&nbsp;</span>Симметричные матрицы</a></span></li><li><span><a href=\"#Полярное-разложение\" data-toc-modified-id=\"Полярное-разложение-6\"><span class=\"toc-item-num\">6&nbsp;&nbsp;</span>Полярное разложение</a></span></li><li><span><a href=\"#Алгоритмы-поиска-собственных-чисел\" data-toc-modified-id=\"Алгоритмы-поиска-собственных-чисел-7\"><span class=\"toc-item-num\">7&nbsp;&nbsp;</span>Алгоритмы поиска собственных чисел</a></span><ul class=\"toc-item\"><li><span><a href=\"#$\\mathbf{QR}$-алгоритм\" data-toc-modified-id=\"$\\mathbf{QR}$-алгоритм-7.1\"><span class=\"toc-item-num\">7.1&nbsp;&nbsp;</span>$\\mathbf{QR}$-алгоритм</a></span></li></ul></li><li><span><a href=\"#Источники\" data-toc-modified-id=\"Источники-8\"><span class=\"toc-item-num\">8&nbsp;&nbsp;</span>Источники</a></span></li></ul></div>"
   ]
  },
  {
   "cell_type": "code",
   "execution_count": 4,
   "metadata": {},
   "outputs": [],
   "source": [
    "# Imports\n",
    "import sys\n",
    "import numpy as np\n",
    "from numpy import linalg as LA\n",
    "import matplotlib.pyplot as plt"
   ]
  },
  {
   "cell_type": "code",
   "execution_count": 5,
   "metadata": {},
   "outputs": [],
   "source": [
    "# Styles\n",
    "import warnings\n",
    "# warnings.simplefilter(action='ignore', category=FutureWarning)\n",
    "warnings.filterwarnings('ignore')\n",
    "\n",
    "import matplotlib\n",
    "matplotlib.rcParams['font.size'] = 14\n",
    "matplotlib.rcParams['lines.linewidth'] = 1.5\n",
    "matplotlib.rcParams['lines.markersize'] = 4\n",
    "cm = plt.cm.tab10  # Colormap\n",
    "\n",
    "import seaborn\n",
    "seaborn.set_style('whitegrid')"
   ]
  },
  {
   "cell_type": "markdown",
   "metadata": {},
   "source": [
    "---"
   ]
  },
  {
   "cell_type": "markdown",
   "metadata": {},
   "source": [
    "## Матрицы линейных преобразований ##\n",
    "\n",
    "Квадратную матрицу $A$ размером $n \\times n$ мы интерпретируем как преобразование, действующее на вектор $\\mathbf{x} \\in \\mathbb{R}^n$, преобразуя его в новый вектор $\\mathbf{y} = A\\mathbf{x}$, также лежащий в $\\mathbb{R}^n$.\n",
    "\n",
    "**Примеры:**\n",
    "\n",
    "1. Матрица поворота\n",
    "$$\n",
    "  A = \n",
    "  \\begin{pmatrix}\n",
    "    \\cos{\\theta} & -\\sin{\\theta} \\\\\n",
    "    \\sin{\\theta} &  \\cos{\\theta}\n",
    "  \\end{pmatrix}.\n",
    "$$\n",
    "\n",
    "1. Матрица растяжения\n",
    "$$\n",
    "  B = \n",
    "  \\begin{pmatrix}\n",
    "    k & 0 \\\\\n",
    "    0 & 1\n",
    "  \\end{pmatrix}.\n",
    "$$"
   ]
  },
  {
   "cell_type": "code",
   "execution_count": 6,
   "metadata": {},
   "outputs": [
    {
     "name": "stdout",
     "output_type": "stream",
     "text": [
      "[0, 0] [0, 0]\n"
     ]
    }
   ],
   "source": [
    "x = np.array([1,0]) # Original vector\n",
    "theta = 30 * np.pi / 180 # degress in radian\n",
    "# Rotation matrix\n",
    "A = np.array([[np.cos(theta), -np.sin(theta)],\n",
    "              [np.sin(theta), np.cos(theta)]])\n",
    "# Stretching matrix\n",
    "B = np.array([[3,0],\n",
    "              [0,1]])\n",
    "\n",
    "Ax = A @ x  # y1 is the rotated vector\n",
    "Bx = B @ x  # y2 is the stretched vector\n",
    "\n",
    "# Reshaping and storing both x and Ax in y1 to be plotted as vectors\n",
    "y1 = np.concatenate([x.reshape(1,2), Ax.reshape(1,2)])\n",
    "# Reshaping and storing both x and Bx in y2 to be plotted as vectors\n",
    "y2 = np.concatenate([x.reshape(1,2), Bx.reshape(1,2)])\n",
    "origin = [[0,0], [0,0]] # origin point"
   ]
  },
  {
   "cell_type": "code",
   "execution_count": 7,
   "metadata": {},
   "outputs": [
    {
     "data": {
      "image/png": "[encoded data removed]",
      "text/plain": [
       "<Figure size 720x1080 with 2 Axes>"
      ]
     },
     "metadata": {},
     "output_type": "display_data"
    }
   ],
   "source": [
    "fig, (ax1, ax2) = plt.subplots(1, 2, figsize=(10, 15))\n",
    "plt.subplots_adjust(wspace=0.4)\n",
    "\n",
    "# Plotting y1\n",
    "ax1.quiver(*origin, y1[:,0], y1[:,1], color=['g', cm(3)],\n",
    "           width=0.013, angles='xy', scale_units='xy', scale=1)\n",
    "ax1.set_xlabel('x', fontsize=14)\n",
    "ax1.set_ylabel('y', fontsize=14)\n",
    "ax1.set_xlim([-0.5, 1.5])\n",
    "ax1.set_ylim([-0.5, 1])\n",
    "ax1.set_aspect('equal')\n",
    "ax1.grid(True)\n",
    "ax1.set_axisbelow(True)\n",
    "ax1.set_title(\"Поворот\")\n",
    "ax1.axhline(y=0, color='k')\n",
    "ax1.axvline(x=0, color='k')\n",
    "ax1.text(1, 0.1, \"$\\mathbf{x}$\", fontsize=16)\n",
    "ax1.text(0.8, 0.6, \"$\\mathbf{Ax}$\", fontsize=16)\n",
    "\n",
    "# Plotting y2\n",
    "ax2.quiver(*origin, y2[:,0], y2[:,1], color=['g', cm(3)],\n",
    "           width=0.013, angles='xy', scale_units='xy', scale=1)\n",
    "ax2.set_xlabel('x', fontsize=14)\n",
    "ax2.set_ylabel('y', fontsize=14)\n",
    "ax2.set_xlim([-0.5, 3.5])\n",
    "ax2.set_ylim([-1.5, 1.5])\n",
    "ax2.set_aspect('equal')\n",
    "ax2.grid(True)\n",
    "ax2.set_axisbelow(True)\n",
    "ax2.set_title(\"Растяжение\")\n",
    "ax2.axhline(y=0, color='k')\n",
    "ax2.axvline(x=0, color='k')\n",
    "ax2.text(1, 0.2, \"$\\mathbf{x}$\", fontsize=16)\n",
    "ax2.text(3, 0.2, \"$\\mathbf{Bx}$\", fontsize=16)\n",
    "\n",
    "plt.show()"
   ]
  },
  {
   "cell_type": "markdown",
   "metadata": {},
   "source": [
    "Рассмотрим другую матрицу:\n",
    "$$\n",
    "  C = \n",
    "  \\begin{pmatrix}\n",
    "    3 & 2 \\\\\n",
    "    0 & 2\n",
    "  \\end{pmatrix}.\n",
    "$$\n",
    "\n",
    "На рисунке показано преобразование множества точек $X$ (окружность) и, в частности, двух векторов $\\mathbf{x_1}$ и $\\mathbf{x_2}$.\n",
    "Начальные векторы $X$ с левой стороны образуют окружность, матрица преобразования изменяет эту окружность и превращает её в эллипс.\n",
    "Векторы выборки $\\mathbf{x_1}$ и $\\mathbf{x_2}$ в окружности преобразуются в $\\mathbf{y_1}$ и $\\mathbf{y_2}$ соответственно."
   ]
  },
  {
   "cell_type": "code",
   "execution_count": 8,
   "metadata": {},
   "outputs": [],
   "source": [
    "# Creating the vectors for a circle and storing them in x\n",
    "r = 1\n",
    "phi = np.linspace(0, 2*np.pi, 100)\n",
    "xi = r*np.cos(phi)\n",
    "yi = r*np.sin(phi)\n",
    "X = np.vstack((xi, yi))\n",
    "\n",
    "C = np.array([[3, 2],\n",
    "              [0, 2]])\n",
    "Y = C @ X  # Vectors in t are the transformed vectors of x\n",
    "\n",
    "# getting a sample vector from x\n",
    "xs_1 = X[:, 15]\n",
    "xs_2 = X[:, 0]\n",
    "ys_1 = C @ xs_1\n",
    "ys_2 = C @ xs_2"
   ]
  },
  {
   "cell_type": "code",
   "execution_count": 9,
   "metadata": {
    "scrolled": true
   },
   "outputs": [
    {
     "data": {
      "image/png": "[encoded data removed]",
      "text/plain": [
       "<Figure size 720x1080 with 2 Axes>"
      ]
     },
     "metadata": {},
     "output_type": "display_data"
    }
   ],
   "source": [
    "fig, (ax1, ax2) = plt.subplots(1, 2, figsize=(10,15))\n",
    "\n",
    "plt.subplots_adjust(wspace=0.4)\n",
    "\n",
    "# Plotting X\n",
    "ax1.plot(X[0,:], X[1,:], color='b')\n",
    "ax1.quiver(*origin, xs_1[0], xs_1[1], color=['g'], width=0.012,\n",
    "           angles='xy', scale_units='xy', scale=1)\n",
    "ax1.quiver(*origin, xs_2[0], xs_2[1], color=['g'], width=0.012,\n",
    "           angles='xy', scale_units='xy', scale=1)\n",
    "ax1.set_xlabel('x')\n",
    "ax1.set_ylabel('y')\n",
    "ax1.set_xlim([-4,4])\n",
    "ax1.set_ylim([-4,4])\n",
    "ax1.set_aspect('equal')\n",
    "ax1.grid(True)\n",
    "ax1.set_axisbelow(True)\n",
    "ax1.set_title(\"До преобразования\")\n",
    "ax1.axhline(y=0, color='k')\n",
    "ax1.axvline(x=0, color='k')\n",
    "ax1.text(0.6, 1.0, \"$\\mathbf{x_1}$\")\n",
    "ax1.text(1.1, 0.2, \"$\\mathbf{x_2}$\")\n",
    "ax1.text(0.3, -1.3, \"$\\mathbf{X}$\", color='b')\n",
    "\n",
    "# Plotting Y\n",
    "ax2.plot(Y[0, :], Y[1, :], color='b')\n",
    "ax2.quiver(*origin, ys_1[0], ys_1[1], color=cm(3),\n",
    "           width=0.012, angles='xy', scale_units='xy', scale=1)\n",
    "ax2.quiver(*origin, ys_2[0], ys_2[1], color=cm(3),\n",
    "           width=0.012, angles='xy', scale_units='xy', scale=1)\n",
    "ax2.quiver(*origin, xs_1[0], xs_1[1], color=['g'],\n",
    "           width=0.012, angles='xy', scale_units='xy', scale=1)\n",
    "ax2.quiver(*origin, xs_2[0], xs_2[1], color=['g'],\n",
    "           width=0.012, angles='xy', scale_units='xy', scale=1)\n",
    "ax2.set_xlabel('x')\n",
    "ax2.set_ylabel('y')\n",
    "ax2.set_xlim([-4,4])\n",
    "ax2.set_ylim([-4,4])\n",
    "ax2.set_aspect('equal')\n",
    "ax2.grid(True)\n",
    "ax2.set_axisbelow(True)\n",
    "ax2.set_title(\"После преобразования\")\n",
    "ax2.axhline(y=0, color='k')\n",
    "ax2.axvline(x=0, color='k')\n",
    "ax2.text(3.3,  1.8, \"$\\mathbf{y_1}$\")\n",
    "ax2.text(3.0, -0.5, \"$\\mathbf{y_2}$\")\n",
    "ax2.text(1.0, -1.7, \"$\\mathbf{CX}$\", color='b')\n",
    "\n",
    "# plt.savefig('1.png', dpi=300, bbox_inches='tight')\n",
    "plt.show()"
   ]
  },
  {
   "cell_type": "markdown",
   "metadata": {},
   "source": [
    "Общее влияние преобразования $C$ на вектор $\\mathbf{x}$ &mdash; это сочетание вращения и растяжения.\n",
    "Например, оно изменяет  длину и направление вектора $\\mathbf{x_1}$.\n",
    "Однако вектор $\\mathbf{x_2}$ после преобразования изменяет только длину &mdash;\n",
    "матрица $C$ растягивает вектор $\\mathbf{x_2}$.\n",
    "<!-- Единственный способ изменить величину вектора без изменения его направления &mdash; умножить его на скаляр. -->\n",
    "Таким образом, для вектора $\\mathbf{x_2}$ эффект умножения на $C$ подобен умножению на скалярное число $\\lambda$:\n",
    "$$ C\\mathbf{x_2} = \\lambda \\mathbf{x_2}. $$"
   ]
  },
  {
   "cell_type": "markdown",
   "metadata": {},
   "source": [
    "---"
   ]
  },
  {
   "cell_type": "markdown",
   "metadata": {},
   "source": [
    "## Собственные векторы и собственные значения ##\n",
    "\n",
    "При исследовании структуры линейного оператора с матрицей $A$ большую роль играют векторы $\\mathbf{x}$, для которых\n",
    "$$ A\\mathbf{x} = \\lambda\\mathbf{x}. $$\n",
    "\n",
    "Такие векторы называются *собственными векторами*, а соответствующие им числа $\\lambda$ &mdash; *собственными числами* матрицы $A$.\n",
    "\n",
    "Для нахождения собственных чисел матрицы $A$ используется *характеристическое уравнение*\n",
    "$$ \\mathrm{det}(A - \\lambda E). $$\n",
    "\n",
    "\n",
    "**Некоторые свойства собственных векторов и собственных значений:**\n",
    "\n",
    "- Сумма собственных значений равна следу матрицы: $\\sum\\limits_{i+1}^{n} \\lambda_i  = \\mathrm{tr}(A)$\n",
    "- Произведение собственных значений равна определителю матрицы: $\\prod\\limits_{i=1}^n \\lambda_i = \\mathrm{det}(A)$\n",
    "- Если матрица $A$ треугольная, то собственные значения совпадают с её диагональными элементами\n",
    "- Собственные значений матрицы $A^k$ равны $\\lambda_i^k$, а собственные вектора матриц $A^k$ и $A$ совпадают\n",
    "- Собственные векторы матрицы $A$ ортогональны тогда и только тогда, когда $A^\\top A = A A^\\top$"
   ]
  },
  {
   "cell_type": "markdown",
   "metadata": {},
   "source": [
    "Почему для нас важны собственные векторы?\\\n",
    "Как уже упоминалось ранее, собственный вектор превращает умножение на матрицу в умножение на скаляр.\n",
    "\n",
    "Собственные векторы, их количество и вид, зависят от матрицы $A$.\n",
    "Пусть матрица $A$ размером $n \\times n$ имеет $n$ независимых собственных векторов (такая ситуация встречается довольно часто).\n",
    "В этом случае собственные векторы образуют базис, по которому можно разложить любой интересующий нас вектор:\n",
    "$$ \\mathbf{v} = c_1\\mathbf{u_1} + \\ldots + c_n\\mathbf{u_n}. $$\n",
    "\n",
    "И умножение любого вектора на матрицу $A^k$ можно представить в виде суммы\n",
    "$$ A^k\\mathbf{v} = c_1\\lambda_1^k\\mathbf{u_1} + \\ldots + c_n\\lambda_n^k\\mathbf{u_n}. $$"
   ]
  },
  {
   "cell_type": "markdown",
   "metadata": {},
   "source": [
    "---"
   ]
  },
  {
   "cell_type": "markdown",
   "metadata": {},
   "source": [
    "## Диагонализируемость ##\n",
    "\n",
    "### Подобные матрицы ###\n",
    "\n",
    "**Определение.** Матрицы $A$ и $B$ называются подобными, если существует невырожденная матрица $U$ такая, что $B = U^{-1}AU$. Матрица $U$ в этом случае называется матрицей перехода к другому базису.\n",
    "\n",
    "**Предложение 1.** Подобные матрицы имеют одни и те же собственные числа."
   ]
  },
  {
   "cell_type": "markdown",
   "metadata": {},
   "source": [
    "### Диагонализируемые матрицы ###\n",
    "\n",
    "Пусть матрица $A$ размера $n \\times n$ имеет $n$ линейно независимых собственных векторов.\n",
    "Если взять эти векторы в качестве столбцов матрицы $U$, то $U^{-1}AU$ будет диагональной матрицей $\\Lambda$, у которой на диагонали стоят собственные значения матрица $A$. \n",
    "\n",
    "**Теорема 1.** Матрица $A$ диагонализируема тогда и только тогда, когда существует базис из собственных векторов.\n",
    "\n",
    "**Теорема 2.** Матрица $A$ диагонализируема тогда и только тогда, когда кратность корня характеристического уравнения совпадает с размерностью собственного подпространства (алгебраическая кратность собственного значения совпадает с его геометрической кратностью).\n",
    "\n",
    "\n",
    "**Замечания:**\n",
    "\n",
    "1. Если все собственные значения матрицы различны, то матрица может быть приведена к диагональному виду.\n",
    "1. Диагонализирующая матрица $U$ неединственна (особенно в случае кратных собственных значений).\n",
    "1. Равенство $AU = U\\Lambda$ выполняется тогда и только тогда, когда столбцы матрицы $U$ являются собственными векторами.\n",
    "1. Не все матрицы диагонализируемы."
   ]
  },
  {
   "cell_type": "markdown",
   "metadata": {},
   "source": [
    "### Недиагонализируемые матрицы ###\n",
    "\n",
    "В общем случае матрица поворота не является диагонализируемой над вещественными числами, но все матрицы поворота диагонализируемы над полем комплексных чисел.\n",
    "\n",
    "Некоторые матрицы нельзя диагонализовать ни в $\\mathbb{R}$, ни в $\\mathbb{C}$.\n",
    "Среди них можно указать *ненулевые нильпотентные матрицы*.\n",
    "\n",
    "**Определение.** Нильпотентная матрица &mdash; матрица $N$, для которой существует целое число $k$ такое, что выполняется условие $N^k=0$.\n",
    "\n",
    "**Примеры:**\n",
    "\n",
    "1.\n",
    "$$\n",
    "  N_1 = \n",
    "  \\begin{pmatrix}\n",
    "    0 & 1 \\\\\n",
    "    0 & 0\n",
    "  \\end{pmatrix},\n",
    "  \\quad\n",
    "  N^2 = 0\n",
    "$$\n",
    "\n",
    "2.\n",
    "$$\n",
    "  N_2 = \n",
    "  \\begin{pmatrix}\n",
    "    5  & -3 & 2 \\\\\n",
    "    15 & -9 & 6 \\\\\n",
    "    10 & -6 & 4 \\\\\n",
    "  \\end{pmatrix},\n",
    "  \\quad\n",
    "  N^2 = 0\n",
    "$$\n",
    "\n",
    "3.\n",
    "$$\n",
    "  A_1 = \n",
    "  \\begin{pmatrix}\n",
    "    5 & 1 \\\\\n",
    "    0 & 5\n",
    "  \\end{pmatrix}\n",
    "$$\n",
    "\n",
    "4.\n",
    "$$\n",
    "  A_2 = \n",
    "  \\begin{pmatrix}\n",
    "    6 & -1 \\\\\n",
    "    1 & 4\n",
    "  \\end{pmatrix}\n",
    "$$"
   ]
  },
  {
   "cell_type": "markdown",
   "metadata": {},
   "source": [
    "---"
   ]
  },
  {
   "cell_type": "markdown",
   "metadata": {},
   "source": [
    "## Иллюстрации на Питоне ##\n",
    "\n",
    "Воспользуемся модулем `numpy.linalg` и найдём собственные числа и собственные векторы матрицы $C$.\n",
    "Далее немного порисуем.\n",
    "\n",
    "Но для начала проверим наши недиагонализируемые матрицы."
   ]
  },
  {
   "cell_type": "code",
   "execution_count": 10,
   "metadata": {},
   "outputs": [],
   "source": [
    "def diagonalize(A):\n",
    "    lmbd, U = LA.eig(A)\n",
    "    print('lambda = ', np.round(lmbd, 4))\n",
    "    print('U = ')\n",
    "    np.disp(U)\n",
    "\n",
    "#     Lmbd = LA.inv(U) @ A @ U\n",
    "#     np.disp(LA.inv(U))\n",
    "#     print('Lmbd = ')\n",
    "#     np.disp(Lmbd)"
   ]
  },
  {
   "cell_type": "code",
   "execution_count": 11,
   "metadata": {},
   "outputs": [
    {
     "name": "stdout",
     "output_type": "stream",
     "text": [
      "lambda =  [0. 0.]\n",
      "U = \n",
      "[[ 1.00000000e+000 -1.00000000e+000]\n",
      " [ 0.00000000e+000  2.00416836e-292]]\n"
     ]
    }
   ],
   "source": [
    "N1 = np.array([[0, 1],\n",
    "               [0, 0]])\n",
    "\n",
    "diagonalize(N1)"
   ]
  },
  {
   "cell_type": "code",
   "execution_count": 12,
   "metadata": {},
   "outputs": [
    {
     "name": "stdout",
     "output_type": "stream",
     "text": [
      "lambda =  [-0.  0.  0.]\n",
      "U = \n",
      "[[ 0.26726124 -0.26726124  0.47696581]\n",
      " [ 0.80178374 -0.80178372  0.22928416]\n",
      " [ 0.53452247 -0.5345225  -0.84848829]]\n"
     ]
    }
   ],
   "source": [
    "N2 = np.array([[ 5, -3, 2],\n",
    "               [15, -9, 6],\n",
    "               [10, -6, 4]])\n",
    "\n",
    "diagonalize(N2)"
   ]
  },
  {
   "cell_type": "code",
   "execution_count": 13,
   "metadata": {
    "scrolled": false
   },
   "outputs": [
    {
     "name": "stdout",
     "output_type": "stream",
     "text": [
      "lambda =  [5. 5.]\n",
      "U = \n",
      "[[ 1.00000000e+00 -1.00000000e+00]\n",
      " [ 0.00000000e+00  1.11022302e-15]]\n"
     ]
    }
   ],
   "source": [
    "A1 = np.array([[5, 1],\n",
    "               [0, 5]])\n",
    "\n",
    "diagonalize(A1)"
   ]
  },
  {
   "cell_type": "code",
   "execution_count": 14,
   "metadata": {},
   "outputs": [
    {
     "name": "stdout",
     "output_type": "stream",
     "text": [
      "lambda =  [5. 5.]\n",
      "U = \n",
      "[[0.70710678 0.70710678]\n",
      " [0.70710678 0.70710678]]\n"
     ]
    }
   ],
   "source": [
    "A2 = np.array([[6, -1],\n",
    "               [1,  4]])\n",
    "\n",
    "diagonalize(A2)"
   ]
  },
  {
   "cell_type": "markdown",
   "metadata": {},
   "source": [
    "Теперь поработаем с матрицей $C$:\n",
    "$$\n",
    "  C = \n",
    "  \\begin{pmatrix}\n",
    "    3 & 2 \\\\\n",
    "    0 & 2\n",
    "  \\end{pmatrix}.\n",
    "$$"
   ]
  },
  {
   "cell_type": "code",
   "execution_count": 15,
   "metadata": {},
   "outputs": [
    {
     "name": "stdout",
     "output_type": "stream",
     "text": [
      "lambda =  [3. 2.]\n"
     ]
    }
   ],
   "source": [
    "lmbd, U = LA.eig(C)\n",
    "CU = C @ U\n",
    "print('lambda = ', np.round(lmbd, 4))\n",
    "# print('U = ')\n",
    "# np.disp(np.round(U, 4))"
   ]
  },
  {
   "cell_type": "code",
   "execution_count": 16,
   "metadata": {
    "lines_to_next_cell": 0
   },
   "outputs": [
    {
     "data": {
      "image/png": "[encoded data removed]",
      "text/plain": [
       "<Figure size 720x1080 with 2 Axes>"
      ]
     },
     "metadata": {},
     "output_type": "display_data"
    }
   ],
   "source": [
    "Y = C @ X  # Vectors in y are the transformed vectors of x\n",
    "\n",
    "fig, (ax1, ax2) = plt.subplots(1, 2, figsize=(10,15))\n",
    "plt.subplots_adjust(wspace=0.4)\n",
    "\n",
    "# Plotting x\n",
    "ax1.plot(X[0,:], X[1,:], color='b')\n",
    "ax1.quiver(*origin, U[0,:], U[1,:], color=['g'],\n",
    "           width=0.012, angles='xy', scale_units='xy', scale=1)\n",
    "ax1.set_xlabel('x', fontsize=14)\n",
    "ax1.set_ylabel('y', fontsize=14)\n",
    "ax1.set_xlim([-4,4])\n",
    "ax1.set_ylim([-4,4])\n",
    "ax1.set_aspect('equal')\n",
    "ax1.grid(True)\n",
    "ax1.set_title(\"До преобразования\")\n",
    "ax1.axhline(y=0, color='k')\n",
    "ax1.axvline(x=0, color='k')\n",
    "ax1.text(1, 0.3, \"$\\mathbf{u_1}$\", fontsize=14)\n",
    "ax1.text(-1.6, 0.5, \"$\\mathbf{u_2}$\", fontsize=14)\n",
    "ax1.text(0.3, -1.3, \"$\\mathbf{X}$\", color='b', fontsize=14)\n",
    "\n",
    "# Plotting t\n",
    "ax2.plot(Y[0, :], Y[1, :], color='b')\n",
    "ax2.quiver(*origin, CU[0,:], CU[1,:], color=cm(3),\n",
    "           width=0.012, angles='xy', scale_units='xy', scale=1)\n",
    "ax2.quiver(*origin, U[0,:], U[1,:], color=['g'],\n",
    "           width=0.012, angles='xy', scale_units='xy', scale=1)\n",
    "ax2.set_xlabel('x', fontsize=14)\n",
    "ax2.set_ylabel('y', fontsize=14)\n",
    "ax2.set_xlim([-4,4])\n",
    "ax2.set_ylim([-4,4])\n",
    "ax2.set_aspect('equal')\n",
    "ax2.grid(True)\n",
    "ax2.set_title(\"После преобразования\")\n",
    "ax2.axhline(y=0, color='k')\n",
    "ax2.axvline(x=0, color='k')\n",
    "ax2.text(2.2, 0.3, \"$\\lambda_1 \\mathbf{u_1}$\", fontsize=14)\n",
    "ax2.text(-2.6, 1.2, \"$\\lambda_2 \\mathbf{u_2}$\", fontsize=14)\n",
    "ax2.text(1.0, -1.7, \"$\\mathbf{CX}$\", color='b', fontsize=14)\n",
    "\n",
    "plt.show()"
   ]
  },
  {
   "cell_type": "markdown",
   "metadata": {},
   "source": [
    "Теперь рассмотрим действие матрицы $S \\Lambda S^{-1}$ пошагово."
   ]
  },
  {
   "cell_type": "code",
   "execution_count": 17,
   "metadata": {},
   "outputs": [],
   "source": [
    "X1 = LA.inv(U) @ X\n",
    "X2 = np.diag(lmbd) @ X1\n",
    "X3 = U @ X2\n",
    "Xn = [X, X1, X2, X3]\n",
    "Xn_str = [\"$\\mathbf{X}$\", \"$\\mathbf{U^{-1}X}$\",\n",
    "          \"$\\mathbf{\\Lambda U^{-1}X}$\", \"$\\mathbf{S\\Lambda U^{-1}X}$\"]\n",
    "\n",
    "U1 = LA.inv(U) @ U\n",
    "U2 = np.diag(lmbd) @ U1\n",
    "U3 = U @ U2\n",
    "Un = [U, U1, U2, U3]"
   ]
  },
  {
   "cell_type": "code",
   "execution_count": 18,
   "metadata": {
    "lines_to_next_cell": 0
   },
   "outputs": [
    {
     "data": {
      "image/png": "[encoded data removed]",
      "text/plain": [
       "<Figure size 720x720 with 4 Axes>"
      ]
     },
     "metadata": {},
     "output_type": "display_data"
    }
   ],
   "source": [
    "fig, ax = plt.subplots(2, 2, figsize=(10,10))\n",
    "plt.subplots_adjust(wspace=0.4)\n",
    "\n",
    "for i, axi in enumerate(ax.flatten()):\n",
    "    axi.plot(Xn[i][0,:], Xn[i][1,:], color='b')\n",
    "    axi.quiver(*origin, Un[i][0,:], Un[i][1,:], color=['g'],\n",
    "               width=0.012, angles='xy', scale_units='xy', scale=1)\n",
    "    axi.set_xlabel('x', fontsize=14)\n",
    "    axi.set_ylabel('y', fontsize=14)\n",
    "    axi.set_xlim([-4, 4])\n",
    "    axi.set_ylim([-4, 4])\n",
    "    axi.set_aspect('equal')\n",
    "    axi.grid(True)\n",
    "    # axi.set_title(\"Original vectors\")\n",
    "    axi.axhline(y=0, color='k')\n",
    "    axi.axvline(x=0, color='k')\n",
    "    axi.text(*(Un[i].T[0]+[.1,.1]), \"$\\mathbf{u_1}$\", fontsize=14)\n",
    "    axi.text(*(Un[i].T[1]+[.1,.1]), \"$\\mathbf{u_2}$\", fontsize=14)\n",
    "    axi.text(1, -2, Xn_str[i], color='b', fontsize=14)"
   ]
  },
  {
   "cell_type": "markdown",
   "metadata": {},
   "source": [
    "## Симметричные матрицы ##\n",
    "\n",
    "Рассмотрим симметричную матрицу $S = S^\\top$.\n",
    "\n",
    "**Свойства:**\n",
    "\n",
    "1. все собственные числа вещественны,\n",
    "1. из собственных векторов всегда можно составить ортонормированный базис.\n",
    "\n",
    "Симметричную матрицу можно привести к диагональному виду:\n",
    "$$ S = Q \\Lambda Q^\\top, $$\n",
    "где $Q$ &mdash; диагональная матрица.\n",
    "\n",
    "Следовательно, любая симметричная матрица может быть представлена в виде\n",
    "\n",
    "$$ S = \\sum\\limits_{i=1}^n \\lambda_i \\mathbf{u}_i \\mathbf{u}_i^\\top. $$\n",
    "\n",
    "Это разложение известно под названием **спектральное разложение**. \\\n",
    "Оно выражает матрицу $S$ в виде комбинации одномерных проекций.\n",
    "Они разбивают любой вектор $\\mathbf{v}$ на его компоненты $\\mathbf{p} = \\mathbf{u}_i \\mathbf{u}_i^\\top \\mathbf{v}$ по направлениям единичных собственных векторов.\n",
    "\n",
    "Действие оператора с матрицей $S$ сводится к растяжению этих проекций в $\\lambda_i$ раз:\n",
    "\n",
    "$$ S\\mathbf{v} = \\sum\\limits_{i=1}^n \\lambda_i \\mathbf{u}_i \\mathbf{u}_i^\\top \\mathbf{v}. $$"
   ]
  },
  {
   "cell_type": "markdown",
   "metadata": {},
   "source": [
    "Рассмотрим симметричную матрицу:\n",
    "$$\n",
    "  S = \n",
    "  \\begin{pmatrix}\n",
    "    3 & 1 \\\\\n",
    "    1 & 2\n",
    "  \\end{pmatrix}.\n",
    "$$\n",
    "\n",
    "Найдём собственные значения и нарисуем собственные векторы.\n",
    "\n",
    "Мы видим, что собственные векторы находятся вдоль главных осей эллипса.\n",
    "Таким образом, матрица $U$ преобразует начальную окружность, растягивая её вдоль собственных векторов $\\mathbf{u_1}$ и $\\mathbf{u_2}$ в $\\lambda_1$ и $\\lambda_2$ раз соответственно.\n",
    "\n",
    "<!-- Если абсолютное значение собственного значения больше 1, то вдоль него происходит растяжение, а если меньше &mdash; сжитие. -->\n",
    "<!-- Отрицательные собственные значения соответствуют зеркальному отражению. -->"
   ]
  },
  {
   "cell_type": "code",
   "execution_count": 19,
   "metadata": {},
   "outputs": [
    {
     "name": "stdout",
     "output_type": "stream",
     "text": [
      "lambda =  [3.618 1.382]\n"
     ]
    }
   ],
   "source": [
    "S = np.array([[3, 1],\n",
    "              [1, 2]])\n",
    "lmbd, U = LA.eig(S)\n",
    "SU = U @ np.diag(lmbd)   # S*U = U*Lmbd\n",
    "print('lambda = ', np.round(lmbd, 4))\n",
    "# print('u = ')\n",
    "# np.disp(np.round(u, 4))"
   ]
  },
  {
   "cell_type": "code",
   "execution_count": 20,
   "metadata": {
    "lines_to_next_cell": 0
   },
   "outputs": [
    {
     "data": {
      "image/png": "[encoded data removed]",
      "text/plain": [
       "<Figure size 720x1080 with 2 Axes>"
      ]
     },
     "metadata": {},
     "output_type": "display_data"
    }
   ],
   "source": [
    "Y = S @ X   # Vectors in t are the transformed vectors of x\n",
    "fig, (ax1, ax2) = plt.subplots(1, 2, figsize=(10,15))\n",
    "\n",
    "plt.subplots_adjust(wspace=0.4)\n",
    "\n",
    "# Plotting X\n",
    "ax1.plot(X[0,:], X[1,:], color='b')\n",
    "ax1.quiver(*origin, U[0,:], U[1,:], color=['g'],\n",
    "           width=0.012, angles='xy', scale_units='xy', scale=1)\n",
    "ax1.set_xlabel('x', fontsize=14)\n",
    "ax1.set_ylabel('y', fontsize=14)\n",
    "ax1.set_xlim([-4,4])\n",
    "ax1.set_ylim([-4,4])\n",
    "ax1.set_aspect('equal')\n",
    "ax1.grid(True)\n",
    "ax1.set_title(\"До преобразования\")\n",
    "ax1.axhline(y=0, color='k')\n",
    "ax1.axvline(x=0, color='k')\n",
    "ax1.text(1, 0.3, \"$\\mathbf{u_1}$\", fontsize=14)\n",
    "ax1.text(-1.2, 1.0, \"$\\mathbf{u_2}$\", fontsize=14)\n",
    "ax1.text(0.3, -1.3, \"$\\mathbf{X}$\", color='b', fontsize=14)\n",
    "\n",
    "# Plotting Y\n",
    "ax2.plot(Y[0, :], Y[1, :], color='b')\n",
    "ax2.quiver(*origin, SU[0,:], SU[1,:], color=cm(3),\n",
    "           width=0.012, angles='xy', scale_units='xy', scale=1)\n",
    "ax2.quiver(*origin, U[0,:], U[1,:], color=cm(2),\n",
    "           width=0.012, angles='xy', scale_units='xy', scale=1)\n",
    "ax2.set_xlabel('x', fontsize=14)\n",
    "ax2.set_ylabel('y', fontsize=14)\n",
    "ax2.set_xlim([-4,4])\n",
    "ax2.set_ylim([-4,4])\n",
    "ax2.set_aspect('equal')\n",
    "ax2.grid(True)\n",
    "ax2.set_title(\"После преобразования\")\n",
    "ax2.axhline(y=0, color='k')\n",
    "ax2.axvline(x=0, color='k')\n",
    "ax2.text(2.7, 2.3, \"$\\lambda_1 \\mathbf{u_1}$\", fontsize=14)\n",
    "ax2.text(-2.0, 1.4, \"$\\lambda_2 \\mathbf{u_2}$\", fontsize=14)\n",
    "ax2.text(0.9, -1.5, \"$\\mathbf{SX}$\", color='b', fontsize=14)\n",
    "\n",
    "plt.show()"
   ]
  },
  {
   "cell_type": "markdown",
   "metadata": {},
   "source": [
    "---"
   ]
  },
  {
   "cell_type": "markdown",
   "metadata": {},
   "source": [
    "## Полярное разложение ##\n",
    "\n",
    "Каждое комплексное число $z = x + iy$ можно представить в виде $z = r e^{i\\theta}$.\n",
    "Вектор $e^{i\\theta}$, лежащий на единичной окружности, умножается на число $r \\ge 0$ (&laquo;растягивается&raquo; в $r$ раз).\n",
    "\n",
    "Между комплексными числами и матрицами можно провести аналогию: $r$ и $e^{i\\theta}$ &mdash; это симметричная матрица $S$ и ортогональная $Q$.\n",
    "\n",
    "**Предложение.** Любая квадратная матрица может быть представлена в виде\n",
    "\n",
    "$$ A = QS, $$\n",
    "\n",
    "где $Q$ &mdash; ортогональная, а $S$ &mdash; положительно полуопределённая матрицы.\n",
    "Причём если $A$ невырождена, то $S$ &mdash; строго положительно определённая матрица.\n",
    "Такое разложение называется *полярным разложением* матрицы $A$.\n",
    "\n",
    "Таким образом, любое линейное преобразование $A$ можно представить в виде комбинации *вращения* и *растяжения к взаимно препендикулярным осям*."
   ]
  },
  {
   "cell_type": "markdown",
   "metadata": {},
   "source": [
    "---"
   ]
  },
  {
   "cell_type": "markdown",
   "metadata": {},
   "source": [
    "## Алгоритмы поиска собственных чисел  ##\n",
    "\n",
    "Проблема собственных значений намного сложнее, чем рассматриваемая нами ранее задача решения системы линейных уравнений.\n",
    "Все имеющиеся методы её решения могут быть разделены на две большие группы: прямые методы, основанные на решении характеристического уравнения, и итерационные методы.\n",
    "\n",
    "В прямых методах важным этапом является нахождение коэффициентов характеристического многочлена, так как их вычисление требует осуществления очень большого числа арифметических операций.\n",
    "Результат, получаемый прямыми методами, является в принципе приближённым, так как корни характеристического многочлена могут быть найдены только приближённо.\n",
    "\n",
    "К итерационным методам относятся метод вращений, степенной метод и $QR$-алгоритм.\n",
    "Остановимся на последнем."
   ]
  },
  {
   "cell_type": "markdown",
   "metadata": {},
   "source": [
    "### $\\mathbf{QR}$-алгоритм ###\n",
    "\n",
    "В основе этого алгоритма лежит следующий процесс.\n",
    "\n",
    "Найдём $QR$-разложение исходной матрицы. Пусть $A = Q_1 R_1$. \\\n",
    "Положим $A_1 = R_1 Q_1$ и найдём для матрицы $A_1$ её $QR$-разложение $A_1 = Q_2 R_2$.\n",
    "Матрицу $A_2$ получим, переставив сомножители $Q_2$ и $R_2$ и т.д.\n",
    "$$ A_{k-1} = Q_k R_k, \\quad A_k = R_k Q_k. $$\n",
    "\n",
    "При этом $A_k = Q_k^{-1} A_{k-1} Q_k$.\n",
    "Поэтому все характеристические числа матриц $A_k$ совпадают.\n",
    "\n",
    "Можно доказать, что те элементы $A_k$, которые лежат ниже диагональных клеток, стремятся к нулю, а элементы этих клеток и вышележащие элементы ограничены."
   ]
  },
  {
   "cell_type": "code",
   "execution_count": 21,
   "metadata": {},
   "outputs": [
    {
     "name": "stdout",
     "output_type": "stream",
     "text": [
      "lambda =  [15 10  5]\n",
      "[[ 6.57894737  6.31578947  6.31578947]\n",
      " [ 0.26315789 11.05263158  1.05263158]\n",
      " [ 1.84210526  2.36842105 12.36842105]]\n"
     ]
    }
   ],
   "source": [
    "np.random.seed(12345)\n",
    "\n",
    "lmbd = [15, 10, 5]\n",
    "D = np.diag(lmbd)\n",
    "B = np.random.randint(-5, 5, (3,3))\n",
    "# print(B)\n",
    "A = B @ D @ LA.inv(B)\n",
    "\n",
    "print('lambda = ', np.round(lmbd, 4))\n",
    "np.disp(A)"
   ]
  },
  {
   "cell_type": "code",
   "execution_count": 29,
   "metadata": {
    "scrolled": true
   },
   "outputs": [
    {
     "name": "stdout",
     "output_type": "stream",
     "text": [
      "iter  1: diag = [ 9.4   10.829  9.771]\n",
      "iter  2: diag = [12.603 10.446  6.952]\n",
      "iter  3: diag = [14.132 10.461  5.408]\n",
      "iter  4: diag = [14.659 10.355  4.985]\n",
      "iter  5: diag = [14.85  10.222  4.928]\n",
      "iter  6: diag = [14.926 10.129  4.945]\n",
      "iter  7: diag = [14.959 10.074  4.967]\n",
      "iter  8: diag = [14.976 10.042  4.982]\n",
      "iter  9: diag = [14.985 10.025  4.99 ]\n",
      "iter 10: diag = [14.99  10.015  4.995]\n"
     ]
    }
   ],
   "source": [
    "Ak = A\n",
    "for i in range(10):\n",
    "    Q, R = LA.qr(Ak)\n",
    "    Ak = R @ Q\n",
    "    print(f'iter {i+1:2}: diag =', np.round(np.diag(Ak), 3))"
   ]
  },
  {
   "cell_type": "markdown",
   "metadata": {},
   "source": [
    "---"
   ]
  },
  {
   "cell_type": "markdown",
   "metadata": {},
   "source": [
    "## Источники ##\n",
    "\n",
    "1. *Гантмахер Ф.Р.* Теория матриц. &mdash; М.: Наука, 1967. &mdash; 576 с.\n",
    "1. *Стренг Г.* Линейная алгебра и её применения. &mdash; М.: Мир, 1980. &mdash; 454 с.\n",
    "1. *Strang G.* Linear algebra and learning from data. &mdash; Wellesley-Cambridge Press, 2019. &mdash; 432 p.\n",
    "1. [Материалы](https://towardsdatascience.com/understanding-singular-value-decomposition-and-its-application-in-data-science-388a54be95d) автора [Reza Bagheri](https://medium.com/@reza.bagheri79).\n",
    "1. *Беклемишев Д.В.* Дополнительные главы линейной алгебры. &mdash; М.: Наука, 1983. &mdash; 336 с."
   ]
  },
  {
   "cell_type": "code",
   "execution_count": 23,
   "metadata": {},
   "outputs": [
    {
     "name": "stdout",
     "output_type": "stream",
     "text": [
      "Python: 3.7.7\n",
      "numpy: 1.18.1\n",
      "matplotlib: 3.2.1\n",
      "seaborn: 0.10.1\n"
     ]
    }
   ],
   "source": [
    "# Versions used\n",
    "print('Python: {}.{}.{}'.format(*sys.version_info[:3]))\n",
    "print('numpy: {}'.format(np.__version__))\n",
    "print('matplotlib: {}'.format(matplotlib.__version__))\n",
    "print('seaborn: {}'.format(seaborn.__version__))\n",
    "# print('scipy: {}'.format(sp.__version__))"
   ]
  },
  {
   "cell_type": "code",
   "execution_count": null,
   "metadata": {},
   "outputs": [],
   "source": []
  }
 ],
 "metadata": {
  "jupytext": {
   "encoding": "# -*- coding: utf-8 -*-",
   "formats": "ipynb,py:light"
  },
  "kernelspec": {
   "display_name": "Python 3",
   "language": "python",
   "name": "python3"
  },
  "language_info": {
   "codemirror_mode": {
    "name": "ipython",
    "version": 3
   },
   "file_extension": ".py",
   "mimetype": "text/x-python",
   "name": "python",
   "nbconvert_exporter": "python",
   "pygments_lexer": "ipython3",
   "version": "3.7.7"
  },
  "toc": {
   "base_numbering": 1,
   "nav_menu": {},
   "number_sections": true,
   "sideBar": true,
   "skip_h1_title": true,
   "title_cell": "Содержание",
   "title_sidebar": "Contents",
   "toc_cell": true,
   "toc_position": {},
   "toc_section_display": true,
   "toc_window_display": false
  }
 },
 "nbformat": 4,
 "nbformat_minor": 4
}
