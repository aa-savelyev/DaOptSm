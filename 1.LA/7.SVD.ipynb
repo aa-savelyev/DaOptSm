{
 "cells": [
  {
   "cell_type": "markdown",
   "metadata": {},
   "source": [
    "**Лекция 7**\n",
    "\n",
    "# Сингулярное разложение матриц #"
   ]
  },
  {
   "cell_type": "markdown",
   "metadata": {
    "toc": true
   },
   "source": [
    "<h1>Содержание<span class=\"tocSkip\"></span></h1>\n",
    "<div class=\"toc\"><ul class=\"toc-item\"><li><span><a href=\"#Постановка-задачи\" data-toc-modified-id=\"Постановка-задачи-1\"><span class=\"toc-item-num\">1&nbsp;&nbsp;</span>Постановка задачи</a></span></li><li><span><a href=\"#Преобразования-$\\mathbf{A^\\top-A}$-и-$\\mathbf{A-A^\\top}$\" data-toc-modified-id=\"Преобразования-$\\mathbf{A^\\top-A}$-и-$\\mathbf{A-A^\\top}$-2\"><span class=\"toc-item-num\">2&nbsp;&nbsp;</span>Преобразования $\\mathbf{A^\\top A}$ и $\\mathbf{A A^\\top}$</a></span></li><li><span><a href=\"#Сингулярные-базисы,-сингулярное-разложение\" data-toc-modified-id=\"Сингулярные-базисы,-сингулярное-разложение-3\"><span class=\"toc-item-num\">3&nbsp;&nbsp;</span>Сингулярные базисы, сингулярное разложение</a></span></li><li><span><a href=\"#Геометрический-смысл\" data-toc-modified-id=\"Геометрический-смысл-4\"><span class=\"toc-item-num\">4&nbsp;&nbsp;</span>Геометрический смысл</a></span><ul class=\"toc-item\"><li><span><a href=\"#Спектральное-разложение\" data-toc-modified-id=\"Спектральное-разложение-4.1\"><span class=\"toc-item-num\">4.1&nbsp;&nbsp;</span>Спектральное разложение</a></span></li><li><span><a href=\"#Сингулярное-разложение\" data-toc-modified-id=\"Сингулярное-разложение-4.2\"><span class=\"toc-item-num\">4.2&nbsp;&nbsp;</span>Сингулярное разложение</a></span></li></ul></li><li><span><a href=\"#Источники\" data-toc-modified-id=\"Источники-5\"><span class=\"toc-item-num\">5&nbsp;&nbsp;</span>Источники</a></span></li></ul></div>"
   ]
  },
  {
   "cell_type": "code",
   "execution_count": 1,
   "metadata": {},
   "outputs": [],
   "source": [
    "# Imports\n",
    "import sys\n",
    "import numpy as np\n",
    "from numpy import linalg as LA\n",
    "import matplotlib.pyplot as plt"
   ]
  },
  {
   "cell_type": "code",
   "execution_count": 11,
   "metadata": {},
   "outputs": [],
   "source": [
    "# Styles\n",
    "import warnings\n",
    "warnings.filterwarnings('ignore')\n",
    "\n",
    "import matplotlib\n",
    "matplotlib.rcParams['font.size'] = 14\n",
    "matplotlib.rcParams['lines.linewidth'] = 1.5\n",
    "matplotlib.rcParams['lines.markersize'] = 4\n",
    "cm = plt.cm.tab10  # Colormap\n",
    "\n",
    "import seaborn\n",
    "seaborn.set_style('whitegrid')"
   ]
  },
  {
   "cell_type": "markdown",
   "metadata": {},
   "source": [
    "---"
   ]
  },
  {
   "cell_type": "markdown",
   "metadata": {},
   "source": [
    "## Постановка задачи ##\n",
    "\n",
    "В прошлый раз мы увидели: некоторые квадратные матрицы могут быть представлены в виде $A = S \\Lambda S^{-1}$.\n",
    "Наилучшие представители квадратных матриц &mdash; симметричные матрицы &mdash; представимы в виде $A = Q \\Lambda Q^\\top$ ($Q$ &mdash; ортогональная матрица). \\\n",
    "Но как быть, если матрица недиагонализируема? И как быть, если матрица даже не квадратная?\n",
    "\n",
    "Рассмотрим матрицу $A$ размерностью $m \\times n$. \\\n",
    "Соответствующий ей линейный оператор переводит вектор $\\mathbf{x}$ из $\\mathbb{R}^n$ в $\\mathbb{R}^m$.\n",
    "Поэтому теперь нам потребуется два ортонормированных базиса &laquo;собственных&raquo; (на самом деле *сингулярных*) векторов $\\mathbf{v}_1, \\ldots, \\mathbf{v}_n$ из $\\mathbb{R}^n$ и $\\mathbf{u}_1, \\ldots, \\mathbf{u}_m$ из $\\mathbb{R}^m$.\n",
    "И мы будем искать решение уравнения $A\\mathbf{v} = \\sigma \\mathbf{u}$.\n",
    "\n",
    "Или в матричном виде\n",
    "\n",
    "$$ A V = U \\Sigma $$\n",
    "и\n",
    "$$ A = U \\Sigma V^\\top. $$"
   ]
  },
  {
   "cell_type": "markdown",
   "metadata": {},
   "source": [
    "---"
   ]
  },
  {
   "cell_type": "markdown",
   "metadata": {},
   "source": [
    "## Преобразования $\\mathbf{A^\\top A}$ и $\\mathbf{A A^\\top}$ ##\n",
    "\n",
    "Рассмотрим преобразования $A^\\top A$ и $A A^\\top$.\n",
    "Сначала повторим то, что уже знаем о них:\n",
    "\n",
    "1. Ядро преобразования $A^\\top A$ совпадает с ядром отображения $A$, а образ $A^\\top A$ &mdash; с образом отображения $A^\\top$.\n",
    "1. Ранги матриц $A$, $A^\\top$, $A^\\top A$ и $AA^\\top$ равны.\n",
    "1. Матрицы $A^\\top A$ и $A A^\\top$ симметричные и неотрицательно определённые (все собственные значения $\\lambda_i \\ge 0$).\n",
    "\n",
    "**Предложение.** Если $\\mathbf{x}$ &mdash; собственный вектор преобразования $A^\\top A$, принадлежащий собственному значения $\\lambda \\ne 0$, то $A(\\mathbf{x})$ &mdash; собственный вектор преобразования $A A^\\top$, принадлежащий тому же собственному значению. При этом линейно независимым собственным векторам $\\mathbf{x}_1, \\ldots, \\mathbf{x}_s$ преобразования $A^\\top A$ соответствуют линейно независимые собственные векторы $A(\\mathbf{x}_1), \\ldots, A(\\mathbf{x}_s)$ преобразования $A A^\\top$.  \n",
    "**Доказательство.** Пусть $A^\\top A (\\mathbf{x}) = \\lambda \\mathbf{x}$. Подействует отображением $A$ на обе части этого равенства: $(A A^\\top) A(\\mathbf{x}) = \\lambda A(\\mathbf{x})$. Вектор $A(\\mathbf{x})$ собственный для $A A^\\top$ и принадлежит значению $\\lambda$. \\\n",
    "Вторую часть утверждения докажем от противного.\n",
    "предположим, что векторы $A(\\mathbf{x}_1), \\ldots, A(\\mathbf{x}_s)$ линейно зависимы и $\\alpha_1 A(\\mathbf{x}_1), \\ldots, \\alpha_s A(\\mathbf{x}_s)$ &mdash; их нетривиальная линейная комбинация, равная нулю.\n",
    "Подействовав на неё отображением $A^\\top$, получим\n",
    "\n",
    "$$\n",
    "  \\alpha_1 A^\\top A(\\mathbf{x}_1) + \\ldots + \\alpha_s A^\\top A(\\mathbf{x}_s) = \\alpha_1 \\lambda_1 \\mathbf{x}_1 + \\ldots + \\alpha_s  \\lambda_s \\mathbf{x}_s = 0,\n",
    "$$\n",
    "\n",
    "что противоречит линейной независимости векторов $\\mathbf{x}_1, \\ldots, \\mathbf{x}_s$.\n",
    "Предложение доказано.\n",
    "\n",
    "**Следствие.** Ненулевые собственные значения преобразований $A^\\top A$ и $A A^\\top$ совпадают, причём равные собственные значения имеют одинаковые кратности.\n",
    "\n",
    ">**Замечание.** В доказательстве нигде не использовался тот факт, что вторая матрица в произведении является транспонированной первой.\n",
    "Поэтому предложение о совпадении собственных значений справедливо и в общем случае &mdash; для матриц $AB$ и $BA$ (если, конечно, размерности матриц позволяют их таким образом умножать)."
   ]
  },
  {
   "cell_type": "markdown",
   "metadata": {},
   "source": [
    "---"
   ]
  },
  {
   "cell_type": "markdown",
   "metadata": {},
   "source": [
    "## Сингулярные базисы, сингулярное разложение ##\n",
    "\n",
    "Итак, матрицы $A^\\top A$ и $A A^\\top$ можно представить в виде\n",
    "\n",
    "$$ A^\\top A = V \\Lambda_1 V^\\top  \\tag{1}\\label{AtA_decomp} $$\n",
    "и \n",
    "$$ A A^\\top = U \\Lambda_2 U^\\top. \\tag{2}\\label{AAt_decomp} $$\n",
    "\n",
    "Причём матрицы $\\Lambda_1$ и $\\Lambda_2$ отличаются только размером: ненулевые диагональные элементы матриц совпадают.\n",
    "\n",
    "**Определение.** *Первым сингулярным базисом* отображения $A$ называется ортонормированный базис в $\\mathbb{R}^n$, состоящий из собственных векторов $\\mathbf{v}_i$ преобразования $A^\\top A$, если векторы базиса упорядочены так, что соответствующие собственные значения не возрастают: $\\lambda_1 \\ge \\ldots \\ge \\lambda_n$.\n",
    "\n",
    "**Определение.** Числа $\\sigma_i = \\sqrt{\\lambda_i}$ называются *сингулярными числами* отображения $A$.\n",
    "\n",
    "**Определение.** *Вторым сингулярным базисом* отображения $A$ называется ортонормированный базис в $\\mathbb{R}^m$, состоящий из собственных векторов $\\mathbf{u}_i$ преобразования $A A^\\top$. Его первые $r$ векторов имеют вид $\\mathbf{u}_i = \\sigma_i^{-1} A(\\mathbf{v}_i)$.\n",
    "\n",
    "\n",
    "**Теорема.** Произвольная матрица $A$ размера $m \\times n$ и ранга $r$ может быть представлена в виде\n",
    "\n",
    "$$ A = U \\Sigma V^\\top, \\tag{3}\\label{SVD} $$\n",
    "\n",
    "где $U$ &mdash; ортогональная матрица размера $m \\times m$, $V^\\top$ &mdash; ортогональная матрица размера $n \\times n$, а $\\Sigma$ &mdash; матрица, на главной диагонали у которой расположены $r$ положительных чисел $\\sigma_1, \\ldots, \\sigma_r$, а остальные элементы нулевые.\n",
    "Такое разложение называется *сингулярным разложением* (singular value decomposition, SVD).\n",
    "\n",
    "\n",
    "В самом деле, подставляя выражение $\\eqref{SVD}$ в разложения $\\eqref{AtA_decomp}$ и $\\eqref{AAt_decomp}$, получим\n",
    "\n",
    "$$ A^\\top A = V \\Sigma^\\top U^\\top \\cdot U \\Sigma V^\\top = V \\Sigma^\\top \\Sigma V^\\top $$\n",
    "и \n",
    "$$ A A^\\top = U \\Sigma V^\\top \\cdot V \\Sigma^\\top U^\\top = U \\Sigma \\Sigma^\\top U^\\top. $$\n",
    "\n",
    "Мы видим, что столбцами матрицы $V$ являются векторы первого сингулярного базиса, столбцами матрицы $U$ &mdash; второго, а на главной диагонали матрицы $\\Sigma$ стоят сингулярные числа $\\sigma_i = \\sqrt{\\lambda_i}$.\n",
    "\n",
    "**Примечание.** Часто под сингулярным разложением понимают его упрощённую форму, в которую входят только сингулярные векторы, соответствующие ненулевым сингулярным числам.\n",
    "В этом случае матрица $U$ будет иметь размер $m \\times r$, $\\Sigma$ &mdash; $r \\times r$, а $V$ &mdash; $r \\times n$."
   ]
  },
  {
   "cell_type": "markdown",
   "metadata": {},
   "source": [
    "**Свойства сингулярного разложения:**\n",
    "\n",
    "1. Ненулевые сингулярные числа отображений $A$ и $A^\\top$ совпадают.\n",
    "1. Если отображение $A$ обратимо и $\\sigma_i$ &mdash; его сингулярные числа, то $\\sigma_i^{-1}$ &mdash; сингулярные числа $A^{-1}$. Первый и второй сингулярные базисы $A$ отличаются от соответственно второго и первого сингулярных базисов $A^\\top$ не больше чем порядком векторов. \n",
    "1. С помощью SVD можно получить явную формулу для псевдообратной матрицы:\n",
    "$$ A^{+} = V \\Sigma^{+} U^\\top = \\sum_{i=1}^r \\frac{1}{\\sigma_i} \\mathbf{v}_i \\mathbf{u}_i^\\top. $$"
   ]
  },
  {
   "cell_type": "markdown",
   "metadata": {},
   "source": [
    "---"
   ]
  },
  {
   "cell_type": "markdown",
   "metadata": {},
   "source": [
    "## Геометрический смысл ##\n",
    "\n",
    "Посмотрим, что представляет собой сингулярное разложение с точки зрения геометрии.\n",
    "\n",
    "На этот раз возьмём квадрат и сравним его преобразования в случае разложения по собственным и сингулярным числам.\n",
    "\n",
    "В качестве преобразования возьмём матрицу $C$:\n",
    "$$\n",
    "  C = \n",
    "  \\begin{pmatrix}\n",
    "    3 & 2 \\\\\n",
    "    0 & 2\n",
    "  \\end{pmatrix}.\n",
    "$$"
   ]
  },
  {
   "cell_type": "code",
   "execution_count": 3,
   "metadata": {},
   "outputs": [],
   "source": [
    "C = np.array([[3, 2],\n",
    "              [0, 2]])\n",
    "\n",
    "origin = [[0,0], [0,0]] # origin point\n",
    "Sq = np.array([[-1,1], [1,1], [1,-1], [-1,-1], [-1,1]]).T"
   ]
  },
  {
   "cell_type": "markdown",
   "metadata": {},
   "source": [
    "### Спектральное разложение ###"
   ]
  },
  {
   "cell_type": "code",
   "execution_count": 4,
   "metadata": {},
   "outputs": [
    {
     "name": "stdout",
     "output_type": "stream",
     "text": [
      "lambda =  [3. 2.]\n",
      "U = \n",
      "[[ 1.     -0.8944]\n",
      " [ 0.      0.4472]]\n"
     ]
    }
   ],
   "source": [
    "lmbd, U = LA.eig(C)\n",
    "CU = C @ U\n",
    "print('lambda = ', np.round(lmbd, 4))\n",
    "print('U = ')\n",
    "np.disp(np.round(U, 4))"
   ]
  },
  {
   "cell_type": "code",
   "execution_count": 5,
   "metadata": {},
   "outputs": [],
   "source": [
    "Sq1 = LA.inv(U) @ Sq\n",
    "Sq2 = np.diag(lmbd) @ Sq1\n",
    "Sq3 = U @ Sq2\n",
    "Sqn = [Sq, Sq1, Sq2, Sq3]\n",
    "Sqn_str = [\"$\\mathbf{X}$\", \"$\\mathbf{U^{-1} X}$\",\n",
    "         \" $\\mathbf{\\Lambda U^{-1} X}$\", \"$\\mathbf{U\\Lambda U^{-1} X}$\"]\n",
    "\n",
    "U1 = LA.inv(U) @ U\n",
    "U2 = np.diag(lmbd) @ U1\n",
    "U3 = U @ U2\n",
    "Un = [U, U1, U2, U3]"
   ]
  },
  {
   "cell_type": "code",
   "execution_count": 6,
   "metadata": {},
   "outputs": [
    {
     "data": {
      "image/png": "[encoded data removed]",
      "text/plain": [
       "<Figure size 720x720 with 4 Axes>"
      ]
     },
     "metadata": {},
     "output_type": "display_data"
    }
   ],
   "source": [
    "fig, ax = plt.subplots(2, 2, figsize=(10,10))\n",
    "plt.subplots_adjust(wspace=0.4)\n",
    "\n",
    "for i, axi in enumerate(ax.flatten()):\n",
    "    axi.plot(Sqn[i][0,:], Sqn[i][1,:], color='b')\n",
    "    axi.quiver(*origin, Un[i][0,:], Un[i][1,:], color=['g'],\n",
    "               width=0.012, angles='xy', scale_units='xy', scale=1)\n",
    "    axi.set_xlabel('x')\n",
    "    axi.set_ylabel('y')\n",
    "    axi.set_xlim([-4, 4])\n",
    "    axi.set_ylim([-4, 4])\n",
    "    axi.set_aspect('equal')\n",
    "    axi.grid(True)\n",
    "    # axi.set_title(\"Original vectors\")\n",
    "    axi.axhline(y=0, color='k')\n",
    "    axi.axvline(x=0, color='k')\n",
    "    axi.text(*(Un[i].T[0]+[.1,.1]), \"$\\mathbf{u_1}$\")\n",
    "    axi.text(*(Un[i].T[1]+[.1,.1]), \"$\\mathbf{u_2}$\")\n",
    "    axi.text(1.4, -2, Sqn_str[i], color='b')"
   ]
  },
  {
   "cell_type": "markdown",
   "metadata": {},
   "source": [
    "### Сингулярное разложение ###"
   ]
  },
  {
   "cell_type": "code",
   "execution_count": 7,
   "metadata": {},
   "outputs": [
    {
     "name": "stdout",
     "output_type": "stream",
     "text": [
      "sigma = \n",
      "[3.81061639 1.57454841]\n",
      "U = \n",
      "[[ 0.9347217  -0.35538056]\n",
      " [ 0.35538056  0.9347217 ]]\n",
      "Vt = \n",
      "[[ 0.73588229  0.67710949]\n",
      " [-0.67710949  0.73588229]]\n"
     ]
    }
   ],
   "source": [
    "U, sgm, Vt = LA.svd(C)\n",
    "\n",
    "print('sigma = ')\n",
    "np.disp(sgm)\n",
    "print('U = ')\n",
    "np.disp(U)\n",
    "print('Vt = ')\n",
    "np.disp(Vt)"
   ]
  },
  {
   "cell_type": "code",
   "execution_count": 8,
   "metadata": {},
   "outputs": [],
   "source": [
    "Sq1 = Vt @ Sq\n",
    "Sq2 = np.diag(sgm) @ Sq1\n",
    "Sq3 = U @ Sq2\n",
    "Sqn = [Sq, Sq1, Sq2, Sq3]\n",
    "Sqn_str = [\"$\\mathbf{X}$\", \"$\\mathbf{U^{-1} X}$\",\n",
    "         \" $\\mathbf{\\Lambda U^{-1} X}$\", \"$\\mathbf{U\\Lambda U^{-1} X}$\"]\n",
    "\n",
    "V = Vt.T\n",
    "V1 = Vt @ V\n",
    "V2 = np.diag(sgm) @ V1\n",
    "V3 = U @ V2\n",
    "Vn = [V, V1, V2, V3]"
   ]
  },
  {
   "cell_type": "code",
   "execution_count": 9,
   "metadata": {
    "scrolled": false
   },
   "outputs": [
    {
     "data": {
      "image/png": "[encoded data removed]",
      "text/plain": [
       "<Figure size 720x720 with 4 Axes>"
      ]
     },
     "metadata": {},
     "output_type": "display_data"
    }
   ],
   "source": [
    "fig, ax = plt.subplots(2, 2, figsize=(10,10))\n",
    "plt.subplots_adjust(wspace=0.4)\n",
    "\n",
    "for i, axi in enumerate(ax.flatten()):\n",
    "    axi.plot(Sqn[i][0,:], Sqn[i][1,:], color='b')\n",
    "    axi.quiver(*origin, Vn[i][0,:], Vn[i][1,:], color=['g'],\n",
    "               width=0.01, angles='xy', scale_units='xy', scale=1)\n",
    "    axi.quiver(*origin, U[0,:], U[1,:], color=['r'],\n",
    "               width=0.01, angles='xy', scale_units='xy', scale=1)\n",
    "    axi.set_xlabel('x')\n",
    "    axi.set_ylabel('y')\n",
    "    axi.set_xlim([-4, 4])\n",
    "    axi.set_ylim([-4, 4])\n",
    "    axi.set_aspect('equal')\n",
    "    axi.grid(True)\n",
    "    # axi.set_title(\"Original vectors\")\n",
    "    axi.axhline(y=0, color='k')\n",
    "    axi.axvline(x=0, color='k')\n",
    "    axi.text(*(Vn[i].T[0]+[.05,.05]), \"$\\mathbf{v_1}$\")\n",
    "    axi.text(*(Vn[i].T[1]+[.05,.05]), \"$\\mathbf{v_2}$\")\n",
    "    axi.text(1.5, -2, Sqn_str[i], color='b')"
   ]
  },
  {
   "cell_type": "markdown",
   "metadata": {},
   "source": [
    "---"
   ]
  },
  {
   "cell_type": "markdown",
   "metadata": {},
   "source": [
    "## Источники ##\n",
    "\n",
    "1. *Беклемишев Д.В.* Дополнительные главы линейной алгебры. &mdash; М.: Наука, 1983. &mdash; 336 с.\n",
    "1. [Материалы](https://towardsdatascience.com/understanding-singular-value-decomposition-and-its-application-in-data-science-388a54be95d) автора [Reza Bagheri](https://reza-bagheri79.medium.com/)."
   ]
  },
  {
   "cell_type": "code",
   "execution_count": 14,
   "metadata": {},
   "outputs": [
    {
     "name": "stdout",
     "output_type": "stream",
     "text": [
      "Python: 3.7.11\n",
      "numpy: 1.21.2\n",
      "matplotlib: 3.4.2\n",
      "seaborn: 0.11.2\n"
     ]
    }
   ],
   "source": [
    "# Versions used\n",
    "print('Python: {}.{}.{}'.format(*sys.version_info[:3]))\n",
    "print('numpy: {}'.format(np.__version__))\n",
    "print('matplotlib: {}'.format(matplotlib.__version__))\n",
    "print('seaborn: {}'.format(seaborn.__version__))"
   ]
  },
  {
   "cell_type": "code",
   "execution_count": null,
   "metadata": {},
   "outputs": [],
   "source": []
  }
 ],
 "metadata": {
  "jupytext": {
   "encoding": "# -*- coding: utf-8 -*-",
   "formats": "ipynb,py:light"
  },
  "kernelspec": {
   "display_name": "Python 3",
   "language": "python",
   "name": "python3"
  },
  "language_info": {
   "codemirror_mode": {
    "name": "ipython",
    "version": 3
   },
   "file_extension": ".py",
   "mimetype": "text/x-python",
   "name": "python",
   "nbconvert_exporter": "python",
   "pygments_lexer": "ipython3",
   "version": "3.7.11"
  },
  "toc": {
   "base_numbering": 1,
   "nav_menu": {},
   "number_sections": true,
   "sideBar": true,
   "skip_h1_title": true,
   "title_cell": "Содержание",
   "title_sidebar": "Contents",
   "toc_cell": true,
   "toc_position": {
    "height": "199.262px",
    "left": "530.987px",
    "top": "253.988px",
    "width": "224.7px"
   },
   "toc_section_display": true,
   "toc_window_display": false
  }
 },
 "nbformat": 4,
 "nbformat_minor": 4
}
