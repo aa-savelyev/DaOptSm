{
 "cells": [
  {
   "cell_type": "markdown",
   "metadata": {},
   "source": [
    "# Задача восстановления регрессии #\n",
    "\n",
    "Задачу обучения по прецедентам при $Y = \\mathbb{R}$ принято называть задачей *восстановления регрессии*. Введём основные обозначения.\n",
    "\n",
    "Задано пространство объектов $X$ и множество ответов $Y$. Мы предполагаем существование зависимости $y:X \\rightarrow Y$, значения которой известны только на объектах обучающей выборки $X^n = (x_i, y_i)_{i=1}^n$.\n",
    "\n",
    "Требуется построить алгоритм (&laquo;*функцию регрессии*&raquo;) $a: X \\rightarrow Y$, аппроксимирующий целевую зависимость $y$.\n",
    "\n",
    "- $X$ &mdash; объекты; $Y$ &mdash; ответы;\n",
    "- $X^n = (x_i, y_i)_{i=1}^n$ &mdash; обучающая выборка;\n",
    "- $y_i=y(x_i), y:X \\rightarrow Y$ &mdash; неизвестная зависимость."
   ]
  },
  {
   "cell_type": "code",
   "execution_count": 1,
   "metadata": {},
   "outputs": [],
   "source": [
    "# Imports\n",
    "import sys\n",
    "import warnings\n",
    "import numpy as np\n",
    "\n",
    "import matplotlib\n",
    "import matplotlib.pyplot as plt\n",
    "from matplotlib import cm  # Colormaps\n",
    "import seaborn as sns\n",
    "\n",
    "sns.set_style('whitegrid')\n",
    "warnings.simplefilter(action='ignore', category=FutureWarning)"
   ]
  },
  {
   "cell_type": "code",
   "execution_count": 2,
   "metadata": {},
   "outputs": [],
   "source": [
    "# Styles, fonts\n",
    "sns.set_style('whitegrid')\n",
    "matplotlib.rcParams['font.size'] = 12"
   ]
  },
  {
   "cell_type": "markdown",
   "metadata": {},
   "source": [
    "---"
   ]
  },
  {
   "cell_type": "markdown",
   "metadata": {},
   "source": [
    "## Генерация данных ##\n",
    "\n",
    "В качестве обучающих данных будем использовать зашумлённую линейную зависимость между $y$ и $x$.\n",
    "Для выборки данных размером $n$ предполагаемая зависимость может быть смоделирована следующим образом:\n",
    "\n",
    "$$ y_i = \\theta_0 + \\theta_1 x_i + \\epsilon_i  \\quad (i = 1, \\ldots, n) $$\n",
    "\n",
    "Здесь:\n",
    "- $x_i$ &mdash; независимая (входная) переменная выборки $i$, с $x = \\{x_i \\ldots x_n \\}$.\n",
    "- $y_i$ &mdash; зависимая (выходная) переменная выборки $i$, с $y = \\{y_i \\ldots y_n \\}$.\n",
    "- $\\epsilon_i \\sim \\mathcal{N}(0, \\sigma^2)$ &mdash; нормальный шум, влияющий на выходной сигнал $y_i$.\n",
    "- $\\theta = \\{\\theta_0, \\theta_1 \\}$ &mdash; набор параметров: смещение $\\theta_0$ и наклон $\\theta_1$."
   ]
  },
  {
   "cell_type": "code",
   "execution_count": 3,
   "metadata": {},
   "outputs": [
    {
     "data": {
      "image/png": "[encoded data removed]",
      "text/plain": [
       "<Figure size 432x288 with 1 Axes>"
      ]
     },
     "metadata": {},
     "output_type": "display_data"
    }
   ],
   "source": [
    "# Define the data\n",
    "np.random.seed(42)\n",
    "# Generate random data\n",
    "n = 50 # Number of samples\n",
    "# Underlying linear relation\n",
    "m = 3  # slope\n",
    "b = 2  # bias\n",
    "# Noise\n",
    "e_std = 0.5  # Standard deviation of the noise\n",
    "err = e_std * np.random.randn(n)  # Noise\n",
    "# Features and output\n",
    "x = np.random.uniform(0, 1, n)  # Independent variable x\n",
    "y = x * m + b + err  # Dependent variable\n",
    "\n",
    "# Show data\n",
    "plt.figure(figsize=(6, 4))\n",
    "plt.plot(x, y, 'o', ms=4, label='data: $(x,y)$')\n",
    "plt.plot([0, 1], [b, m+b], 'k-', label=f'$y = {b:.0f} + {m:.0f}x$')\n",
    "plt.xlim((0, 1))\n",
    "plt.xlabel('$x$')\n",
    "plt.ylabel('$y$')\n",
    "plt.title('Noisy data samples from linear line')\n",
    "plt.legend()\n",
    "plt.show()"
   ]
  },
  {
   "cell_type": "markdown",
   "metadata": {},
   "source": [
    "---"
   ]
  },
  {
   "cell_type": "markdown",
   "metadata": {},
   "source": [
    "## Метод наименьших квадратов ##\n",
    "\n",
    "**Определение.** *Функция потерь* (loss function) &mdash; это неотрицательная функция $\\mathcal{L}(a, x)$, характеризующая величину ошибки алгоритма $a$ на объекте $x$. Если $\\mathcal{L}(a, x) = 0$, то ответ $a(x)$ называется *корректным*.\n",
    "\n",
    "**Определение.** *Функционал качества* алгоритма $a$ на выборке $X^l$:\n",
    "\n",
    "$$ Q(a,X^l) = \\frac{1}{l} \\sum_{i=1}^{l} \\mathcal{L}(a, x_i). \\label{eq:emp_risk}\\tag{1}$$\n",
    "\n",
    "Функционал Q называют также функционалом *средних потерь* или *эмпирическим риском*, так как он вычисляется по эмпирическим данным $(x_i, y_i)_{i=1}^l$.\n",
    "\n",
    "В задачах регрессии люычно применяется квадратичная функция потерь $\\mathcal{L}(a, x) = (a(x) − y^*(x))^2$ &mdash, функционал $Q$ в этом случае называется средней квадратичной ошибкой алгоритма $a$ на выборке $X^l$; .\n",
    "\n",
    "Классический метод обучения, называемый *минимизацией эмпирического риска* (empirical risk minimization, ERM), заключается в том, чтобы найти в заданной модели $A$ алгоритм $a$, доставляющий минимальное значение функционалу качества $Q$ на заданной обучающей выборке $X^l$:\n",
    "\n",
    "$$ \\mu(X^l) = \\underset{a \\in A}{\\mathrm{argmin}} \\, Q(a, X^l). $$\n",
    "\n",
    "\n",
    "В задаче восстановления регрессии с числовыми признаками и квадратичной функцией потерь метод минимизации\n",
    "эмпирического риска есть ничто иное, как метод наименьших квадратов.\n",
    "\n",
    "Пусть задана *модель регрессии* &mdash; параметрическое семейство функций $g(x,\\alpha)$, где $\\alpha \\in \\mathbb{R}^p$ &mdash; вектор параметров модели. Определим функционал качества аппроксимации целевой зависимости на выборке $X^l$ как сумму квадратов ошибок:\n",
    "\n",
    "$$ Q(\\alpha, X^l) = \\sum_{i=1}^l \\left( g(x_i, \\alpha) - y_i \\right)^2. $$\n",
    "\n",
    "Обучение по *методу наименьших квадратов* (МНК) состоит в том, чтобы найти вектор параметров $\\alpha^*$, при котором достигается минимум среднего квадрата ошибки на заданной обучающей выборке $X^l$:\n",
    "\n",
    "$$ \\alpha^* = \\underset{\\alpha \\in \\mathbb{R}^n}{\\mathrm{argmin}} \\, {Q(\\alpha, X^l)}. $$"
   ]
  },
  {
   "cell_type": "markdown",
   "metadata": {},
   "source": [
    "---"
   ]
  },
  {
   "cell_type": "markdown",
   "metadata": {},
   "source": [
    "## Линейная регрессия ##\n",
    "\n",
    "Линейная регрессия является одной из самых простых моделей машинного обучения. Есть мнение, что её даже не следует классифицировать как &laquo;машинное обучение&raquo;, потому что она слишком простая.\n",
    "Тем не менее, простота делает её прекрасной отправной точкой для понимания более сложных методов. На этом занятии мы исследуем основы линейной регрессии и рассмотрим её вероятностную интерпретацию.\n",
    "\n",
    "Пусть каждому объекту соответствует его признаковое описание $\\left( f_1(x), \\ldots, f_n(x)\\right)$, где $f_j: X \\rightarrow \\mathbb{R}$ &mdash; числовые признаки, $j = 1, \\ldots , n$. Линейной моделью регрессии называется линейная комбинация признаков с коэффициентами $\\alpha \\in \\mathbb{R}^n$:\n",
    "\n",
    "$$ g(x, \\alpha) = \\sum_{j=1}^n \\alpha_j f_j(x). $$\n",
    "\n",
    "Введём матричные обозначения: $F = \\left( f_j(x_i) \\right)_{l \\times n}$ &mdash; матрица объекты–признаки;\n",
    "$y = \\left( y_i \\right)_{l \\times 1}$ &mdash; целевой вектор;\n",
    "$\\alpha = \\left( \\alpha_i \\right)_{l \\times 1}$ &mdash; вектор параметров.\n",
    "\n",
    "В матричных обозначениях функционал $Q$ принимает вид\n",
    "\n",
    "$$ Q(\\alpha) = \\left\\Vert F\\alpha - y \\right\\Vert^2. $$\n",
    "\n",
    "Тогда задача поиска параметров регрессии может быть сформулирована так: \n",
    "\n",
    "$$ \\alpha^* = \\underset{\\alpha \\in \\mathbb{R}^n}{\\text{argmin}} \\, {\\left\\Vert F\\alpha - y \\right\\Vert^2}. $$\n",
    "\n",
    "Запишем необходимое условие минимума в матричном виде:\n",
    "\n",
    "$$ \\frac{\\delta Q(\\alpha)}{\\delta \\alpha} = 2F^\\top (F\\alpha - y) = 0. $$\n",
    "\n",
    "Отсюда следует $F^{\\top} F \\alpha = F^{\\top}y$. Эта система линейных уравнений относительно $\\alpha$ называется нормальной системой для задачи наименьших квадратов. Если матрица $F^{\\top} F$ размера $n \\times n$ невырождена, то решением нормальной системы является вектор\n",
    "\n",
    "$$ \\alpha^* = (F^{\\top} F)^{-1} F^{\\top} y = F^{+} y. $$\n",
    "\n",
    "**Определение.** Матрица $F^{+} = (F^{\\top} F)^{-1} F^{\\top}$ называется *псевдообратной* для прямоугольной матрицы $F$."
   ]
  },
  {
   "cell_type": "markdown",
   "metadata": {},
   "source": [
    "### Полиномиальная регрессия ###\n",
    "\n",
    "Рассмотрим *частный случай* линейной регрессии &mdash; полиномиальную регрессию.\n",
    "\n",
    "В этом случае\n",
    "\n",
    "$$ g(x, \\alpha) = \\sum_{j=1}^n \\alpha_j p_j(x).$$\n",
    "\n",
    "где $p(x) = \\{1, x, \\ldots, x^n\\}$ &mdash; набор базисных полиномов, $\\alpha = \\{\\alpha_0, \\ldots, \\alpha_n\\}$ &mdash; набор искомых параметров.\n",
    "\n",
    "\n",
    "Воспользуемся введёнными матричными обозначениями. В нашем случае\n",
    "\n",
    "- $\\alpha = [ \\alpha_0, \\alpha_1]$,\n",
    "- $F = [(1, x_1), \\ldots , (1, x_l)]$,\n",
    "- $y = [y_1, \\ldots, y_l]$.\n",
    "\n",
    "Пример пример построения полиномиальной регрессии для наших данных приведён ниже."
   ]
  },
  {
   "cell_type": "code",
   "execution_count": 4,
   "metadata": {},
   "outputs": [],
   "source": [
    "# Ordinary least squares\n",
    "\n",
    "# Stack X with ones to be fitted by vectorized methods such as OLS and gradient descent\n",
    "F = np.vstack((np.ones_like(x), x)).T\n",
    "\n",
    "# Fit parameters with OLS\n",
    "Alpha = np.linalg.inv(F.T @ F) @ F.T @ y\n",
    "\n",
    "# Function representing fitted line\n",
    "f = lambda x: Alpha[0] + Alpha[1]*x"
   ]
  },
  {
   "cell_type": "code",
   "execution_count": 5,
   "metadata": {},
   "outputs": [
    {
     "data": {
      "image/png": "[encoded data removed]",
      "text/plain": [
       "<Figure size 432x288 with 1 Axes>"
      ]
     },
     "metadata": {},
     "output_type": "display_data"
    }
   ],
   "source": [
    "X = np.linspace(0, 1, 100)\n",
    "\n",
    "# Show OLS fitted line\n",
    "plt.figure(figsize=(6, 4))\n",
    "plt.plot(x, y, 'o', ms=4, label='data $(x,y)$')\n",
    "plt.plot([0, 1], [b, m+b], 'k-', label=f'$y = {b:.0f} + {m:.0f}x$')\n",
    "plt.plot(X, f(X), '-', c=cm.tab10(3),\n",
    "         label=f'$y = {Alpha[0]:.2f} + {Alpha[1]:.2f} x$')\n",
    "plt.legend()\n",
    "plt.title('Ordinary least squares regression fit')\n",
    "plt.xlabel('$x$')\n",
    "plt.ylabel('$y$')\n",
    "plt.xlim((0, 1))\n",
    "plt.show()"
   ]
  },
  {
   "cell_type": "markdown",
   "metadata": {},
   "source": [
    "---"
   ]
  },
  {
   "cell_type": "markdown",
   "metadata": {},
   "source": [
    "## Вероятностная постановка задачи ##\n",
    "\n",
    "В задачах обучения по прецедентам элементы множества X &mdash; это не реальные объекты, а лишь доступные данные о них.\n",
    "Данные могут быть *неточными*, поскольку измерения значений признаков $f_j(x)$ и целевой зависимости $y^{*}(x)$ обычно выполняются с погрешностями.\n",
    "Данные могут быть *неполными*, поскольку измеряются не все мыслимые признаки, а лишь физически доступные для измерения.\n",
    "В результате одному и тому же описанию $x$ могут соответствовать различные объекты и различные ответы.\n",
    "В таком случае $y^{*}(x)$, строго говоря, не является функцией.\n",
    "Устранить эту некорректность позволяет *вероятностная постановка задачи*.\n",
    "\n",
    "Вместо существования неизвестной целевой зависимости $y^{*}(x)$ предположим существование неизвестного вероятностного распределения на множестве $X \\times Y$ с плотностью $p(x, y)$, из которого случайно и независимо выбираются $l$ наблюдений $X^l = (x_i, y_i)_{i=1}^l$.\n",
    "Такие выборки называются *простыми* или *случайными одинаково распределёнными* (independent identically distributed, i.i.d.)."
   ]
  },
  {
   "cell_type": "markdown",
   "metadata": {},
   "source": [
    "### Принцип максимума правдоподобия ###\n",
    "\n",
    "При вероятностной постановке задачи вместо модели алгоритмов $g(x, \\theta)$, аппроксимирующей неизвестную зависимость $y^{*}(x)$, задаётся *модель совместной плотности* распределения объектов и ответов $\\varphi(x, y, \\theta)$, аппроксимирующая неизвестную плотность $p(x, y)$.\n",
    "Затем определяется значение параметра $\\theta$, при котором выборка данных $X^l$ *максимально правдоподобна*, то есть наилучшим образом согласуется с моделью плотности.\n",
    "\n",
    "Если наблюдения в выборке $X^l$ независимы, то совместная плотность распределения всех наблюдений равна произведению плотностей $p(x, y)$ в каждом наблюдении: $p(X^l) = p\\left((x_1, y_1), \\ldots , (x^l, y^l) \\right) = p(x_1, y_1) \\cdot \\ldots \\cdot p(x_l, y_l)$.\n",
    "Подставляя вместо $p(x, y)$ модель плотности $\\varphi(x, y, \\theta)$, получаем *функцию правдоподобия* (likelihood):\n",
    "\n",
    "$$ L(\\theta,X^l) = \\prod_{i=1}^l \\varphi(x_i, y_i, \\theta). $$\n",
    "\n",
    "Чем выше значение правдоподобия, тем лучше выборка согласуется с моделью. Значит, нужно искать значение параметра $\\theta$, при котором значение $L(\\theta,X^l)$ максимально. В математической статистике это называется *принципом максимума правдоподобия*:\n",
    "\n",
    "$$ \\prod_{i=1}^l \\varphi(x_i, y_i, \\theta) \\rightarrow \\max_\\alpha. $$"
   ]
  },
  {
   "cell_type": "markdown",
   "metadata": {},
   "source": [
    "### Связь максимизации правдоподобия с минимизацией эмпирического риска ###\n",
    "\n",
    "Вместо максимизации $L$ удобнее минимизировать функционал $-\\ln L$, поскольку он аддитивен (имеет вид суммы) по объектам выборки:\n",
    "\n",
    "$$ -\\ln L(\\theta,X^l) = - \\sum_{i=1}^l \\ln \\varphi(x_i, y_i, \\theta) \\rightarrow \\min_\\theta. $$\n",
    "\n",
    "Этот функционал совпадает с функционалом качества ([1](#mjx-eqn-eq:emp_risk)) из метода наименьших квадратов, если определить вероятностную функцию потерь $\\mathcal{L}(a_\\theta, x) = - l \\ln \\varphi(x, y, \\theta)$. Такое определение потери вполне естественно &mdash; чем хуже пара $(x_i, y_i)$ согласуется с моделью $\\varphi$, тем меньше значение плотности $\\varphi(x_i, y_i, \\theta)$ и выше величина потери $\\mathcal{L}(a_\\theta, x)$.\n",
    "Верно и обратное &mdash; для многих функций потерь возможно подобрать модель плотности $\\varphi(x, y, \\theta)$ таким образом, чтобы минимизация эмпирического риска была эквивалентна максимизации правдоподобия."
   ]
  },
  {
   "cell_type": "markdown",
   "metadata": {},
   "source": [
    "### Вероятностная интепретация метода наименьших квадратов ###\n",
    "\n",
    "Предположим, что разности между моделью и истинными ответами (ошибки предсказания) можно считать независимыми нормально-рапределёнными случайными величинами с нулевым математическим ожиданием: \n",
    "$$\n",
    "f(x_i, \\alpha) - y(x_i) = \\varepsilon_i, \\quad \\varepsilon_i \\sim \\mathcal{N}(0, \\sigma^2), \\quad i=1, \\ldots, l.\n",
    "$$\n",
    "\n",
    "Тогда, для функции правдоподобия, получим\n",
    "\n",
    "$$\n",
    "p(y \\mid x, \\alpha) = \\prod_{i=1}^{n} p(y_i \\mid x_i, \\alpha) = \n",
    "\\prod_{i=1}^{l} \\frac{1}{\\sqrt{2\\pi\\sigma^2}} \\exp{ \\left( -\\frac{(f(x_i, \\alpha) - y_i)^2}{2\\sigma^2}\\right)}.\n",
    "$$\n",
    "\n",
    "И, переходя к логарифму функции правдоподобия,\n",
    "\n",
    "$$\n",
    "\\ln \\left( \\prod_{i=1}^{l} p(y_i \\mid x_i, \\alpha) \\right) = -l \\ln(\\sqrt{2\\pi\\sigma^2}) - \\frac{1}{2\\sigma^2} \\left[ \\sum_{i=1}^{l} (y_i - (f(x_i, \\alpha))^2 \\right].\n",
    "$$\n",
    "\n",
    "Таким образом, методы наименьших квадратов и максимизации правдоподобия оказываются в данном случае эквивалентными."
   ]
  },
  {
   "cell_type": "markdown",
   "metadata": {},
   "source": [
    "---"
   ]
  },
  {
   "cell_type": "markdown",
   "metadata": {},
   "source": [
    "## Задания ##\n",
    " - сделать регрессию полиномами со степенью $n>1$"
   ]
  },
  {
   "cell_type": "markdown",
   "metadata": {},
   "source": [
    "## Дополнительный материал ##\n",
    "- геометрическая интерпретация МНК, проекционная матрица\n",
    "- сингулярное разложение\n",
    "- гребневая регрессия\n",
    "- лассо Тибширани"
   ]
  },
  {
   "cell_type": "markdown",
   "metadata": {},
   "source": [
    "## Литература ##\n",
    "\n",
    "1. Воронцов К.В. Математические методы обучения по прецендентам (теория обучения машин). 141 c. [[online]]()\n",
    "1. Roelants P. Regression quattro stagioni. [[github.io]](https://peterroelants.github.io/posts/linear-regression-four-ways/)"
   ]
  },
  {
   "cell_type": "markdown",
   "metadata": {},
   "source": [
    "## Что сделать: ##\n",
    "- добавить нелинейную регрессию или сделать по ней отдельный ноутбук"
   ]
  },
  {
   "cell_type": "code",
   "execution_count": 6,
   "metadata": {},
   "outputs": [
    {
     "name": "stdout",
     "output_type": "stream",
     "text": [
      "Python: 3.7.4\n",
      "numpy: 1.16.5\n",
      "matplotlib: 3.1.1\n",
      "seaborn: 0.9.0\n"
     ]
    }
   ],
   "source": [
    "# Versions used\n",
    "print('Python: {}.{}.{}'.format(*sys.version_info[:3]))\n",
    "print('numpy: {}'.format(np.__version__))\n",
    "print('matplotlib: {}'.format(matplotlib.__version__))\n",
    "print('seaborn: {}'.format(sns.__version__))"
   ]
  }
 ],
 "metadata": {
  "kernelspec": {
   "display_name": "Python 3",
   "language": "python",
   "name": "python3"
  },
  "language_info": {
   "codemirror_mode": {
    "name": "ipython",
    "version": 3
   },
   "file_extension": ".py",
   "mimetype": "text/x-python",
   "name": "python",
   "nbconvert_exporter": "python",
   "pygments_lexer": "ipython3",
   "version": "3.7.4"
  }
 },
 "nbformat": 4,
 "nbformat_minor": 4
}
