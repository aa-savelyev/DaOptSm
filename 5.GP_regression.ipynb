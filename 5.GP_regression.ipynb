{
 "cells": [
  {
   "cell_type": "markdown",
   "metadata": {},
   "source": [
    "# Регрессия на основе гауссовских процессов"
   ]
  },
  {
   "cell_type": "code",
   "execution_count": 9,
   "metadata": {},
   "outputs": [],
   "source": [
    "# Imports\n",
    "import numpy as np\n",
    "import numpy.polynomial.polynomial as plnml\n",
    "\n",
    "import matplotlib\n",
    "from matplotlib import cm # Colormaps\n",
    "import matplotlib.pyplot as plt\n",
    "import seaborn as sns\n",
    "\n",
    "matplotlib.rcParams['font.size'] = 12\n",
    "sns.set_style('whitegrid')\n",
    "np.random.seed(42)\n",
    "#"
   ]
  },
  {
   "cell_type": "markdown",
   "metadata": {},
   "source": [
    "---"
   ]
  },
  {
   "cell_type": "markdown",
   "metadata": {},
   "source": [
    "## Условные распределения сечений\n",
    "(*Гасников, стр. 71*)\n",
    "\n",
    "Пусть дан нормальный случайный вектор $X$ с $n$ компонентами.\n",
    "Пусть $X = (Y,Z)$, где $Y$ и $Z$ — два подвектора вектора $X$ с $n_1$ и $n_2$ компонентами, соответственно; $n = n_1 + n_2$.\n",
    "Корреляционную матрицу вектора $X$ можно представить в виде\n",
    "$$\n",
    "    K =\n",
    "    \\left[\n",
    "        \\begin{array}{cc}\n",
    "            K_{11} & K_{12} \\\\\n",
    "            K_{21} & K_{22} \\\\\n",
    "        \\end{array}\n",
    "    \\right],\n",
    "$$\n",
    "где $K_{11}$ — корреляционная матрица вектора $Y$, $K_{22}$ — корреляционная матрица вектора $Z$, а матрицы $K_{12}$ и $K_{21} = K_{12}^T$ состоят из корреляций компонент вектора $Y$ и $Z$ (взаимные корреляционные матрицы).\n",
    "Вектор математического ожидания $\\mathrm{E}X = \\mu$ также разбивается на два подвектора $\\mathrm{E}Y = \\mu_1$ и $\\mathrm{E}Z = \\mu_2$."
   ]
  },
  {
   "cell_type": "markdown",
   "metadata": {},
   "source": [
    "Условное распределение $Y$ при фиксированном $Z$ определяется нормальным законом с условным *математическим ожиданием*\n",
    "$$\n",
    "    \\mathrm{E}(Y|Z) = \\mu_1 + K_{12}K_{22}^{-1}(Z-\\mu_2)\n",
    "$$\n",
    "и *условной корреляционной матрицей*\n",
    "$$\n",
    "  \\mathrm{E} \\left( (Y-\\mathrm{E}(Y|Z))(Y-\\mathrm{E}(Y|Z))^T \\, |Z \\right) = K_{11} - K_{12} K_{22}^{-1} K_{21}.\n",
    "$$\n",
    "\n",
    "Отметим, что условное математическое ожидание является линейной функцией от $Z$, а условная корреляционная матрица не зависит от $Z$.\n",
    "\n",
    "---"
   ]
  },
  {
   "cell_type": "markdown",
   "metadata": {},
   "source": [
    "Пусть задана выборка $\\mathbf{S}=\\left\\{ x_i, u_i \\right\\}_{i=1}^n$ размера $n$, состоящая из точек $x_i \\in \\mathbb{X} \\subseteq \\mathbb{R}^d$ и значений целевой функции $u_i = u(x_i)$ в этих точках. Задача состоит в построении регрессионной модели $\\tilde{u}(x)$ целевой функции $u(x)$ с использованием выборки $\\mathbf{S}$.\n",
    "\n",
    "Предположим, что $u(x)$ является реализацией гауссовского процесса. Для ясности и упрощения выкладок будем считать среднее значение гауссовского процесса равным нулю. Ковариоционная функция для гауссовского процесса, задающего $u(x)$ в точках $x$ и $x'$ имеет вид\n",
    "$$\n",
    "  \\mathrm{cov}\\left( u(x), u(x') \\right) = k(x, x').\n",
    "$$\n",
    "\n",
    "Обозначим такие предположения как $u(x) \\sim \\mathcal{GP}\\left( 0, c(x, x') \\right)$. В таком случае совместное распределение вектора $u$ нормальное: $u \\sim \\mathcal{N}(0, K)$, где $C$ — ковариационная матрица вида $C = \\left\\{ c(x_i, x_j) \\right\\}_{i,j=1}^n$."
   ]
  },
  {
   "cell_type": "markdown",
   "metadata": {},
   "source": [
    "Для гауссовского процесса апостериорное распределение $u(x)$ при заданной выборке $\\mathbf{S}$ в точке $x \\in \\mathbb{R}^d$ будет нормальным:\n",
    "$$\n",
    "  u(x)|\\mathbf{S} \\sim \\mathcal{N}\\left( \\mu(x), \\sigma^2(x) \\right).  \n",
    "$$\n",
    "\n",
    "Выражения \n",
    "\n",
    "---"
   ]
  },
  {
   "cell_type": "markdown",
   "metadata": {},
   "source": [
    "(*Зайцев, стр. 33*)\n",
    "\n",
    "В регрессии на основе гауссовских процессов предполагается, что заданная выборка значений целевой функции является реализацией гауссовского процесса и ковариационная фнукция процесса зависит только от взаимного расположения точек в пространстве.\n",
    "Апостериорное среднее гауссовского процесса в новой точке используется для прогноза целевой функции в этой точке, а апостериорная дисперсия используется в качестве оценки неопределённости прогноза.\n",
    "\n",
    "Обычно предполагают, что ковариоционная функция гауссовского процесса лежит в параметрическом семействе.\n",
    "Тогда задагние регрессионной модели эквивалентно выбору параметров ковариоционной функции. Для оценки параметров используют метод максимального правдоподобия и байесовские методы, особенно эффективные в случае наличия априорных знаний о модели."
   ]
  },
  {
   "cell_type": "code",
   "execution_count": 3,
   "metadata": {},
   "outputs": [],
   "source": [
    "# Isotropic squared exponential kernel.\n",
    "def kernel(X1, X2, l=1.0, sigma_f=1.0):\n",
    "    '''\n",
    "    Isotropic squared exponential kernel. Computes \n",
    "    a covariance matrix from points in X1 and X2.\n",
    "    \n",
    "    Args:\n",
    "        X1: Array of m points (m x d).\n",
    "        X2: Array of n points (n x d).\n",
    "\n",
    "    Returns:\n",
    "        Covariance matrix (m x n).\n",
    "    '''\n",
    "    \n",
    "    sqdist = np.sum(X1**2,1).reshape(-1,1) + np.sum(X2**2,1) - 2*np.dot(X1, X2.T)\n",
    "    return sigma_f**2 * np.exp(-0.5 / l**2 * sqdist)"
   ]
  },
  {
   "cell_type": "code",
   "execution_count": 4,
   "metadata": {},
   "outputs": [],
   "source": [
    "def plot_gp(mu, cov, X, X_train=None, Y_train=None, samples=None):\n",
    "    X = X.ravel()\n",
    "#     mu = mu.ravel()\n",
    "    uncertainty = 1.96 * np.sqrt(np.diag(cov))\n",
    "    \n",
    "    plt.figure(figsize=(8,5))\n",
    "    plt.fill_between(X, mu + uncertainty, mu - uncertainty,\n",
    "                     color='grey', alpha=0.1, label='95% confidence interval')\n",
    "    plt.plot(X, mu, 'k', label='Mean')\n",
    "    if samples is not None:\n",
    "        plt.plot(X, samples, '-', lw=1.0)\n",
    "    if X_train is not None:\n",
    "        plt.plot(X_train, Y_train, 'kx', mew=1.5)\n",
    "    plt.legend()"
   ]
  },
  {
   "cell_type": "markdown",
   "metadata": {},
   "source": [
    "# Set function"
   ]
  },
  {
   "cell_type": "code",
   "execution_count": 5,
   "metadata": {},
   "outputs": [],
   "source": [
    "def get_noise(s, N):\n",
    "    \"\"\"generate noise\"\"\"\n",
    "    return np.random.normal(scale=s, size=N)\n",
    "\n",
    "def poly(x):\n",
    "    \"\"\"generate polynomial\"\"\"\n",
    "    return plnml.polyval(x, poly_coeff)\n",
    "\n",
    "def xsin(x):\n",
    "    \"\"\"generate polynomial\"\"\"\n",
    "    return x * np.sin(x)"
   ]
  },
  {
   "cell_type": "code",
   "execution_count": 6,
   "metadata": {},
   "outputs": [],
   "source": [
    "x_min, x_max = 0., 10.\n",
    "noise_scale = 0.\n",
    "poly_coeff = [0., 1.]\n",
    "\n",
    "N_train = 6\n",
    "N_test = 1001\n",
    "N_pol = N_train"
   ]
  },
  {
   "cell_type": "code",
   "execution_count": 7,
   "metadata": {},
   "outputs": [],
   "source": [
    "fun = poly\n",
    "\n",
    "Test_points = [\n",
    "    np.linspace(x_min, x_max, N_train),\n",
    "    np.array([1., 2., 2.1, 3., 7., 8., 9.])\n",
    "]"
   ]
  },
  {
   "cell_type": "code",
   "execution_count": 10,
   "metadata": {},
   "outputs": [],
   "source": [
    "Case_num = 0\n",
    "\n",
    "X_train = Test_points[Case_num]\n",
    "Y_train = fun(X_train) + get_noise(noise_scale, N_train)\n",
    "\n",
    "X_test = np.linspace(x_min, x_max, N_test)\n",
    "# Fun = fun(X_test)\n",
    "\n",
    "# X_train = np.append(X_train, [5., ])\n",
    "# Y_train = np.append(Y_train, [-2., ])\n",
    "# Y_train += 1."
   ]
  },
  {
   "cell_type": "markdown",
   "metadata": {},
   "source": [
    "# Gaussian process regression"
   ]
  },
  {
   "cell_type": "code",
   "execution_count": 69,
   "metadata": {},
   "outputs": [
    {
     "name": "stdout",
     "output_type": "stream",
     "text": [
      "l = 2.0\n",
      "L =  [[1.00000050e+00 0.00000000e+00 0.00000000e+00 0.00000000e+00\n",
      "  0.00000000e+00 0.00000000e+00]\n",
      " [6.06530356e-01 7.95060958e-01 0.00000000e+00 0.00000000e+00\n",
      "  0.00000000e+00 0.00000000e+00]\n",
      " [1.35335216e-01 6.59629602e-01 7.39306545e-01 0.00000000e+00\n",
      "  0.00000000e+00 0.00000000e+00]\n",
      " [1.11089910e-02 1.61745262e-01 6.74057686e-01 7.20667951e-01\n",
      "  0.00000000e+00 0.00000000e+00]\n",
      " [3.35462460e-04 1.37165940e-02 1.70757330e-01 6.78825869e-01\n",
      "  7.14037896e-01 0.00000000e+00]\n",
      " [3.72665131e-06 4.19090256e-04 1.46516326e-02 1.73993321e-01\n",
      "  6.80512717e-01 7.11628358e-01]]\n"
     ]
    }
   ],
   "source": [
    "l = 2.e-1*(x_max-x_min)\n",
    "print('l =', l)\n",
    "\n",
    "# Noiseless training data\n",
    "X_train = X_train.reshape(-1,1)\n",
    "\n",
    "# Apply the kernel function to training points\n",
    "K = kernel(X_train, X_train, l)\n",
    "L = np.linalg.cholesky(K + 1e-6*np.eye(len(X_train)))\n",
    "print('L = ', L)"
   ]
  },
  {
   "cell_type": "code",
   "execution_count": 70,
   "metadata": {},
   "outputs": [],
   "source": [
    "# Test data\n",
    "X_test = X_test.reshape(-1,1)\n",
    "\n",
    "# Compute the mean at test points\n",
    "K_s = kernel(X_train, X_test, l)\n",
    "Lk = np.linalg.solve(L, K_s)\n",
    "Y_test = np.dot(Lk.T, np.linalg.solve(L, Y_train)).reshape((-1,))"
   ]
  },
  {
   "cell_type": "code",
   "execution_count": 71,
   "metadata": {},
   "outputs": [],
   "source": [
    "# Compute covariance\n",
    "K_ss = kernel(X_test, X_test, l)\n",
    "Sigma = K_ss - np.dot(Lk.T, Lk)\n",
    "\n",
    "# Generate samples from the posterior at test points\n",
    "N_gp = 1\n",
    "Ls = np.linalg.cholesky(Sigma + 1e-6*np.eye(N_test))\n",
    "gp = Y_test.reshape(-1,1) + np.dot(Ls, np.random.normal(size=(N_test,N_gp)))"
   ]
  },
  {
   "cell_type": "code",
   "execution_count": 72,
   "metadata": {},
   "outputs": [
    {
     "data": {
      "image/png": "[encoded data removed]",
      "text/plain": [
       "<Figure size 576x360 with 1 Axes>"
      ]
     },
     "metadata": {},
     "output_type": "display_data"
    }
   ],
   "source": [
    "# Draw samples from the posterior\n",
    "plot_gp(Y_test, Sigma, X_test, X_train, Y_train, samples=gp)"
   ]
  },
  {
   "cell_type": "markdown",
   "metadata": {},
   "source": [
    "## Литература\n",
    "\n",
    "1. Зайцев А.А. Методы построения регрессионных моделей разнородных источников данных для индустриальной инженерии // PhD Thesis. ИППИ РАН, 2017. 148 с."
   ]
  },
  {
   "cell_type": "code",
   "execution_count": null,
   "metadata": {},
   "outputs": [],
   "source": []
  }
 ],
 "metadata": {
  "kernelspec": {
   "display_name": "Python 3",
   "language": "python",
   "name": "python3"
  },
  "language_info": {
   "codemirror_mode": {
    "name": "ipython",
    "version": 3
   },
   "file_extension": ".py",
   "mimetype": "text/x-python",
   "name": "python",
   "nbconvert_exporter": "python",
   "pygments_lexer": "ipython3",
   "version": "3.7.4"
  }
 },
 "nbformat": 4,
 "nbformat_minor": 4
}
