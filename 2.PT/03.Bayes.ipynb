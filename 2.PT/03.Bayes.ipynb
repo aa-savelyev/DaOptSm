{
 "cells": [
  {
   "cell_type": "markdown",
   "metadata": {
    "slideshow": {
     "slide_type": "slide"
    }
   },
   "source": [
    "**Лекция 3**\n",
    "\n",
    "# Условная вероятность. Формула Байеса"
   ]
  },
  {
   "cell_type": "markdown",
   "metadata": {
    "toc": true
   },
   "source": [
    "<h1>Содержание<span class=\"tocSkip\"></span></h1>\n",
    "<div class=\"toc\"><ul class=\"toc-item\"><li><span><a href=\"#Условная-вероятность\" data-toc-modified-id=\"Условная-вероятность-1\"><span class=\"toc-item-num\">1&nbsp;&nbsp;</span>Условная вероятность</a></span><ul class=\"toc-item\"><li><span><a href=\"#Интуиция-и-определение\" data-toc-modified-id=\"Интуиция-и-определение-1.1\"><span class=\"toc-item-num\">1.1&nbsp;&nbsp;</span>Интуиция и определение</a></span></li><li><span><a href=\"#Свойства-условной-вероятности\" data-toc-modified-id=\"Свойства-условной-вероятности-1.2\"><span class=\"toc-item-num\">1.2&nbsp;&nbsp;</span>Свойства условной вероятности</a></span></li><li><span><a href=\"#Формула-Байеса\" data-toc-modified-id=\"Формула-Байеса-1.3\"><span class=\"toc-item-num\">1.3&nbsp;&nbsp;</span>Формула Байеса</a></span></li><li><span><a href=\"#Независимость\" data-toc-modified-id=\"Независимость-1.4\"><span class=\"toc-item-num\">1.4&nbsp;&nbsp;</span>Независимость</a></span></li></ul></li><li><span><a href=\"#Примеры\" data-toc-modified-id=\"Примеры-2\"><span class=\"toc-item-num\">2&nbsp;&nbsp;</span>Примеры</a></span><ul class=\"toc-item\"><li><span><a href=\"#Три-монеты\" data-toc-modified-id=\"Три-монеты-2.1\"><span class=\"toc-item-num\">2.1&nbsp;&nbsp;</span>Три монеты</a></span></li><li><span><a href=\"#Детектор-частиц\" data-toc-modified-id=\"Детектор-частиц-2.2\"><span class=\"toc-item-num\">2.2&nbsp;&nbsp;</span>Детектор частиц</a></span></li></ul></li><li><span><a href=\"#Отношение-шансов-и-отношение-правдоподобия\" data-toc-modified-id=\"Отношение-шансов-и-отношение-правдоподобия-3\"><span class=\"toc-item-num\">3&nbsp;&nbsp;</span>Отношение шансов и отношение правдоподобия</a></span><ul class=\"toc-item\"><li><span><a href=\"#Определение\" data-toc-modified-id=\"Определение-3.1\"><span class=\"toc-item-num\">3.1&nbsp;&nbsp;</span>Определение</a></span></li><li><span><a href=\"#Примеры\" data-toc-modified-id=\"Примеры-3.2\"><span class=\"toc-item-num\">3.2&nbsp;&nbsp;</span>Примеры</a></span></li><li><span><a href=\"#Дополнительно\" data-toc-modified-id=\"Дополнительно-3.3\"><span class=\"toc-item-num\">3.3&nbsp;&nbsp;</span>Дополнительно</a></span><ul class=\"toc-item\"><li><span><a href=\"#Отношение-правдоподобия-и-экспертиза\" data-toc-modified-id=\"Отношение-правдоподобия-и-экспертиза-3.3.1\"><span class=\"toc-item-num\">3.3.1&nbsp;&nbsp;</span>Отношение правдоподобия и экспертиза</a></span></li><li><span><a href=\"#Жульничает-ли-архиепископ-Кентерберийский?\" data-toc-modified-id=\"Жульничает-ли-архиепископ-Кентерберийский?-3.3.2\"><span class=\"toc-item-num\">3.3.2&nbsp;&nbsp;</span>Жульничает ли архиепископ Кентерберийский?</a></span></li></ul></li></ul></li><li><span><a href=\"#Источники\" data-toc-modified-id=\"Источники-4\"><span class=\"toc-item-num\">4&nbsp;&nbsp;</span>Источники</a></span></li></ul></div>"
   ]
  },
  {
   "cell_type": "code",
   "execution_count": 1,
   "metadata": {},
   "outputs": [],
   "source": [
    "# Imports\n",
    "import numpy as np\n",
    "import matplotlib.pyplot as plt"
   ]
  },
  {
   "cell_type": "code",
   "execution_count": 2,
   "metadata": {},
   "outputs": [],
   "source": [
    "# Styles\n",
    "import matplotlib\n",
    "matplotlib.rcParams['font.size'] = 12\n",
    "matplotlib.rcParams['lines.linewidth'] = 1.5\n",
    "matplotlib.rcParams['lines.markersize'] = 4\n",
    "cm = matplotlib.pyplot.cm.tab10  # Colormap\n",
    "\n",
    "import seaborn\n",
    "seaborn.set_style('whitegrid')"
   ]
  },
  {
   "cell_type": "code",
   "execution_count": 3,
   "metadata": {},
   "outputs": [],
   "source": [
    "# %config InlineBackend.figure_formats = ['pdf']\n",
    "# %config Completer.use_jedi = False"
   ]
  },
  {
   "cell_type": "markdown",
   "metadata": {},
   "source": [
    "---"
   ]
  },
  {
   "cell_type": "markdown",
   "metadata": {},
   "source": [
    "> Теорема Байеса &mdash; это научно корректный способ менять наше мнение на основании новых фактов."
   ]
  },
  {
   "cell_type": "markdown",
   "metadata": {
    "slideshow": {
     "slide_type": "slide"
    }
   },
   "source": [
    "## Условная вероятность\n",
    "\n",
    "### Интуиция и определение\n",
    "\n",
    "Игральная кость подбрасывается один раз.\n",
    "Известно, что выпало более трёх очков. Какова при этом вероятность того, что выпало нечётное число очков?\n",
    "\n",
    "Пусть событие $A = \\{4, 5, 6\\}$ означает, что выпало более трёх очков, событие $B = \\{1, 3, 5\\}$ &mdash; нечётное число очков.\n",
    "Как вычислить вероятность события $B$, если известно, что $A$ случилось?\n",
    "Мы знаем, что произошло событие $A$, но всё равно не знаем, что именно выпало на кости.\n",
    "Однако теперь возможностей осталось только три: могло выпасть 4, 5 или 6 очков.\n",
    "Событию $B$ из этих равновозможных исходов благоприятен единственный исход: выпадение пяти очков.\n",
    "Поэтому искомая вероятность равна $1/3$.\n",
    "\n",
    "Итак, при вычислении условной вероятности события $B$ при случившемся событии $A$ мы ищем долю исходов, благоприятствующих $B$, среди всех исходов события $A$.\n",
    "Эту условную вероятность будем обозначать $\\mathrm{P}(B|A)$.\n",
    "\n",
    "Дадим теперь определение условной вероятности, согласующееся с интуитивными представлениями о ней.\n",
    "\n",
    "**Определение.** Условной вероятностью события $B$ при условии события $A$ с $\\mathrm{P}(A)>0$ называется величина\n",
    "$$ \\mathrm{P}(B|A) = \\dfrac{\\mathrm{P}(BA)}{\\mathrm{P}(A)}. $$"
   ]
  },
  {
   "cell_type": "markdown",
   "metadata": {
    "slideshow": {
     "slide_type": "subslide"
    }
   },
   "source": [
    "### Свойства условной вероятности\n",
    "\n",
    "Все общие теоремы о вероятностях верны также и для условных вероятностей, если эти условные вероятности берутся при одном и том же условии $A$.\n",
    "\n",
    "1. $\\mathrm{P}(A|A) = 1$,\n",
    "1. $\\mathrm{P}(\\emptyset|A) = 0$,\n",
    "1. $\\mathrm{P}(B|A) = 1$, $B \\supseteq A$,\n",
    "1. $\\mathrm{P}(B_1 + B_2|A) = \\mathrm{P}(B_1|A) + \\mathrm{P}(B_2|A) - \\mathrm{P}(B_1 B_2|A)$.\n",
    "\n",
    "> **Пример.** Рассмотрим семьи, имеющие двух детей. Спрашивается, какова вероятность того, что в семье оба ребёнка мальчики, в предположении, что:\n",
    "1. старший ребёнок &mdash; мальчик (1/2);\n",
    "2. по крайней мере один из детей &mdash; мальчик (1/3)?"
   ]
  },
  {
   "cell_type": "markdown",
   "metadata": {
    "slideshow": {
     "slide_type": "subslide"
    }
   },
   "source": [
    "**Формула полной вероятности**\n",
    "\n",
    "**Определение.** Набор попарно несовместных событий $A_1, \\ldots, A_n$ таких, что $\\mathrm{P}(A_i) > 0$ и $A_1 \\cup \\dots \\cup A_n = \\Omega$, называется *полной группой событий* или *разбиением* пространства $\\Omega$.\n",
    "\n",
    "\n",
    "Пусть дана полная группа событий $A_1, \\dots, A_n$.\n",
    "Тогда вероятность любого события $B$ может быть вычислена по *формуле полной вероятности*\n",
    "$$ \\mathrm{P}(B) = \\sum_{i=1}^n \\mathrm{P}(B|A_i) \\mathrm{P}(A_i). $$\n",
    "\n",
    "> **Пример.** В урне имеется $M$ шаров, среди которых $m$ &laquo;счастливых&raquo;. Спрашивается, какова вероятность извлечь на втором шаге &laquo;счастливый&raquo; шар (предполагается, что качество первого извлеченного шара неизвестно). \\\n",
    "*Ответ:* $\\frac{m}{M}$."
   ]
  },
  {
   "cell_type": "markdown",
   "metadata": {},
   "source": [
    "**Формула умножения вероятностей**\n",
    "\n",
    "Из определения условной вероятности получим формулу *умножения вероятностей*:\n",
    "$$ \\mathrm{P}(BA) = \\mathrm{P}(B|A) \\mathrm{P}(A). $$\n",
    "\n",
    "Формула умножения вероятностей обобщается по индукции:\n",
    "$$\n",
    "\\mathrm{P}(A_1 \\ldots A_n) = \\mathrm{P}(A_1|A_2 \\ldots A_{n}) \\, \\mathrm{P}(A_2|A_3 \\ldots A_{n}) \\ldots \\mathrm{P}(A_{n-1} |A_n) \\, \\mathrm{P}(A_n).\n",
    "$$"
   ]
  },
  {
   "cell_type": "markdown",
   "metadata": {
    "slideshow": {
     "slide_type": "subslide"
    }
   },
   "source": [
    "### Формула Байеса\n",
    "\n",
    "Из формул $\\mathrm{P}(AB) = \\mathrm{P}(A|B)\\mathrm{P}(B) = \\mathrm{P}(B|A)\\mathrm{P}(A)$ получаем **формулу Байеса**:\n",
    "$$\n",
    "  \\mathrm{P}(A|B) = \\dfrac{\\mathrm{P}(B|A) \\, \\mathrm{P}(A)}{\\mathrm{P}(B)}.\n",
    "$$\n",
    "\n",
    "Если события $A_1, \\dots, A_n$ образуют разбиение $\\Omega$, то из формулу Байеса можно записать в следующем виде:\n",
    "$$\n",
    "  \\mathrm{P}(A_i|B) = \\frac{\\mathrm{P}(B|A_i) \\, \\mathrm{P}(A_i)}{\\sum_{j=1}^{n} \\mathrm{P}(B|A_j) \\,\\mathrm{P}(A_j)}.\n",
    "$$"
   ]
  },
  {
   "cell_type": "markdown",
   "metadata": {},
   "source": [
    "События $H_1, \\dots, H_n$ образующие *полную группу событий* ($H_1 \\cup \\dots \\cup H_n = \\Omega$), часто называют &laquo;гипотезами&raquo;.\n",
    "Вероятность $\\mathrm{P}(H_i)$ называют *априорной* вероятностью гипотезы $H_i$, а условную вероятность $\\mathrm{P}(H_i|D)$ &mdash; *апостериорной* вероятностью гипотезы $H_i$ после наступления события (наблюдения данных) $D$.\n",
    "\n",
    "Таким образом, формула Байеса даёт возможность получить ответ на вопрос о том, как изменится апостериорная вероятность $\\mathrm{P}(H|D)$ гипотезы $H$ при данных наблюдения $D$ (т.е. оценка, полученная после изучения новых экспериментальных данных), при условии, что известны априорная вероятность этой гипотезы $\\mathrm{P}(H)$ (т.е. оценка, полученная без учета данных $D$), вероятность получения данных $\\mathrm{P}(D)$ и условная вероятность $\\mathrm{P}(D|H)$ получить данные $D$, если гипотеза $H$ выполнена. \\\n",
    "В этом случае величину $\\mathrm{P}(D|H)$ называют *правдоподобием* гипотезы $H$ с учётом данных $D$."
   ]
  },
  {
   "cell_type": "markdown",
   "metadata": {
    "slideshow": {
     "slide_type": "subslide"
    }
   },
   "source": [
    "### Независимость\n",
    "\n",
    "**Определение.** События $A$ и $B$ называются *независимыми* или *статистически независимыми* (относительно вероятности $\\mathrm{P}$), если\n",
    "$$ \\mathrm{P}(AB) = \\mathrm{P}(A) \\cdot \\mathrm{P}(B). $$\n",
    "\n",
    "Для независимых событий получаем закономерный результат:\n",
    "$$ \\mathrm{P}(B|A) = \\dfrac{\\mathrm{P}(AB)}{\\mathrm{P}(A)} = \\dfrac{\\mathrm{P}(A)\\mathrm{P}(B)}{\\mathrm{P}(A)} = \\mathrm{P}(B). $$"
   ]
  },
  {
   "cell_type": "markdown",
   "metadata": {},
   "source": [
    "## Примеры\n",
    "\n",
    "### Три монеты\n",
    "\n",
    "У вас в кармане три монеты: на одной два орла, на другой две решки, третья обычная.\n",
    "Вы наугад вытаскиваете монету, подбрасываете ее, и выпадает орёл.\n",
    "Какова вероятность, что на другой стороне монеты тоже орёл?\n",
    "\n",
    "Многие бы решили, что ответ &mdash; $1/2$, поскольку монета либо обычная, либо с двумя орлами, и вероятность выбрать одну из них одинакова.\n",
    "Существует много способов это проверить, но проще всего использовать идею с *ожидаемыми количествами*.\n",
    "\n",
    "Подумаем, чего можно ожидать, если проделать такой эксперимент шесть раз.\n",
    "В среднем каждая монета будет выбрана дважды, и каждая из сторон выпадет по разу.\n",
    "Орёл выпадает в трех случаях, причем в двух на второй стороне также будет орёл.\n",
    "Поэтому вероятность того, что на второй стороне монеты тоже орёл, равна $2/3$, а не $1/2$.\n",
    "По сути, выпадение орла повышает вероятность выбора монеты с двумя орлами, ведь у такой монеты есть два варианта упасть орлом вверх, а у симметричной &mdash; только один.\n",
    "\n",
    "> Иллюстрации с прямым и обращённым деревьями ожидаемых количеств."
   ]
  },
  {
   "cell_type": "markdown",
   "metadata": {},
   "source": [
    "### Детектор частиц\n",
    "\n",
    "Используемый в эксперименте детектор частиц правильно различает частицы $A$ и $B$ в $90\\,\\%$ случаев, т.е. $\\mathrm{P}(a|A) = \\mathrm{P}(b|B) = 0.9$, где $a$ и $b$ означают результат тестирования для соответствующей частицы.\n",
    "Следовательно, вероятности ошибочных результатов равны $\\mathrm{P}(b|A) = \\mathrm{P}(a|B) = 0.1$.\n",
    "Эти цифры характеризуют аппаратную надёжность тестов.\n",
    "\n",
    "Известно, что частицы типов $A$ и $B$ в потоке встречаются с вероятностями $\\mathrm{P}(A) = 0.95$ и $\\mathrm{P}(B) = 0.05$ соответственно."
   ]
  },
  {
   "cell_type": "markdown",
   "metadata": {},
   "source": [
    "**Задача 1**\\\n",
    "Какова вероятность того, что детектор покажет $b$?\n",
    "\n",
    "**Решение**\\\n",
    "Требуется найти вероятность $\\mathrm{P}(b)$. Она состоит из ложноположительной и истинно положительной частей.\n",
    "\n",
    "$$\n",
    "  \\mathrm{P}(b) = \\mathrm{P}(b|B) \\mathrm{P}(B) + \\mathrm{P}(b|A) \\mathrm{P}(A)\n",
    "= 0.9 \\cdot 0.05 + 0.1 \\cdot 0.95 = 0.14\n",
    "$$"
   ]
  },
  {
   "cell_type": "markdown",
   "metadata": {},
   "source": [
    "**Задача 2**\\\n",
    "Какова вероятность $\\mathrm{P}(B|b)$ того, что частица действительно имеет тип $B$ при условии, что об этом свидетельствует результат тестирования $b$?\n",
    "\n",
    "**Решение**\\\n",
    "Воспользуемся формулой Байеса.\n",
    "$$\n",
    "  \\mathrm{P}(B|b) = \\dfrac{\\mathrm{P}(Bb)}{\\mathrm{P}(b)} = \\dfrac{\\mathrm{P}(b|B) \\mathrm{P}(B)}{\\mathrm{P}(b|B)\\mathrm{P}(B) + \\mathrm{P}(b|A)\\mathrm{P}(A)}, \\tag{1}\\label{eq:PBb}\n",
    "$$\n",
    "\n",
    "$$\n",
    " \\mathrm{P}(B|b) = \\dfrac{0.9 \\cdot 0.05}{0.9 \\cdot 0.05 + 0.1 \\cdot 0.95} = 0.321.\n",
    "$$"
   ]
  },
  {
   "cell_type": "code",
   "execution_count": 4,
   "metadata": {},
   "outputs": [
    {
     "name": "stdout",
     "output_type": "stream",
     "text": [
      "0.32142857142857145\n"
     ]
    }
   ],
   "source": [
    "p1 = 0.9*0.05/(0.9*0.05 + 0.1*0.95)\n",
    "print(p1)"
   ]
  },
  {
   "cell_type": "markdown",
   "metadata": {},
   "source": [
    "**Задача 3**\\\n",
    "В задаче из примера 2 после первого детектора поставили такой же второй. \\\n",
    "Пусть оба детектора показывают результат &laquo;b&raquo;: $b_1$ и $b_2$.\n",
    "Как при этом изменится вероятность ложноположительного результата?\n",
    "Вероятность ошибки должна уменьшиться, но насколько именно?\n",
    "\n",
    "**Решение**\\\n",
    "Применим формулу Байеса для событий $B$ и $\\{b_1 b_2\\}$:\n",
    "$$\n",
    "  \\mathrm{P}(B|b_1 b_2) = \\dfrac{\\mathrm{P}(b_1 b_2|B)\\mathrm{P}(B)}{\\mathrm{P}(b_1 b_2)}.\n",
    "$$\n",
    "\n",
    "Так как детекторы работают с одной и той же частицей (либо $A$, либо $B$)\n",
    "то события $b_1$ и $b_2$ сами по себе не являются независимыми и\n",
    "$\\mathrm{P}(b_1b_2) \\ne \\mathrm{P}(b_1) \\cdot \\mathrm{P}(b_2)$.\n",
    "Например, интуиция подсказывает, что если первый детектор показывает $b$, то вероятность того, что второй тоже покажет $b$, возрастает: $\\mathrm{P}(b_2|b_1) > \\mathrm{P}(b_2)$.\n",
    "\n",
    "Вероятность $\\mathrm{P}(b_1b_2)$ найдём по формуле полной вероятности\n",
    "$$\n",
    "  \\mathrm{P}(b_1b_2) = \\mathrm{P}(b_1b_2|B) \\mathrm{P}(B) + \\mathrm{P}(b_1b_2|A)\\mathrm{P}(A).\n",
    "$$"
   ]
  },
  {
   "cell_type": "markdown",
   "metadata": {},
   "source": [
    "Далее заметим, что события $b_1$ и $b_2$ являются независимыми для каждой из частиц по отдельности, поэтому условную вероятность $\\mathrm{P}(b_1 b_2|B)$ можно найти по формуле $\\mathrm{P}(b_1 b_2|B) = \\mathrm{P}(b_1|B)\\mathrm{P}(b_2|B)$.\n",
    "\n",
    "В итоге\n",
    "$$\n",
    "  \\mathrm{P}(B|b_1 b_2) = \\dfrac{\\mathrm{P}(b_1|B)\\mathrm{P}(b_2|B) \\mathrm{P}(B)}{\\mathrm{P}(b_1|B)\\mathrm{P}(b_2|B) \\mathrm{P}(B) + \\mathrm{P}(b_1|A)\\mathrm{P}(b_2|A)\\mathrm{P}(A)}, \\tag{2}\\label{eq:PBbb}\n",
    "$$\n",
    "\n",
    "$$\n",
    "  \\mathrm{P}(B|b_1 b_2) = \\dfrac{0.9 \\cdot 0.9 \\cdot 0.05}{0.9 \\cdot 0.9 \\cdot 0.05 + 0.1 \\cdot 0.1 \\cdot 0.95} = 0.81.\n",
    "$$"
   ]
  },
  {
   "cell_type": "code",
   "execution_count": 5,
   "metadata": {},
   "outputs": [
    {
     "name": "stdout",
     "output_type": "stream",
     "text": [
      "0.81\n"
     ]
    }
   ],
   "source": [
    "p2 = 0.9*0.9*0.05/(0.9*0.9*0.05 + 0.1*0.1*0.95)\n",
    "print(p2)"
   ]
  },
  {
   "cell_type": "markdown",
   "metadata": {},
   "source": [
    "К такому же результату можно прийти несколько иначе.\n",
    "\n",
    "Формула Байеса позволила нам пересмотреть априорную вероятность $\\mathrm{P}(B)$ встретить частицу $B$ с учётом данных, полученных с помощью первого детектора, и получить апостериорную вероятность $\\mathrm{P}(B|b_1)$.\n",
    "На следующем шаге вероятность $\\mathrm{P}(A|b_1)$ и $\\mathrm{P}(B|b_1)$ можно использовать в качестве априорных вероятностей для второго детектора.\n",
    "Для этого достаточно в формуле ([1](#mjx-eqn-eq:PBb)) заменить $\\mathrm{P}(A)$ и $\\mathrm{P}(B)$ на $\\mathrm{P}(A|b_1)$ и $\\mathrm{P}(B|b_1)$ соответственно."
   ]
  },
  {
   "cell_type": "markdown",
   "metadata": {},
   "source": [
    "Тогда\n",
    "$$\n",
    "  \\mathrm{P}(B|b_1 b_2) = \\dfrac{\\mathrm{P}(b_2|B)\\mathrm{P}(B|b_1)}{\\mathrm{P}(b_2|B)\\mathrm{P}(B|b_1) + \\mathrm{P}(b|A)\\mathrm{P}(A|b_1)}.\n",
    "$$\n",
    "\n",
    "Легко проверить, что подстановка в данное выражение формул для $\\mathrm{P}(A|b_1)$ и $\\mathrm{P}(B|b_1)$ даёт формулу ([2](#mjx-eqn-eq:PBbb))."
   ]
  },
  {
   "cell_type": "markdown",
   "metadata": {},
   "source": [
    "> **Задача.** Какова вероятность $\\mathrm{P}(b_2|b_1)$ того, что второй детектор покажет &laquo;b&raquo;, если первый тоже показывает &laquo;b&raquo;? \\\n",
    "*Ответ:* $\\mathrm{P}(b_2|b_1) = \\dfrac{\\mathrm{P}(b_2 b_1)}{\\mathrm{P}(b_1)} \\approx 0.357$."
   ]
  },
  {
   "cell_type": "code",
   "execution_count": 6,
   "metadata": {},
   "outputs": [
    {
     "name": "stdout",
     "output_type": "stream",
     "text": [
      "0.35714285714285715\n"
     ]
    }
   ],
   "source": [
    "p3 = (0.9*0.9*0.05 + 0.1*0.1*0.95) / (0.9*0.05 + 0.1*0.95)\n",
    "print(p3)"
   ]
  },
  {
   "cell_type": "markdown",
   "metadata": {},
   "source": [
    "---"
   ]
  },
  {
   "cell_type": "markdown",
   "metadata": {},
   "source": [
    "## Отношение шансов и отношение правдоподобия"
   ]
  },
  {
   "cell_type": "markdown",
   "metadata": {},
   "source": [
    "### Определение\n",
    "\n",
    "*Шансы* на какое-то событие &mdash; это вероятность того, что оно произойдет, делённая на вероятность того, что оно не произойдет.\n",
    "Например, если мы бросаем игральную кость, то шансы на выпадение шестерки &mdash; 1 к 5.\n",
    "\n",
    "Рассмотрим две конкурирующие гипотезы $H_1$ и $H_2$.\\\n",
    "*Отношение правдоподобия* &mdash; это вероятность некоторого факта $D$ при условии гипотезы $H_1$, делённая на вероятность того же факта при условии гипотезы $H_2$: $LR = \\dfrac{\\mathrm{P}(D|H_1)}{\\mathrm{P}(D|H_2)}$.\n",
    "\n",
    "Другими словами, отношение правдоподобия &mdash; это отношение вероятности получить некоторые данные при верной гипотезе к вероятности получить такие же данные при неверной гипотезе.\n",
    "\n",
    "Отношение правдоподобия фактически сравнивает относительную поддержку, предоставляемую неким фактом (свидетельством, доказательством) для двух конкурирующих гипотез, например, означающих виновность и невиновность."
   ]
  },
  {
   "cell_type": "markdown",
   "metadata": {},
   "source": [
    "### Примеры\n",
    "\n",
    "Вычислим шансы в эксперименте из **задачи 2**:\n",
    "$$\n",
    "  с_1 = \\dfrac{\\mathrm{P}(B|b)}{\\mathrm{P}(A|b)} = \\dfrac{\\frac{\\mathrm{P}(b|B)\\mathrm{P}(B)}{\\mathrm{P}(b)}} {\\frac{\\mathrm{P}(b|A)\\mathrm{P}(A)}{\\mathrm{P}(b)}} = \\frac{\\mathrm{P}(B)}{\\mathrm{P}(A)} \\cdot \\dfrac{\\mathrm{P}(b|B)}{\\mathrm{P}(b|A)}. \\tag{3}\\label{eq:chances} \n",
    "$$\n",
    "\n",
    "Множитель $\\mathrm{P}(b)$ удачно сократился и формула \\eqref{eq:chances} в итоге выражает апостериорные шансы гипотезы через её априорные (начальные) шансы и отношение правдоподобия.\n",
    "\n",
    "Воспользовавшись тем, что $\\mathrm{P}(B|b) + \\mathrm{P}(A|b) = 1$, вычислим искомую условную вероятность через апостериорные шансы.\n",
    "$$\n",
    "  c_1 = \\dfrac{\\mathrm{P}(B|b)}{\\mathrm{P}(A|b)} = \\frac{0.05}{0.95} \\cdot \\dfrac{0.9}{0.1} = 0.05263 \\cdot 9 = 0.474,\n",
    "$$\n",
    "$$\n",
    "  \\mathrm{P}(A|b) = \\dfrac{1}{1+c_1} = 0.679, \\quad \\mathrm{P}(B|b) = \\dfrac{c_1}{1+c_1} = 0.321\n",
    "$$"
   ]
  },
  {
   "cell_type": "code",
   "execution_count": 7,
   "metadata": {},
   "outputs": [
    {
     "name": "stdout",
     "output_type": "stream",
     "text": [
      "0.47368421052631576\n",
      "0.6785714285714286\n"
     ]
    }
   ],
   "source": [
    "c1 = 0.05/0.95 * 0.9/0.1\n",
    "print(c1)\n",
    "print(1/(1+c1))"
   ]
  },
  {
   "cell_type": "markdown",
   "metadata": {},
   "source": [
    "Вернёмся к датчикам из **задачи 3**.\n",
    "\n",
    "Формулу ([3](#mjx-eqn-eq:chances)) можно применить ещё раз, тогда апостериорные шансы после первого измерения станут априорными для второго измерения (при условии его независимости).\n",
    "\n",
    "В итоге получаем красивый результат: при объединении всех этапов процесс эквивалентен *умножению независимых отношений правдоподобия* и формированию общего *составного отношения правдоподобия*.\n",
    "А апостериорные шансы равны произведению априорных шансов на общее отношение правдоподобия всех фактов.\n",
    "\n",
    "$$\n",
    "  c_2 = \\dfrac{\\mathrm{P}(B|b_1 b_2)}{\\mathrm{P}(A|b_1 b_2)} = \\dfrac{\\mathrm{P}(B)}{\\mathrm{P}(A)} \\cdot \\dfrac{\\mathrm{P}(b_1|B)}{\\mathrm{P}(b_1|A)} \\cdot \\dfrac{\\mathrm{P}(b_2|B)}{\\mathrm{P}(b_2|A)}\n",
    "  = \\dfrac{0.05}{0.95} \\cdot \\frac{0.9}{0.1} \\cdot \\dfrac{0.9}{0.1} = 4.263.\n",
    "$$\n",
    "\n",
    "В итоге искомая условная вероятность равна\n",
    "$$ \\mathrm{P}(B|b_1 b_2) = \\dfrac{c_2}{1+c_2} = 0.81. $$"
   ]
  },
  {
   "cell_type": "code",
   "execution_count": 8,
   "metadata": {},
   "outputs": [
    {
     "name": "stdout",
     "output_type": "stream",
     "text": [
      "4.263157894736842\n",
      "0.8099999999999999\n"
     ]
    }
   ],
   "source": [
    "c2 = c1 * 0.9/0.1\n",
    "print(c2)\n",
    "print(c2/(1+c2))"
   ]
  },
  {
   "cell_type": "code",
   "execution_count": 9,
   "metadata": {},
   "outputs": [],
   "source": [
    "def c_post(c_prior, le, n):\n",
    "    '''posterior chances via prior chances and likelihood estimation'''\n",
    "    return c_prior * le**n"
   ]
  },
  {
   "cell_type": "code",
   "execution_count": 10,
   "metadata": {},
   "outputs": [],
   "source": [
    "# Generate data\n",
    "N = np.arange(0, 11, 1)\n",
    "C = c_post(0.05/0.95, 9., N)\n",
    "P = C / (1 + C)"
   ]
  },
  {
   "cell_type": "code",
   "execution_count": 11,
   "metadata": {},
   "outputs": [
    {
     "data": {
      "image/png": "[encoded data removed]",
      "text/plain": [
       "<Figure size 1200x500 with 2 Axes>"
      ]
     },
     "metadata": {},
     "output_type": "display_data"
    }
   ],
   "source": [
    "# Show data\n",
    "fig, (ax1, ax2) = plt.subplots(nrows=1, ncols=2, figsize=(12,5))\n",
    "\n",
    "ax1.plot(N, P, '-o')\n",
    "ax1.set_xlabel('кол-во датчиков')\n",
    "ax1.set_ylabel('вероятность успеха', rotation=90)\n",
    "\n",
    "ax2.plot(N, 1-P, '-o')\n",
    "ax2.set_yscale('log')\n",
    "ax2.set_xlabel('кол-во датчиков')\n",
    "ax2.set_ylabel('вероятность ошибки', rotation=90)\n",
    "plt.show()"
   ]
  },
  {
   "cell_type": "markdown",
   "metadata": {},
   "source": [
    "### Дополнительно\n",
    "\n",
    "*Взято из книги Д. Шпигельхалтера &laquo;Искусство статистики. Как находить ответы в данных&raquo;*"
   ]
  },
  {
   "cell_type": "markdown",
   "metadata": {},
   "source": [
    "#### Отношение правдоподобия и экспертиза"
   ]
  },
  {
   "cell_type": "markdown",
   "metadata": {},
   "source": [
    "Согласно популярному мнению, распространению которого активно способствовал Уильям Шекспир, Ричард III был злобным горбуном.\n",
    "И хотя это довольно спорная (впоследствии опровергнутая) точка зрения, доподлинно известно, что он был убит в битве при Босворте 22 августа 1485 года в возрасте 32 лет, что фактически положило конец войне Алой и Белой розы.\n",
    "Тело его было после смерти изувечено и захоронено в монастыре Грейфрайерс в Лестере, который впоследствии был разрушен, а через какое-то время на его месте построили автостоянку.\n",
    "\n",
    "С учетом только предоставленной информации мы можем предположить, что скелет принадлежит Ричарду III, если истинны все нижеперечисленные условия:\n",
    "\n",
    " - он действительно похоронен в монастыре Грейфрайерс;\n",
    " - его тело не было выкопано, перемещено или уничтожено за следующие 527 лет;\n",
    " - первый обнаруженный скелет действительно принадлежит Ричарду.\n",
    " \n",
    "Предположим с изрядной долей пессимизма, что история о его похоронах правдива с вероятностью $50\\,\\%$ и что вероятность того, что скелет по-прежнему находится в месте захоронения в Грейфрайерсе, тоже $50\\,\\%$.\n",
    "Представьте, что в указанном месте похоронено еще 100 тел.\n",
    "Тогда вероятность того, что все вышеуказанные события подлинны, равна $\\frac{1}{2} \\times \\frac{1}{2} \\times \\frac{1}{100} = \\frac{1}{400}$.\n",
    "Это довольно низкая вероятность того, что найденный скелет &mdash; Ричард III; исследователи, которые первоначально проводили анализ, приняли &laquo;скептическую&raquo; априорную вероятность равной $\\frac{1}{40}$, так что мы гораздо скептичнее."
   ]
  },
  {
   "cell_type": "markdown",
   "metadata": {},
   "source": [
    "Однако детально исследовав скелет, археологи получили несколько примечательных результатов криминалистических экспертиз:\n",
    "\n",
    "1. данные радиоуглеродного анализа костей (который дал 95-процентную вероятность, что они датируются периодом с 1456 по 1536 год);\n",
    "1. подтверждение, что это был мужчина в возрасте около 30 лет с признаками сколиоза (искривления позвоночника);\n",
    "1. доказательства того, что тело было изувечено после смерти и др.\n",
    "\n",
    "Ценность каждого из фактов-доказательств можно выразить через их отношения правдоподобия\n",
    "которые в данном случае определяются как отношение вероятности факта при условии, что это скелет Ричарда III к вероятности этого же факта при условии, что это скелет НЕ Ричарда III.\n",
    "\n",
    "В таблице ниже показана шкала со словесными формулировками, рекомендованная для использования в английском суде."
   ]
  },
  {
   "cell_type": "markdown",
   "metadata": {},
   "source": [
    "**Таблица 1.** Рекомендуемые словесные интерпретации для отношений правдоподобия при предоставлении результатов криминалистической экспертизы в суде\n",
    "\n",
    "Отн. правдоподобия | Формулировка\n",
    ":---               | :---\n",
    "1&ndash;10     | Слабое подтверждение\n",
    "10&ndash;100   | Умеренное подтверждение\n",
    "100&ndash;1 000 | Умеренно сильное подтверждение\n",
    "1 000&ndash;10 000 | Сильное подтверждение\n",
    "10 000&ndash;100 000 | Очень сильное подтверждение\n",
    "100 000&ndash;1 000 000 | Чрезвычайно сильное подтверждение"
   ]
  },
  {
   "cell_type": "markdown",
   "metadata": {},
   "source": [
    "**Таблица 2.** Отношения правдоподобия для отдельных фактов-доказательств в отношении скелета, найденного в Лестере. Сравниваются гипотезы, это скелет Ричарда III или нет.\n",
    "\n",
    "Доказательство                  | Отн. правд. | Формулировка\n",
    ":---                            | :---        | :---\n",
    "Радиоуглеродное датирование     | 1.8         | Слабое подтверждение\n",
    "Возраст и пол                   | 5.3         | Слабое подтверждение\n",
    "Сколиоз                         | 212         | Умеренно сильное подтверждение\n",
    "Раны после смерти               | 42          | Умеренное подтверждение\n",
    "Совпадение митохондриальной ДНК | 478         | Умеренно сильное подтверждение\n",
    "Несовпадение Y-хромосомы        | 0.16        | Слабое свидетельство против\n",
    "Объединённое подтверждение      | 6.5e6       | Чрезвычайно сильное подтверждение"
   ]
  },
  {
   "cell_type": "markdown",
   "metadata": {},
   "source": [
    "Насколько убедительны эти доказательства? Вспомните, что, прежде чем перейти к вычислениям отношений правдоподобия, мы сделали консервативную оценку $\\frac{1}{400}$, что это скелет Ричарда III.\n",
    "Это соответствует примерным начальным шансам 1 к 400.\n",
    "Тогда по теореме Байеса мы получаем для апостериорных шансов число $\\frac{6.5e6}{400} = 16250$. Таким образом, даже будучи предельно осторожными с оценкой априорных шансов и отношения правдоподобия, мы можем сказать, что шансы на то, что это скелет короля Ричарда, составляют\n",
    "примерно 16 250 против 1."
   ]
  },
  {
   "cell_type": "markdown",
   "metadata": {},
   "source": [
    "#### Жульничает ли архиепископ Кентерберийский?"
   ]
  },
  {
   "cell_type": "markdown",
   "metadata": {},
   "source": [
    "Известный экономист Джон Кейнс, изучая теорию вероятностей, придумал мысленный эксперимент,\n",
    "демонстрирующий важность учёта начальных шансов при оценке последствий.\n",
    "\n",
    "В этом упражнении он просил представить, что вы играете в покер с архиепископом Кентерберийским, который в первом же круге сдает себе роял-флеш.\n",
    "Следует ли нам подозревать его в жульничестве?\n",
    "\n",
    "Отношение правдоподобия для этого события равно отношению вероятности комбинации\n",
    "роял-флеш при условии, что архиепископ жульничает к вероятности комбинации роял-флеш при условии, что архиепископу просто повезло.\n",
    "\n",
    "Будем считать, что числитель равен единице, а вероятность в знаменателе можно вычислить как $\\dfrac{1}{C^5_{52}} = \\dfrac{1}{649740}$.\n",
    "Тогда отношение правдоподобия составит примерно $6.5e5$, что означает &laquo;очень сильное подтверждение&raquo;, что архиепископ жульничает.\n",
    "Но должны ли мы делать этот вывод?\n",
    "\n",
    "Как говорит формула Байеса, апостериорные шансы равны произведению отношения правдоподобия на априорные шансы.\n",
    "Кажется разумным предположить, что шансы на то, что архиепископ не жульничает, крайне высоки, возможно, $1e7$ к 1, учитывая его высокий духовный сан.\n",
    "Поэтому произведение таких шансов и отношения правдоподобия даст нам $\\dfrac{6.5e5}{1e7}$, то есть 6.5 к 100, что соответствует вероятности $\\dfrac{6.5}{106.5} = 6\\,\\%$, что он жульничает.\n",
    "Таким образом, на этом этапе мы можем себе позволить дать ему кредит доверия (чего не сделали бы по отношению к человеку, с которым, скажем, только что столкнулись в пабе)."
   ]
  },
  {
   "cell_type": "markdown",
   "metadata": {},
   "source": [
    "**Пример:** риторический приём А. Невзорова."
   ]
  },
  {
   "cell_type": "markdown",
   "metadata": {},
   "source": [
    "---"
   ]
  },
  {
   "cell_type": "markdown",
   "metadata": {
    "lines_to_next_cell": 0,
    "slideshow": {
     "slide_type": "slide"
    }
   },
   "source": [
    "## Источники\n",
    "\n",
    "1. *Ширяев А.Н.* Вероятность &mdash; 1. &mdash; М.: МЦНМО, 2007. &mdash; 517 с.\n",
    "1. *Чернова Н.И.* Теория вероятностей. Учебное пособие. &mdash; Новосиб. гос. ун-т, 2007. &mdash; 160 с.\n",
    "1. *Феллер В.* Введение в теорию вероятностей и её приложения. &mdash; М.: Мир, 1964. &mdash; 498 с.\n",
    "1. *Шпигельхалтер Д.* Искусство статистики. Как находить ответы в данных. &mdash; М.: МИФ, 2021. &mdash; 448 с."
   ]
  },
  {
   "cell_type": "code",
   "execution_count": 12,
   "metadata": {
    "lines_to_next_cell": 2
   },
   "outputs": [
    {
     "name": "stdout",
     "output_type": "stream",
     "text": [
      "Python: 3.7.16\n",
      "numpy: 1.20.3\n",
      "matplotlib: 3.5.1\n",
      "seaborn: 0.12.2\n"
     ]
    }
   ],
   "source": [
    "# Versions used\n",
    "import sys\n",
    "print('Python: {}.{}.{}'.format(*sys.version_info[:3]))\n",
    "print('numpy: {}'.format(np.__version__))\n",
    "print('matplotlib: {}'.format(matplotlib.__version__))\n",
    "print('seaborn: {}'.format(seaborn.__version__))"
   ]
  }
 ],
 "metadata": {
  "jupytext": {
   "encoding": "# -*- coding: utf-8 -*-",
   "formats": "ipynb,py:light"
  },
  "kernelspec": {
   "display_name": "Python 3 (ipykernel)",
   "language": "python",
   "name": "python3"
  },
  "language_info": {
   "codemirror_mode": {
    "name": "ipython",
    "version": 3
   },
   "file_extension": ".py",
   "mimetype": "text/x-python",
   "name": "python",
   "nbconvert_exporter": "python",
   "pygments_lexer": "ipython3",
   "version": "3.7.16"
  },
  "toc": {
   "base_numbering": 1,
   "nav_menu": {},
   "number_sections": true,
   "sideBar": true,
   "skip_h1_title": true,
   "title_cell": "Содержание",
   "title_sidebar": "Contents",
   "toc_cell": true,
   "toc_position": {
    "height": "calc(100% - 180px)",
    "left": "10px",
    "top": "150px",
    "width": "243.375px"
   },
   "toc_section_display": true,
   "toc_window_display": true
  }
 },
 "nbformat": 4,
 "nbformat_minor": 4
}
