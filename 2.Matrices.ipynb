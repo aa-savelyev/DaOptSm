{
 "cells": [
  {
   "cell_type": "markdown",
   "metadata": {
    "slideshow": {
     "slide_type": "slide"
    }
   },
   "source": [
    "**Лекция 2**\n",
    "\n",
    "# Матрицы и действия над ними #"
   ]
  },
  {
   "cell_type": "markdown",
   "metadata": {
    "toc": true
   },
   "source": [
    "<h1>Содержание<span class=\"tocSkip\"></span></h1>\n",
    "<div class=\"toc\"><ul class=\"toc-item\"><li><span><a href=\"#Обозначения\" data-toc-modified-id=\"Обозначения-1\"><span class=\"toc-item-num\">1&nbsp;&nbsp;</span>Обозначения</a></span></li><li><span><a href=\"#Умножение-матриц\" data-toc-modified-id=\"Умножение-матриц-2\"><span class=\"toc-item-num\">2&nbsp;&nbsp;</span>Умножение матриц</a></span><ul class=\"toc-item\"><li><span><a href=\"#Способ-1:-«строка-на-столбец»\" data-toc-modified-id=\"Способ-1:-«строка-на-столбец»-2.1\"><span class=\"toc-item-num\">2.1&nbsp;&nbsp;</span>Способ 1: «строка на столбец»</a></span></li><li><span><a href=\"#Способ-2:-«столбец-на-строку»\" data-toc-modified-id=\"Способ-2:-«столбец-на-строку»-2.2\"><span class=\"toc-item-num\">2.2&nbsp;&nbsp;</span>Способ 2: «столбец на строку»</a></span></li><li><span><a href=\"#Способ-3:-«столбец-на-столбец»\" data-toc-modified-id=\"Способ-3:-«столбец-на-столбец»-2.3\"><span class=\"toc-item-num\">2.3&nbsp;&nbsp;</span>Способ 3: «столбец на столбец»</a></span></li><li><span><a href=\"#Способ-4:-«строка-на-строку»\" data-toc-modified-id=\"Способ-4:-«строка-на-строку»-2.4\"><span class=\"toc-item-num\">2.4&nbsp;&nbsp;</span>Способ 4: «строка на строку»</a></span></li></ul></li><li><span><a href=\"#Источники\" data-toc-modified-id=\"Источники-3\"><span class=\"toc-item-num\">3&nbsp;&nbsp;</span>Источники</a></span></li></ul></div>"
   ]
  },
  {
   "cell_type": "markdown",
   "metadata": {},
   "source": [
    "---"
   ]
  },
  {
   "cell_type": "markdown",
   "metadata": {},
   "source": [
    "## Обозначения ##\n",
    "\n",
    "Для начала введём обозначения. Вектор будем записывать в виде столбца и обозначать стрелочкой $\\vec{a}$ или жирной буквой $\\mathbf{a}$.\n",
    "Строку будем обозначать с помощью звёздочки $\\vec{a}^*$ или $\\mathbf{a}^*$:\n",
    "$$\n",
    "  \\mathbf{a} =\n",
    "  \\begin{pmatrix}\n",
    "     a_1    \\\\\n",
    "     \\cdots \\\\\n",
    "     a_n    \\\\\n",
    "  \\end{pmatrix},\n",
    "  \\mathbf{a}^* = (a_1, \\ldots, a_n).\n",
    "$$"
   ]
  },
  {
   "cell_type": "markdown",
   "metadata": {},
   "source": [
    "---"
   ]
  },
  {
   "cell_type": "markdown",
   "metadata": {},
   "source": [
    "## Умножение матриц ##\n",
    "\n",
    "Рассмотрим 4 способа умножения матриц $A \\cdot B = C$:\n",
    "\n",
    "1. Строка на столбец\n",
    "1. Столбец на строку\n",
    "1. Столбец на столбец\n",
    "1. Строка на строку"
   ]
  },
  {
   "cell_type": "markdown",
   "metadata": {},
   "source": [
    "### Способ 1: &laquo;строка на столбец&raquo; ###\n",
    "\n",
    "Это стандартный способ умножения матриц: $\\mathbf{c_{ij}} = \\mathbf{a}_i^* \\cdot \\mathbf{b}_j$.\n",
    "\n",
    "**Пример 1.** Скалярное произведение векторов $\\mathbf{a}$ и $\\mathbf{b}$:\n",
    "$$ (\\mathbf{a}, \\mathbf{b}) = \\mathbf{a}^\\top \\cdot \\mathbf{b}. $$"
   ]
  },
  {
   "cell_type": "markdown",
   "metadata": {},
   "source": [
    "### Способ 2: &laquo;столбец на строку&raquo; ###\n",
    "\n",
    "Существует другой способ умножения матриц.\n",
    "Произведение $AB$ равно *сумме произведений* всех столбцов матрицы $A$ на соответствующие строки матрицы $B$.\n",
    "$$ A \\cdot B = \\sum_i \\mathbf{a}_i \\cdot \\mathbf{b}_i^*. $$\n",
    "\n",
    "**Пример 2.**\n",
    "$$\n",
    "  \\begin{pmatrix}\n",
    "     1 & 2 \\\\\n",
    "     0 & 2 \\\\\n",
    "  \\end{pmatrix}\n",
    "  \\cdot\n",
    "  \\begin{pmatrix}\n",
    "     0 & 5 \\\\\n",
    "     1 & 1 \\\\\n",
    "  \\end{pmatrix}\n",
    "  =\n",
    "  \\begin{pmatrix}\n",
    "     1 \\\\\n",
    "     0 \\\\\n",
    "  \\end{pmatrix}\n",
    "  \\cdot\n",
    "  \\begin{pmatrix}\n",
    "     0 & 5 \\\\\n",
    "  \\end{pmatrix}\n",
    "  +\n",
    "  \\begin{pmatrix}\n",
    "     2 \\\\\n",
    "     2 \\\\\n",
    "  \\end{pmatrix}\n",
    "  \\cdot\n",
    "  \\begin{pmatrix}\n",
    "     1 & 1 \\\\\n",
    "  \\end{pmatrix}\n",
    "  =\n",
    "  \\begin{pmatrix}\n",
    "     0 & 5 \\\\\n",
    "     0 & 0 \\\\\n",
    "  \\end{pmatrix}\n",
    "  +\n",
    "  \\begin{pmatrix}\n",
    "     2 & 2 \\\\\n",
    "     2 & 2 \\\\\n",
    "  \\end{pmatrix}\n",
    "  =\n",
    "  \\begin{pmatrix}\n",
    "     2 & 7 \\\\\n",
    "     2 & 2 \\\\\n",
    "  \\end{pmatrix}.\n",
    "$$"
   ]
  },
  {
   "cell_type": "markdown",
   "metadata": {},
   "source": [
    "**Пример 3.** Разложение матрицы на сумму матриц ранга 1.\n",
    "\n",
    "Представим матрицу в виде произведения двух матриц и применим умножение &laquo;столбец на строку&raquo;:\n",
    "$$\n",
    "  A = \n",
    "  \\begin{pmatrix}\n",
    "     1 & 2 & 3 \\\\\n",
    "     2 & 1 & 3 \\\\\n",
    "     3 & 1 & 4 \\\\\n",
    "  \\end{pmatrix}\n",
    "  =\n",
    "  \\begin{pmatrix}\n",
    "     1 & 2 \\\\\n",
    "     2 & 1 \\\\\n",
    "     3 & 1 \\\\\n",
    "  \\end{pmatrix}\n",
    "  \\cdot\n",
    "  \\begin{pmatrix}\n",
    "     1 & 0 & 1 \\\\\n",
    "     0 & 1 & 1 \\\\\n",
    "  \\end{pmatrix}\n",
    "  =\n",
    "  \\begin{pmatrix}\n",
    "     1 & 0 & 1 \\\\\n",
    "     2 & 0 & 2 \\\\\n",
    "     3 & 0 & 3 \\\\\n",
    "  \\end{pmatrix}\n",
    "  +\n",
    "  \\begin{pmatrix}\n",
    "     0 & 2 & 2 \\\\\n",
    "     0 & 1 & 1 \\\\\n",
    "     0 & 1 & 1 \\\\\n",
    "  \\end{pmatrix}.\n",
    "$$"
   ]
  },
  {
   "cell_type": "markdown",
   "metadata": {},
   "source": [
    "### Способ 3: &laquo;столбец на столбец&raquo; ###\n",
    "\n",
    "Посмотрим внимательно на то, как мы получили первый столбец результирующей матрицы.\n",
    "Он является суммой столбцов матрицы $A$ с коэффициентами из первого столбца матрицы $B$!\n",
    "То же самое можно сказать и про второй столбец.\n",
    "Таким образом, можно сформулировать следующее правило: \\\n",
    "*$\\mathbf{i}$-ый столбец результирующей матрицы есть линейная комбинация столбцов левой матрицы с коэффициентами из $\\mathbf{i}$-ого столбца правой матрицы.*"
   ]
  },
  {
   "cell_type": "markdown",
   "metadata": {},
   "source": [
    "### Способ 4: &laquo;строка на строку&raquo; ###\n",
    "\n",
    "Аналогичным образом можно вывести правило и для строк: \\\n",
    "*$\\mathbf{i}$-ая строка результирующей матрицы есть линейная комбинация строк правой матрицы с коэффициентами из $\\mathbf{i}$-ой строки левой матрицы.*"
   ]
  },
  {
   "cell_type": "markdown",
   "metadata": {
    "slideshow": {
     "slide_type": "slide"
    }
   },
   "source": [
    "**Пример 4. Умножение матрицы на вектор**\n",
    "\n",
    "Рассмотрим умножение матрицы $A$ размером $m \\times n$ на вектор: $A \\mathbf{x}$.\n",
    "\n",
    "По определению произведение $A \\mathbf{x}$ есть вектор, в котором на $i$-ом месте находится скалярное произведение $i$-ой *строки* на столбец $\\mathbf{x}$:\n",
    "$$\n",
    "  A \\mathbf{x} = \n",
    "  \\begin{pmatrix}\n",
    "    -\\, \\mathbf{a}_1^* \\,- \\\\\n",
    "    \\cdots \\\\\n",
    "    -\\, \\mathbf{a}_i^* \\,- \\\\\n",
    "    \\cdots \\\\\n",
    "    -\\, \\mathbf{a}_m^* \\,- \\\\\n",
    "  \\end{pmatrix}\n",
    "  \\cdot \\mathbf{x} = \n",
    "  \\begin{pmatrix}\n",
    "    \\mathbf{a}_1^* \\cdot \\mathbf{x} \\\\\n",
    "    \\cdots \\\\\n",
    "    \\mathbf{a}_i^* \\cdot \\mathbf{x} \\\\\n",
    "    \\cdots \\\\\n",
    "    \\mathbf{a}_m^* \\cdot \\mathbf{x} \\\\\n",
    "  \\end{pmatrix}.\n",
    "$$\n",
    "\n",
    "Но можно посмотреть на это иначе, как на произведение *столбцов* матрицы $A$ на элементы вектора $\\mathbf{x}$:\n",
    "$$\n",
    "  A \\mathbf{x} = \n",
    "  \\begin{pmatrix}\n",
    "     | & {} & | & {} & | \\\\\n",
    "     \\mathbf{a}_1 & \\cdots & \\mathbf{a}_i & \\cdots & \\mathbf{a}_n \\\\\n",
    "     | & {} & | & {} & | \\\\\n",
    "  \\end{pmatrix}\n",
    "  \\begin{pmatrix}\n",
    "     x_1    \\\\\n",
    "     \\cdots \\\\\n",
    "     x_i    \\\\\n",
    "     \\cdots \\\\\n",
    "     x_m \\\\\n",
    "  \\end{pmatrix}\n",
    "  = \n",
    "  x_1 \\mathbf{a}_1 + \\dots + x_i \\mathbf{a}_i + \\dots + x_m \\mathbf{a}_m.\n",
    "$$\n",
    "Таким образом, результирующий вектор есть *линейная комбинация* столбцов матрицы $A$ с коэффициентами из вектора $\\mathbf{x}$."
   ]
  },
  {
   "cell_type": "markdown",
   "metadata": {},
   "source": [
    "**Пример 5. Умножение столбцов (строк) матрицы на скаляры**\n",
    "\n",
    "Чтобы каждый вектор матрицы $A$ умножить на скаляр $\\lambda_i$, нужно умножить $A$ на матрицу $\\Lambda = \\mathrm{diag}(\\lambda_i)$ *справа*:\n",
    "$$\n",
    "  \\begin{pmatrix}\n",
    "    | & {} & | \\\\\n",
    "    \\lambda_1 \\mathbf{a}_1 & \\cdots & \\lambda_n \\mathbf{a}_n \\\\\n",
    "    | & {} & | \\\\\n",
    "  \\end{pmatrix}\n",
    "  =\n",
    "  \\begin{pmatrix}\n",
    "    | & {} & | \\\\\n",
    "    \\mathbf{a}_1 & \\cdots & \\mathbf{a}_n \\\\\n",
    "    | & {} & | \\\\\n",
    "  \\end{pmatrix}\n",
    "  \\begin{pmatrix}\n",
    "    \\lambda_{1} & \\ldots & 0         \\\\\n",
    "    \\vdots      & \\ddots & \\vdots    \\\\\n",
    "    0           & \\ldots & \\lambda_n \\\\\n",
    "  \\end{pmatrix}\n",
    "  = A \\cdot \\Lambda.\n",
    "$$\n",
    "\n",
    "Чтобы проделать то же самое со строками матрицы, её нужно умножить на $\\Lambda$ *слева*:\n",
    "$$\n",
    "  \\begin{pmatrix}\n",
    "    -\\, \\lambda_1 \\mathbf{a}_1^* \\,- \\\\\n",
    "    \\cdots \\\\\n",
    "    -\\, \\lambda_m \\mathbf{a}_m^* \\,- \\\\\n",
    "  \\end{pmatrix}\n",
    "  =\n",
    "  \\begin{pmatrix}\n",
    "    \\lambda_{1} & \\ldots & 0         \\\\\n",
    "    \\vdots      & \\ddots & \\vdots    \\\\\n",
    "    0           & \\ldots & \\lambda_n \\\\\n",
    "  \\end{pmatrix}\n",
    "  \\begin{pmatrix}\n",
    "    -\\, \\mathbf{a}_1^* \\,- \\\\\n",
    "    \\cdots \\\\\n",
    "    -\\, \\mathbf{a}_m^* \\,- \\\\\n",
    "  \\end{pmatrix}\n",
    "  = \\Lambda \\cdot A.\n",
    "$$"
   ]
  },
  {
   "cell_type": "markdown",
   "metadata": {},
   "source": [
    "**Пример 6. Умножение блочных матриц**\n",
    "\n",
    "Рассмотрим блочную матрицу следующего вида: \n",
    "$$ A = \\begin{pmatrix} A_1 \\\\ A_2 \\\\ \\end{pmatrix}. $$\n",
    "\n",
    "1. Формулу для $A A^\\top$ получим по способу &laquo;строка на столбец&raquo;:\n",
    "$$\n",
    "  A A^\\top = \n",
    "  \\begin{pmatrix}\n",
    "    A_1 \\\\\n",
    "    A_2 \\\\\n",
    "  \\end{pmatrix}\n",
    "  \\cdot\n",
    "  \\begin{pmatrix}\n",
    "    A_1^\\top & A_2^\\top \\\\\n",
    "  \\end{pmatrix}\n",
    "  =\n",
    "  \\begin{pmatrix}\n",
    "    A_1 A_1^\\top & A_1 A_2^\\top \\\\\n",
    "    A_2 A_2^\\top & A_2 A_2^\\top \\\\\n",
    "  \\end{pmatrix}\n",
    "$$\n",
    "2. Для $A^\\top A$ удобно применить способ &laquo;столбец на строку&raquo;:\n",
    "$$\n",
    "  A^\\top A =\n",
    "  \\begin{pmatrix}\n",
    "    A_1^\\top & A_2^\\top \\\\\n",
    "  \\end{pmatrix}\n",
    "  \\begin{pmatrix}\n",
    "    A_1 \\\\\n",
    "    A_2 \\\\\n",
    "  \\end{pmatrix}\n",
    "  = A_1^\\top A_1 + A_2^\\top A_2\n",
    "$$"
   ]
  },
  {
   "cell_type": "markdown",
   "metadata": {
    "slideshow": {
     "slide_type": "skip"
    }
   },
   "source": [
    "---"
   ]
  },
  {
   "cell_type": "markdown",
   "metadata": {
    "lines_to_next_cell": 0,
    "slideshow": {
     "slide_type": "slide"
    }
   },
   "source": [
    "## Источники ##\n",
    "\n",
    "1. *Strang G.* Linear algebra and learning from data. &mdash; Wellesley-Cambridge Press, 2019. &mdash; 432 p.\n",
    "1. *Гантмахер Ф.Р.* Теория матриц. &mdash; М.: Наука, 1967. &mdash; 576 с."
   ]
  },
  {
   "cell_type": "code",
   "execution_count": null,
   "metadata": {
    "lines_to_next_cell": 2
   },
   "outputs": [],
   "source": []
  }
 ],
 "metadata": {
  "jupytext": {
   "encoding": "# -*- coding: utf-8 -*-",
   "formats": "ipynb,py:light"
  },
  "kernelspec": {
   "display_name": "Python 3",
   "language": "python",
   "name": "python3"
  },
  "language_info": {
   "codemirror_mode": {
    "name": "ipython",
    "version": 3
   },
   "file_extension": ".py",
   "mimetype": "text/x-python",
   "name": "python",
   "nbconvert_exporter": "python",
   "pygments_lexer": "ipython3",
   "version": "3.7.4"
  },
  "toc": {
   "base_numbering": 1,
   "nav_menu": {},
   "number_sections": true,
   "sideBar": true,
   "skip_h1_title": true,
   "title_cell": "Содержание",
   "title_sidebar": "Contents",
   "toc_cell": true,
   "toc_position": {},
   "toc_section_display": true,
   "toc_window_display": false
  }
 },
 "nbformat": 4,
 "nbformat_minor": 4
}
